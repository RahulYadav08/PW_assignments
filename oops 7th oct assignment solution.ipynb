{
 "cells": [
  {
   "cell_type": "code",
   "execution_count": 1,
   "id": "8b6a7b1a-3ff5-4b22-be3e-d3b2d7aa7e3a",
   "metadata": {},
   "outputs": [],
   "source": [
    "class a :\n",
    "    \n",
    "    def test(self):\n",
    "        print(\"this test method is a part of class a\")\n",
    "        \n",
    "    def test1(self):\n",
    "        print(\"this is test1 from class a \")"
   ]
  },
  {
   "cell_type": "code",
   "execution_count": 2,
   "id": "8e4d306f-fdb4-47a0-a93d-597f5b21d30b",
   "metadata": {},
   "outputs": [],
   "source": [
    "obj_a = a()"
   ]
  },
  {
   "cell_type": "code",
   "execution_count": 3,
   "id": "81ef5597-cf96-4ed9-a4f6-21e2e93aca70",
   "metadata": {},
   "outputs": [
    {
     "name": "stdout",
     "output_type": "stream",
     "text": [
      "this test method is a part of class a\n"
     ]
    }
   ],
   "source": [
    "obj_a.test()"
   ]
  },
  {
   "cell_type": "code",
   "execution_count": 4,
   "id": "11ee63d6-433d-48dc-ada0-5dd6771310ba",
   "metadata": {},
   "outputs": [],
   "source": [
    "class b(a) :\n",
    "    def test1b(self):\n",
    "        print(\"this is a part of class b \")"
   ]
  },
  {
   "cell_type": "code",
   "execution_count": 5,
   "id": "badaedfe-57d1-43c6-9193-e5afb0f31dbc",
   "metadata": {},
   "outputs": [],
   "source": [
    "obj_b = b()"
   ]
  },
  {
   "cell_type": "code",
   "execution_count": 6,
   "id": "3ce19f61-ba8e-4050-9d4d-614adfd964c5",
   "metadata": {},
   "outputs": [
    {
     "name": "stdout",
     "output_type": "stream",
     "text": [
      "this test method is a part of class a\n"
     ]
    }
   ],
   "source": [
    "obj_b.test()"
   ]
  },
  {
   "cell_type": "code",
   "execution_count": 7,
   "id": "5e473fae-e094-4407-99df-16a04ab4c80a",
   "metadata": {},
   "outputs": [
    {
     "name": "stdout",
     "output_type": "stream",
     "text": [
      "this is test1 from class a \n"
     ]
    }
   ],
   "source": [
    "obj_b.test1()"
   ]
  },
  {
   "cell_type": "code",
   "execution_count": 9,
   "id": "02a8f055-535f-4bc2-adc1-575445f82570",
   "metadata": {},
   "outputs": [
    {
     "name": "stdout",
     "output_type": "stream",
     "text": [
      "this is a part of class b \n"
     ]
    }
   ],
   "source": [
    "obj_b.test1b()"
   ]
  },
  {
   "cell_type": "code",
   "execution_count": 10,
   "id": "59361cd3-c0c4-4ddd-abac-cbe3275ade5f",
   "metadata": {},
   "outputs": [],
   "source": [
    "class lecture:\n",
    "    \n",
    "    def topic(self):\n",
    "        print(\"todays class we are discussing about inheritance condept in oops\")\n",
    "        \n",
    "    def timing(self):\n",
    "        print(\"timing for todays class is 9 AM IST\")\n",
    "        \n",
    "    def end_time(self):\n",
    "        print(\"today i will try to end class bit early\")"
   ]
  },
  {
   "cell_type": "code",
   "execution_count": 11,
   "id": "6e3dd2de-883e-4e9e-98a0-4a7089af1627",
   "metadata": {},
   "outputs": [],
   "source": [
    "class student(lecture):\n",
    "    \n",
    "    def student_details(self):\n",
    "        print(\"this class will give you a student details\")"
   ]
  },
  {
   "cell_type": "code",
   "execution_count": 12,
   "id": "c2ad2a89-0f29-4410-86c4-e33f47b4186d",
   "metadata": {},
   "outputs": [],
   "source": [
    "naval = student()"
   ]
  },
  {
   "cell_type": "code",
   "execution_count": 13,
   "id": "38c86e7f-5560-464a-b597-c88a74819f1a",
   "metadata": {},
   "outputs": [
    {
     "name": "stdout",
     "output_type": "stream",
     "text": [
      "todays class we are discussing about inheritance condept in oops\n"
     ]
    }
   ],
   "source": [
    "naval.topic()"
   ]
  },
  {
   "cell_type": "code",
   "execution_count": 14,
   "id": "02efc8a4-f995-4f85-87d2-620ccc0f61fa",
   "metadata": {},
   "outputs": [
    {
     "name": "stdout",
     "output_type": "stream",
     "text": [
      "timing for todays class is 9 AM IST\n"
     ]
    }
   ],
   "source": [
    "satish = student()\n",
    "satish.timing()"
   ]
  },
  {
   "cell_type": "code",
   "execution_count": 15,
   "id": "03932972-a58b-46e5-a3f8-ffc43c84ce53",
   "metadata": {},
   "outputs": [],
   "source": [
    "class teacher(student):\n",
    "    def details(self):\n",
    "        print(\"this will give you a details about teacher\")"
   ]
  },
  {
   "cell_type": "code",
   "execution_count": 16,
   "id": "fff36c1b-f1e9-467e-b29f-c304aa9feec9",
   "metadata": {},
   "outputs": [
    {
     "name": "stdout",
     "output_type": "stream",
     "text": [
      "timing for todays class is 9 AM IST\n"
     ]
    }
   ],
   "source": [
    "sudh = teacher()\n",
    "sudh.timing()"
   ]
  },
  {
   "cell_type": "code",
   "execution_count": 17,
   "id": "a5e8c94b-de62-4ef5-8eba-81259d83dd3d",
   "metadata": {},
   "outputs": [],
   "source": [
    "class lecture:\n",
    "    def topic(self):\n",
    "        print(\"todays class we are discussing about inheritance condept in oops\")\n",
    "        \n",
    "    def timing(self):\n",
    "        print(\"timing for todays class is 9 AM IST\")\n",
    "        \n",
    "    def end_time(self):\n",
    "        print(\"today i will try to end class bit early\")"
   ]
  },
  {
   "cell_type": "code",
   "execution_count": 18,
   "id": "2007141c-1b71-4cd4-9bed-a3cd8d851baa",
   "metadata": {},
   "outputs": [],
   "source": [
    "class student:\n",
    "    \n",
    "    def student_details(self):\n",
    "        print(\"this class will give you a student details\")\n",
    "        \n",
    "    def timing(self):\n",
    "        print(\"this is a timing fun from student class\")\n",
    "        "
   ]
  },
  {
   "cell_type": "code",
   "execution_count": 19,
   "id": "272860d3-1fac-475b-8c09-0490069224bc",
   "metadata": {},
   "outputs": [],
   "source": [
    "class teacher(lecture,student):\n",
    "    def details(self):\n",
    "        print(\"this will give you a details about teacher\")"
   ]
  },
  {
   "cell_type": "code",
   "execution_count": 20,
   "id": "f4a9ae16-f0e3-4a4a-a003-38773611cd2a",
   "metadata": {},
   "outputs": [],
   "source": [
    "krish = teacher()"
   ]
  },
  {
   "cell_type": "code",
   "execution_count": 21,
   "id": "6dc85f37-219e-4c72-927c-9aebb550fea9",
   "metadata": {},
   "outputs": [
    {
     "name": "stdout",
     "output_type": "stream",
     "text": [
      "timing for todays class is 9 AM IST\n"
     ]
    }
   ],
   "source": [
    "krish.timing()"
   ]
  },
  {
   "cell_type": "markdown",
   "id": "86b47d4f-860e-4702-83a0-0145887ab41a",
   "metadata": {},
   "source": [
    "Problem 1: Bank Account Create a class representing a bank account with attributes like account number, account holder name, and balance. Implement methods to deposit and withdraw money from the account.\n",
    "\n",
    "Problem 2: Employee Management Create a class representing an employee with attributes like employee ID, name, and salary. Implement methods to calculate the yearly bonus and display employee details.\n",
    "\n",
    "Problem 3: Vehicle Rental Create a class representing a vehicle rental system. Implement methods to rent a vehicle, return a vehicle, and display available vehicles.\n",
    "\n",
    "Problem 4: Library Catalog Create classes representing a library and a book. Implement methods to add books to the library, borrow books, and display available books.\n",
    "\n",
    "Problem 5: Product Inventory Create classes representing a product and an inventory system. Implement methods to add products to the inventory, update product quantity, and display available products.\n",
    "\n",
    "Problem 6: Shape Calculation Create a class representing a shape with attributes like length, width, and height. Implement methods to calculate the area and perimeter of the shape.\n",
    "\n",
    "Problem 7: Student Management Create a class representing a student with attributes like student ID, name, and grades. Implement methods to calculate the average grade and display student details.\n",
    "\n",
    "Problem 8: Email Management Create a class representing an email with attributes like sender, recipient, and subject. Implement methods to send an email and display email details.\n",
    "\n",
    "Problem 9: Social Media Profile Create a class representing a social media profile with attributes like username and posts. Implement methods to add posts, display posts, and search for posts by keyword.\n",
    "\n",
    "Problem 10: ToDo List Create a class representing a ToDo list with attributes like tasks and due dates. Implement methods to add tasks, mark tasks as completed, and display pending tasks."
   ]
  },
  {
   "cell_type": "code",
   "execution_count": 22,
   "id": "8bcbac88-9172-4a31-a191-9c4b9a1c6eac",
   "metadata": {},
   "outputs": [
    {
     "name": "stdout",
     "output_type": "stream",
     "text": [
      "this class will give you a student details\n"
     ]
    }
   ],
   "source": [
    "krish.student_details()"
   ]
  },
  {
   "cell_type": "code",
   "execution_count": null,
   "id": "fef1683a-faa4-4d27-a0a6-7a742e512e9b",
   "metadata": {},
   "outputs": [],
   "source": [
    "# Class A with test and test1 methods\n",
    "class A:\n",
    "    def test(self):\n",
    "        print(\"this test method is a part of class A\")\n",
    "    \n",
    "    def test1(self):\n",
    "        print(\"this is test1 from class A\")\n",
    "\n",
    "# Creating object of class A\n",
    "obj_a = A()\n",
    "obj_a.test()\n",
    "\n",
    "\n",
    "# Class B inheriting class A\n",
    "class B(A):\n",
    "    def test1b(self):\n",
    "        print(\"this is a part of class B \")\n",
    "\n",
    "# Creating object of class B\n",
    "obj_b = B()\n",
    "obj_b.test()  # Inherited from class A\n",
    "obj_b.test1()  # Inherited from class A\n",
    "obj_b.test1b()  # Defined in class B\n",
    "\n",
    "\n",
    "# Class lecture\n",
    "class Lecture:\n",
    "    def topic(self):\n",
    "        print(\"Today's class we are discussing about inheritance concept in OOPS\")\n",
    "    \n",
    "    def timing(self):\n",
    "        print(\"Timing for today's class is 9 AM IST\")\n",
    "    \n",
    "    def end_time(self):\n",
    "        print(\"Today, I will try to end the class a bit early.\")\n",
    "\n",
    "# Class student inheriting class lecture\n",
    "class Student(Lecture):\n",
    "    def student_details(self):\n",
    "        print(\"This class will give you student details.\")\n",
    "\n",
    "# Creating objects of Student\n",
    "naval = Student()\n",
    "naval.topic()\n",
    "\n",
    "satish = Student()\n",
    "satish.timing()\n",
    "\n",
    "\n",
    "# Class teacher inheriting both Student and Lecture\n",
    "class Teacher(Student):\n",
    "    def details(self):\n",
    "        print(\"This will give you details about the teacher.\")\n",
    "\n",
    "# Creating object of Teacher\n",
    "sudh = Teacher()\n",
    "sudh.timing()\n",
    "\n",
    "\n",
    "# A revised version of class structure with multiple inheritance\n",
    "class Teacher(Lecture, Student):\n",
    "    def details(self):\n",
    "        print(\"This will give you details about the teacher.\")\n",
    "\n",
    "# Creating an object of Teacher\n",
    "krish = Teacher()\n",
    "krish.timing()\n",
    "\n",
    "\n",
    "# Problem 1: Bank Account Class\n",
    "class BankAccount:\n",
    "    def __init__(self, account_number, holder_name, balance):\n",
    "        self.account_number = account_number\n",
    "        self.holder_name = holder_name\n",
    "        self.balance = balance\n",
    "\n",
    "    def deposit(self, amount):\n",
    "        self.balance += amount\n",
    "        print(f\"Deposited {amount}. New balance: {self.balance}\")\n",
    "\n",
    "    def withdraw(self, amount):\n",
    "        if self.balance >= amount:\n",
    "            self.balance -= amount\n",
    "            print(f\"Withdrawn {amount}. New balance: {self.balance}\")\n",
    "        else:\n",
    "            print(\"Insufficient balance\")\n",
    "\n",
    "# Creating an object of BankAccount\n",
    "bank_account = BankAccount(101, \"John Doe\", 5000)\n",
    "bank_account.deposit(1000)\n",
    "bank_account.withdraw(2000)"
   ]
  },
  {
   "cell_type": "code",
   "execution_count": null,
   "id": "361f65ab",
   "metadata": {},
   "outputs": [],
   "source": [
    "# Problem 2: Employee Management Class\n",
    "class Employee:\n",
    "    def __init__(self, employee_id, name, salary):\n",
    "        self.employee_id = employee_id\n",
    "        self.name = name\n",
    "        self.salary = salary\n",
    "\n",
    "    def yearly_bonus(self):\n",
    "        return self.salary * 0.10  # 10% bonus\n",
    "\n",
    "    def display_details(self):\n",
    "        print(f\"Employee ID: {self.employee_id}, Name: {self.name}, Salary: {self.salary}\")\n",
    "\n",
    "# Creating an object of Employee\n",
    "employee = Employee(1, \"Jane Smith\", 50000)\n",
    "employee.display_details()\n",
    "print(f\"Yearly Bonus: {employee.yearly_bonus()}\")"
   ]
  },
  {
   "cell_type": "code",
   "execution_count": null,
   "id": "4334106a",
   "metadata": {},
   "outputs": [],
   "source": [
    "# Problem 3: Vehicle Rental System Class\n",
    "class VehicleRental:\n",
    "    def __init__(self):\n",
    "        self.available_vehicles = [\"Car\", \"Bike\", \"Truck\"]\n",
    "\n",
    "    def rent_vehicle(self, vehicle):\n",
    "        if vehicle in self.available_vehicles:\n",
    "            self.available_vehicles.remove(vehicle)\n",
    "            print(f\"{vehicle} rented successfully.\")\n",
    "        else:\n",
    "            print(f\"{vehicle} not available.\")\n",
    "\n",
    "    def return_vehicle(self, vehicle):\n",
    "        self.available_vehicles.append(vehicle)\n",
    "        print(f\"{vehicle} returned successfully.\")\n",
    "\n",
    "    def display_available_vehicles(self):\n",
    "        print(\"Available Vehicles:\", self.available_vehicles)\n",
    "\n",
    "# Creating an object of VehicleRental\n",
    "rental_system = VehicleRental()\n",
    "rental_system.display_available_vehicles()\n",
    "rental_system.rent_vehicle(\"Car\")\n",
    "rental_system.display_available_vehicles()\n",
    "rental_system.return_vehicle(\"Car\")\n",
    "rental_system.display_available_vehicles()"
   ]
  },
  {
   "cell_type": "code",
   "execution_count": null,
   "id": "3a301695",
   "metadata": {},
   "outputs": [],
   "source": [
    "# Problem 4: Library Catalog System\n",
    "class Book:\n",
    "    def __init__(self, title, author):\n",
    "        self.title = title\n",
    "        self.author = author\n",
    "\n",
    "class Library:\n",
    "    def __init__(self):\n",
    "        self.books = []\n",
    "\n",
    "    def add_book(self, book):\n",
    "        self.books.append(book)\n",
    "        print(f\"Book '{book.title}' added.\")\n",
    "\n",
    "    def borrow_book(self, title):\n",
    "        for book in self.books:\n",
    "            if book.title == title:\n",
    "                self.books.remove(book)\n",
    "                print(f\"Book '{title}' borrowed.\")\n",
    "                return\n",
    "        print(f\"Book '{title}' not available.\")\n",
    "\n",
    "    def display_available_books(self):\n",
    "        print(\"Available Books:\")\n",
    "        for book in self.books:\n",
    "            print(f\"{book.title} by {book.author}\")\n",
    "\n",
    "# Creating an object of Library\n",
    "library = Library()\n",
    "book1 = Book(\"Python Basics\", \"John Doe\")\n",
    "book2 = Book(\"OOP Concepts\", \"Jane Smith\")\n",
    "\n",
    "library.add_book(book1)\n",
    "library.add_book(book2)\n",
    "library.display_available_books()\n",
    "library.borrow_book(\"Python Basics\")\n",
    "library.display_available_books()"
   ]
  },
  {
   "cell_type": "code",
   "execution_count": null,
   "id": "9f7cb664",
   "metadata": {},
   "outputs": [],
   "source": [
    "# Problem 5: Product Inventory System\n",
    "class Product:\n",
    "    def __init__(self, name, quantity):\n",
    "        self.name = name\n",
    "        self.quantity = quantity\n",
    "\n",
    "class Inventory:\n",
    "    def __init__(self):\n",
    "        self.products = []\n",
    "\n",
    "    def add_product(self, product):\n",
    "        self.products.append(product)\n",
    "        print(f\"Product '{product.name}' added.\")\n",
    "\n",
    "    def update_quantity(self, name, quantity):\n",
    "        for product in self.products:\n",
    "            if product.name == name:\n",
    "                product.quantity += quantity\n",
    "                print(f\"Product '{name}' updated. New quantity: {product.quantity}\")\n",
    "                return\n",
    "        print(f\"Product '{name}' not found.\")\n",
    "\n",
    "    def display_products(self):\n",
    "        print(\"Products in Inventory:\")\n",
    "        for product in self.products:\n",
    "            print(f\"{product.name}: {product.quantity}\")\n",
    "\n",
    "# Creating an object of Inventory\n",
    "inventory = Inventory()\n",
    "product1 = Product(\"Laptop\", 10)\n",
    "product2 = Product(\"Phone\", 20)\n",
    "\n",
    "inventory.add_product(product1)\n",
    "inventory.add_product(product2)\n",
    "inventory.display_products()\n",
    "inventory.update_quantity(\"Phone\", 5)\n",
    "inventory.display_products()"
   ]
  },
  {
   "cell_type": "code",
   "execution_count": null,
   "id": "79f703ba",
   "metadata": {},
   "outputs": [],
   "source": [
    "# Problem 6: Shape Calculation Class\n",
    "class Shape:\n",
    "    def __init__(self, length, width, height):\n",
    "        self.length = length\n",
    "        self.width = width\n",
    "        self.height = height\n",
    "\n",
    "    def area(self):\n",
    "        return self.length * self.width\n",
    "\n",
    "    def perimeter(self):\n",
    "        return 2 * (self.length + self.width)\n",
    "\n",
    "# Creating an object of Shape\n",
    "shape = Shape(5, 10, 0)\n",
    "print(f\"Area: {shape.area()}\")\n",
    "print(f\"Perimeter: {shape.perimeter()}\")"
   ]
  },
  {
   "cell_type": "code",
   "execution_count": null,
   "id": "fff94c3c",
   "metadata": {},
   "outputs": [],
   "source": [
    "# Problem 7: Student Management System\n",
    "class StudentManagement:\n",
    "    def __init__(self, student_id, name, grades):\n",
    "        self.student_id = student_id\n",
    "        self.name = name\n",
    "        self.grades = grades\n",
    "\n",
    "    def average_grade(self):\n",
    "        return sum(self.grades) / len(self.grades)\n",
    "\n",
    "    def display_details(self):\n",
    "        print(f\"Student ID: {self.student_id}, Name: {self.name}\")\n",
    "        print(f\"Grades: {self.grades}, Average Grade: {self.average_grade()}\")\n",
    "\n",
    "# Creating an object of StudentManagement\n",
    "student = StudentManagement(101, \"John Doe\", [80, 90, 85, 70])\n",
    "student.display_details()"
   ]
  },
  {
   "cell_type": "code",
   "execution_count": null,
   "id": "4cee690a",
   "metadata": {},
   "outputs": [],
   "source": [
    "# Problem 8: Email Management System\n",
    "class Email:\n",
    "    def __init__(self, sender, recipient, subject, body):\n",
    "        self.sender = sender\n",
    "        self.recipient = recipient\n",
    "        self.subject = subject\n",
    "        self.body = body\n",
    "\n",
    "    def send_email(self):\n",
    "        print(f\"Sending email from {self.sender} to {self.recipient} with subject: {self.subject}\")\n",
    "\n",
    "    def display_email_details(self):\n",
    "        print(f\"From: {self.sender}\\nTo: {self.recipient}\\nSubject: {self.subject}\\nBody: {self.body}\")\n",
    "\n",
    "# Creating an object of Email\n",
    "email = Email(\"john@example.com\", \"jane@example.com\", \"Hello\", \"This is a test email.\")\n",
    "email.send_email()\n",
    "email.display_email_details()"
   ]
  },
  {
   "cell_type": "code",
   "execution_count": null,
   "id": "35656e44",
   "metadata": {},
   "outputs": [],
   "source": [
    "# Problem 9: Social Media Profile\n",
    "class SocialMediaProfile:\n",
    "    def __init__(self, username):\n",
    "        self.username = username\n",
    "        self.posts = []\n",
    "\n",
    "    def add_post(self, post):\n",
    "        self.posts.append(post)\n",
    "        print(f\"Post added by {self.username}: {post}\")\n",
    "\n",
    "    def display_posts(self):\n",
    "        print(f\"Posts by {self.username}:\")\n",
    "        for post in self.posts:\n",
    "            print(post)\n",
    "\n",
    "    def search_post(self, keyword):\n",
    "        print(f\"Searching posts with keyword '{keyword}':\")\n",
    "        for post in self.posts:\n",
    "            if keyword in post:\n",
    "                print(post)\n",
    "\n",
    "# Creating an object of SocialMediaProfile\n",
    "profile = SocialMediaProfile(\"john_doe\")\n",
    "profile.add_post(\"Learning Python!\")\n",
    "profile.add_post(\"Working on OOP concepts.\")\n",
    "profile.display_posts()\n",
    "profile.search_post(\"Python\")\n"
   ]
  },
  {
   "cell_type": "code",
   "execution_count": null,
   "id": "30f893c1",
   "metadata": {},
   "outputs": [],
   "source": [
    "# Problem 10: ToDo List\n",
    "class ToDoList:\n",
    "    def __init__(self):\n",
    "        self.tasks = []\n",
    "\n",
    "    def add_task(self, task, due_date):\n",
    "        self.tasks.append({\"task\": task, \"due_date\": due_date, \"completed\": False})\n",
    "        print(f\"Task '{task}' added.\")\n",
    "\n",
    "    def mark_task_completed(self, task):\n",
    "        for t in self.tasks:\n",
    "            if t[\"task\"] == task:\n",
    "                t[\"completed\"] = True\n",
    "                print(f\"Task '{task}' marked as completed.\")\n",
    "                return\n",
    "        print(f\"Task '{task}' not found.\")\n",
    "\n",
    "    def display_pending_tasks(self):\n",
    "        print(\"Pending Tasks:\")\n",
    "        for t in self.tasks:\n",
    "            if not t[\"completed\"]:\n",
    "                print(f\"{t['task']} - Due: {t['due_date']}\")\n",
    "\n",
    "# Creating an object of ToDoList\n",
    "todo_list = ToDoList()\n",
    "todo_list.add_task(\"Complete Python assignment\", \"2023-10-10\")\n",
    "todo_list.add_task(\"Read OOP chapter\", \"2023-10-11\")\n",
    "todo_list.display_pending_tasks()\n",
    "todo_list.mark_task_completed(\"Complete Python assignment\")\n",
    "todo_list.display_pending_tasks()\n"
   ]
  }
 ],
 "metadata": {
  "kernelspec": {
   "display_name": "Python 3",
   "language": "python",
   "name": "python3"
  },
  "language_info": {
   "codemirror_mode": {
    "name": "ipython",
    "version": 3
   },
   "file_extension": ".py",
   "mimetype": "text/x-python",
   "name": "python",
   "nbconvert_exporter": "python",
   "pygments_lexer": "ipython3",
   "version": "3.12.4"
  }
 },
 "nbformat": 4,
 "nbformat_minor": 5
}
