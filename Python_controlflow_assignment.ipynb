{
  "nbformat": 4,
  "nbformat_minor": 0,
  "metadata": {
    "colab": {
      "provenance": []
    },
    "kernelspec": {
      "name": "python3",
      "display_name": "Python 3"
    },
    "language_info": {
      "name": "python"
    }
  },
  "cells": [
    {
      "cell_type": "code",
      "execution_count": 1,
      "metadata": {
        "colab": {
          "base_uri": "https://localhost:8080/"
        },
        "id": "W8dPAb7bKLOL",
        "outputId": "9d3cab9e-9fa6-47cd-a84f-060811eb8166"
      },
      "outputs": [
        {
          "output_type": "stream",
          "name": "stdout",
          "text": [
            "Enter a number: 1\n",
            "1.0 is positive.\n"
          ]
        }
      ],
      "source": [
        "# 1. Write a Python program to check if a given number is positive or negative.\n",
        "num = float(input(\"Enter a number: \"))\n",
        "if num > 0:\n",
        "    print(f\"{num} is positive.\")\n",
        "elif num < 0:\n",
        "    print(f\"{num} is negative.\")\n",
        "else:\n",
        "    print(\"The number is zero.\")\n"
      ]
    },
    {
      "cell_type": "code",
      "source": [
        "# 2. Create a program that determines if a person is eligible to vote based on their age.\n",
        "age = int(input(\"Enter your age: \"))\n",
        "if age >= 18:\n",
        "    print(\"You are eligible to vote.\")\n",
        "else:\n",
        "    print(\"You are not eligible to vote.\")\n"
      ],
      "metadata": {
        "colab": {
          "base_uri": "https://localhost:8080/"
        },
        "id": "Oo8RC6vjTNDU",
        "outputId": "e91fc944-bcd3-4cce-d053-2dcc543ad1ba"
      },
      "execution_count": 2,
      "outputs": [
        {
          "output_type": "stream",
          "name": "stdout",
          "text": [
            "Enter your age: 20\n",
            "You are eligible to vote.\n"
          ]
        }
      ]
    },
    {
      "cell_type": "code",
      "source": [
        "# 3. Develop a program to find the maximum of two numbers using if-else statements.\n",
        "num1 = float(input(\"Enter the first number: \"))\n",
        "num2 = float(input(\"Enter the second number: \"))\n",
        "if num1 > num2:\n",
        "    print(f\"{num1} is greater.\")\n",
        "else:\n",
        "    print(f\"{num2} is greater.\")\n"
      ],
      "metadata": {
        "colab": {
          "base_uri": "https://localhost:8080/"
        },
        "id": "_zkyOYt8TjOe",
        "outputId": "f23e49d5-64b4-4f77-93af-a209c1cec74a"
      },
      "execution_count": 3,
      "outputs": [
        {
          "output_type": "stream",
          "name": "stdout",
          "text": [
            "Enter the first number: 12\n",
            "Enter the second number: 23\n",
            "23.0 is greater.\n"
          ]
        }
      ]
    },
    {
      "cell_type": "code",
      "source": [
        "# 4. Write a Python script to classify a given year as a leap year or not.\n",
        "year = int(input(\"Enter a year: \"))\n",
        "if (year % 4 == 0 and year % 100 != 0) or (year % 400 == 0):\n",
        "    print(f\"{year} is a leap year.\")\n",
        "else:\n",
        "    print(f\"{year} is not a leap year.\")\n"
      ],
      "metadata": {
        "colab": {
          "base_uri": "https://localhost:8080/"
        },
        "id": "bidkyfM7TmEM",
        "outputId": "c0bfdd21-fdf3-4a7a-fbd7-7025423d5c5c"
      },
      "execution_count": 4,
      "outputs": [
        {
          "output_type": "stream",
          "name": "stdout",
          "text": [
            "Enter a year: 1905\n",
            "1905 is not a leap year.\n"
          ]
        }
      ]
    },
    {
      "cell_type": "code",
      "source": [
        "# 5. Create a program that checks whether a character is a vowel or a consonant.\n",
        "char = input(\"Enter a character: \").lower()\n",
        "if char in 'aeiou':\n",
        "    print(f\"{char} is a vowel.\")\n",
        "else:\n",
        "    print(f\"{char} is a consonant.\")\n"
      ],
      "metadata": {
        "colab": {
          "base_uri": "https://localhost:8080/"
        },
        "id": "_10c3nH7ToOv",
        "outputId": "df62e20e-145d-40da-bfab-c59c4655a2fd"
      },
      "execution_count": 5,
      "outputs": [
        {
          "output_type": "stream",
          "name": "stdout",
          "text": [
            "Enter a character: a\n",
            "a is a vowel.\n"
          ]
        }
      ]
    },
    {
      "cell_type": "code",
      "source": [
        "# 6. Implement a program to determine whether a given number is even or odd.\n",
        "num = int(input(\"Enter a number: \"))\n",
        "if num % 2 == 0:\n",
        "    print(f\"{num} is even.\")\n",
        "else:\n",
        "    print(f\"{num} is odd.\")\n"
      ],
      "metadata": {
        "colab": {
          "base_uri": "https://localhost:8080/"
        },
        "id": "_CGv7xpcTqH7",
        "outputId": "32e0b8dd-7546-4c5a-93a0-f495a695b1f1"
      },
      "execution_count": 6,
      "outputs": [
        {
          "output_type": "stream",
          "name": "stdout",
          "text": [
            "Enter a number: 17\n",
            "17 is odd.\n"
          ]
        }
      ]
    },
    {
      "cell_type": "code",
      "source": [
        "# 7. Write a Python function to calculate the absolute value of a number without using the abs() function.\n",
        "def absolute_value(x):\n",
        "    if x < 0:\n",
        "        return -x\n",
        "    return x\n",
        "\n",
        "num = float(input(\"Enter a number: \"))\n",
        "print(f\"The absolute value of {num} is {absolute_value(num)}.\")\n"
      ],
      "metadata": {
        "colab": {
          "base_uri": "https://localhost:8080/"
        },
        "id": "FVOIb9HUTsFn",
        "outputId": "22989b05-6d36-4fa9-990f-4befe66be4d3"
      },
      "execution_count": 7,
      "outputs": [
        {
          "output_type": "stream",
          "name": "stdout",
          "text": [
            "Enter a number: -5\n",
            "The absolute value of -5.0 is 5.0.\n"
          ]
        }
      ]
    },
    {
      "cell_type": "code",
      "source": [
        "# 8. Develop a program that determines the largest of three given numbers using if-else statements.\n",
        "num1 = float(input(\"Enter the first number: \"))\n",
        "num2 = float(input(\"Enter the second number: \"))\n",
        "num3 = float(input(\"Enter the third number: \"))\n",
        "\n",
        "if num1 > num2 and num1 > num3:\n",
        "    print(f\"{num1} is the largest.\")\n",
        "elif num2 > num1 and num2 > num3:\n",
        "    print(f\"{num2} is the largest.\")\n",
        "else:\n",
        "    print(f\"{num3} is the largest.\")\n"
      ],
      "metadata": {
        "colab": {
          "base_uri": "https://localhost:8080/"
        },
        "id": "9pzP_cpbTuJ5",
        "outputId": "835082a7-2020-4cbf-f1cb-7370e2a07e01"
      },
      "execution_count": 8,
      "outputs": [
        {
          "output_type": "stream",
          "name": "stdout",
          "text": [
            "Enter the first number: 1\n",
            "Enter the second number: 2\n",
            "Enter the third number: 3\n",
            "3.0 is the largest.\n"
          ]
        }
      ]
    },
    {
      "cell_type": "code",
      "source": [
        "# 9. Create a program that checks if a given string is a palindrome.\n",
        "s = input(\"Enter a string: \").lower()\n",
        "if s == s[::-1]:\n",
        "    print(f\"{s} is a palindrome.\")\n",
        "else:\n",
        "    print(f\"{s} is not a palindrome.\")\n"
      ],
      "metadata": {
        "colab": {
          "base_uri": "https://localhost:8080/"
        },
        "id": "hNwJ-l1tTwOo",
        "outputId": "feef37f3-6cc5-4f80-c36d-b959bb5083df"
      },
      "execution_count": 9,
      "outputs": [
        {
          "output_type": "stream",
          "name": "stdout",
          "text": [
            "Enter a string: Naman\n",
            "naman is a palindrome.\n"
          ]
        }
      ]
    },
    {
      "cell_type": "code",
      "source": [
        "# 10. Write a Python program to calculate the grade based on a student's score.\n",
        "score = float(input(\"Enter the score: \"))\n",
        "if score >= 90:\n",
        "    print(\"Grade A\")\n",
        "elif score >= 80:\n",
        "    print(\"Grade B\")\n",
        "elif score >= 70:\n",
        "    print(\"Grade C\")\n",
        "elif score >= 60:\n",
        "    print(\"Grade D\")\n",
        "else:\n",
        "    print(\"Grade F\")\n"
      ],
      "metadata": {
        "colab": {
          "base_uri": "https://localhost:8080/"
        },
        "id": "hz27tHlPTzn9",
        "outputId": "f0e79574-bffa-4851-e84e-652d6d92cbe7"
      },
      "execution_count": 10,
      "outputs": [
        {
          "output_type": "stream",
          "name": "stdout",
          "text": [
            "Enter the score: 100\n",
            "Grade A\n"
          ]
        }
      ]
    },
    {
      "cell_type": "code",
      "source": [
        "# 11. Write a program to find the largest among three numbers using nested if-else statements.\n",
        "num1 = float(input(\"Enter the first number: \"))\n",
        "num2 = float(input(\"Enter the second number: \"))\n",
        "num3 = float(input(\"Enter the third number: \"))\n",
        "\n",
        "if num1 > num2:\n",
        "    if num1 > num3:\n",
        "        print(f\"{num1} is the largest.\")\n",
        "    else:\n",
        "        print(f\"{num3} is the largest.\")\n",
        "else:\n",
        "    if num2 > num3:\n",
        "        print(f\"{num2} is the largest.\")\n",
        "    else:\n",
        "        print(f\"{num3} is the largest.\")\n"
      ],
      "metadata": {
        "colab": {
          "base_uri": "https://localhost:8080/"
        },
        "id": "Et5KTRpST2J2",
        "outputId": "add1666b-d751-46eb-e5be-c43397b9b446"
      },
      "execution_count": 11,
      "outputs": [
        {
          "output_type": "stream",
          "name": "stdout",
          "text": [
            "Enter the first number: 1\n",
            "Enter the second number: 2\n",
            "Enter the third number: 3\n",
            "3.0 is the largest.\n"
          ]
        }
      ]
    },
    {
      "cell_type": "code",
      "source": [
        "# 12. Implement a program to determine if a triangle is equilateral, isosceles, or scalene.\n",
        "side1 = float(input(\"Enter the first side: \"))\n",
        "side2 = float(input(\"Enter the second side: \"))\n",
        "side3 = float(input(\"Enter the third side: \"))\n",
        "\n",
        "if side1 == side2 and side2 == side3:\n",
        "    print(\"The triangle is equilateral.\")\n",
        "elif side1 == side2 or side2 == side3 or side1 == side3:\n",
        "    print(\"The triangle is isosceles.\")\n",
        "else:\n",
        "    print(\"The triangle is scalene.\")\n"
      ],
      "metadata": {
        "colab": {
          "base_uri": "https://localhost:8080/"
        },
        "id": "kRHTHqQ-T4hA",
        "outputId": "efb66102-d598-4cbd-c6c8-3103db007ca4"
      },
      "execution_count": 12,
      "outputs": [
        {
          "output_type": "stream",
          "name": "stdout",
          "text": [
            "Enter the first side: 1\n",
            "Enter the second side: 2\n",
            "Enter the third side: 3\n",
            "The triangle is scalene.\n"
          ]
        }
      ]
    },
    {
      "cell_type": "code",
      "source": [
        "# 13. Develop a program that checks if a year is a leap year and also if it is a century year.\n",
        "year = int(input(\"Enter a year: \"))\n",
        "if year % 4 == 0:\n",
        "    if year % 100 == 0:\n",
        "        if year % 400 == 0:\n",
        "            print(f\"{year} is a leap year and a century year.\")\n",
        "        else:\n",
        "            print(f\"{year} is not a leap year but a century year.\")\n",
        "    else:\n",
        "        print(f\"{year} is a leap year.\")\n",
        "else:\n",
        "    print(f\"{year} is not a leap year.\")\n"
      ],
      "metadata": {
        "colab": {
          "base_uri": "https://localhost:8080/"
        },
        "id": "W0qkjRZKT7JN",
        "outputId": "3b104390-51ff-428b-9788-0b2214ec711a"
      },
      "execution_count": 13,
      "outputs": [
        {
          "output_type": "stream",
          "name": "stdout",
          "text": [
            "Enter a year: 2024\n",
            "2024 is a leap year.\n"
          ]
        }
      ]
    },
    {
      "cell_type": "code",
      "source": [
        "# 14. Write a Python script to determine if a number is positive, negative, or zero.\n",
        "num = float(input(\"Enter a number: \"))\n",
        "if num > 0:\n",
        "    print(f\"{num} is positive.\")\n",
        "elif num < 0:\n",
        "    print(f\"{num} is negative.\")\n",
        "else:\n",
        "    print(\"The number is zero.\")\n"
      ],
      "metadata": {
        "colab": {
          "base_uri": "https://localhost:8080/"
        },
        "id": "8Nh8yT4MT9o6",
        "outputId": "9a3c4b3e-4fa3-452f-8185-79282c389eab"
      },
      "execution_count": 14,
      "outputs": [
        {
          "output_type": "stream",
          "name": "stdout",
          "text": [
            "Enter a number: -10\n",
            "-10.0 is negative.\n"
          ]
        }
      ]
    },
    {
      "cell_type": "code",
      "source": [
        "# 15. Create a program to check if a person is a teenager (between 13 and 19 years old).\n",
        "age = int(input(\"Enter your age: \"))\n",
        "if 13 <= age <= 19:\n",
        "    print(\"You are a teenager.\")\n",
        "else:\n",
        "    print(\"You are not a teenager.\")\n"
      ],
      "metadata": {
        "colab": {
          "base_uri": "https://localhost:8080/"
        },
        "id": "pzl8tzpET_3s",
        "outputId": "5c056797-5372-4a53-e66b-44be58f0a750"
      },
      "execution_count": 15,
      "outputs": [
        {
          "output_type": "stream",
          "name": "stdout",
          "text": [
            "Enter your age: 15\n",
            "You are a teenager.\n"
          ]
        }
      ]
    },
    {
      "cell_type": "code",
      "source": [
        "# 16. Develop a program that determines the type of angle based on its measure (acute, obtuse, or right).\n",
        "angle = float(input(\"Enter the angle in degrees: \"))\n",
        "if angle == 90:\n",
        "    print(\"Right angle\")\n",
        "elif angle < 90:\n",
        "    print(\"Acute angle\")\n",
        "else:\n",
        "    print(\"Obtuse angle\")\n"
      ],
      "metadata": {
        "colab": {
          "base_uri": "https://localhost:8080/"
        },
        "id": "qk6P8melUCSn",
        "outputId": "9e0733cc-f857-49a0-f7e9-03f709ebf077"
      },
      "execution_count": 16,
      "outputs": [
        {
          "output_type": "stream",
          "name": "stdout",
          "text": [
            "Enter the angle in degrees: 20\n",
            "Acute angle\n"
          ]
        }
      ]
    },
    {
      "cell_type": "code",
      "source": [
        "# 17. Write a Python program to calculate the roots of a quadratic equation.\n",
        "import math\n",
        "\n",
        "a = float(input(\"Enter coefficient a: \"))\n",
        "b = float(input(\"Enter coefficient b: \"))\n",
        "c = float(input(\"Enter coefficient c: \"))\n",
        "\n",
        "discriminant = b**2 - 4*a*c\n",
        "if discriminant > 0:\n",
        "    root1 = (-b + math.sqrt(discriminant)) / (2*a)\n",
        "    root2 = (-b - math.sqrt(discriminant)) / (2*a)\n",
        "    print(f\"The roots are {root1} and {root2}.\")\n",
        "elif discriminant == 0:\n",
        "    root = -b / (2*a)\n",
        "    print(f\"The root is {root}.\")\n",
        "else:\n",
        "    print(\"No real roots.\")\n"
      ],
      "metadata": {
        "colab": {
          "base_uri": "https://localhost:8080/"
        },
        "id": "0TYjjrHNUEPS",
        "outputId": "9e3358ea-e48c-463e-b4a4-21657f10d878"
      },
      "execution_count": 17,
      "outputs": [
        {
          "output_type": "stream",
          "name": "stdout",
          "text": [
            "Enter coefficient a: 5\n",
            "Enter coefficient b: 2\n",
            "Enter coefficient c: 1\n",
            "No real roots.\n"
          ]
        }
      ]
    },
    {
      "cell_type": "code",
      "source": [
        "# 18. Implement a program to determine the day of the week based on a user-provided number (1 for Monday, 2 for Tuesday, etc.).\n",
        "day_number = int(input(\"Enter a number (1-7) to get the day of the week: \"))\n",
        "if day_number == 1:\n",
        "    print(\"Monday\")\n",
        "elif day_number == 2:\n",
        "    print(\"Tuesday\")\n",
        "elif day_number == 3:\n",
        "    print(\"Wednesday\")\n",
        "elif day_number == 4:\n",
        "    print(\"Thursday\")\n",
        "elif day_number == 5:\n",
        "    print(\"Friday\")\n",
        "elif day_number == 6:\n",
        "    print(\"Saturday\")\n",
        "elif day_number == 7:\n",
        "    print(\"Sunday\")\n",
        "else:\n",
        "    print(\"Invalid input!\")\n"
      ],
      "metadata": {
        "colab": {
          "base_uri": "https://localhost:8080/"
        },
        "id": "Vp1pzdHlUGrk",
        "outputId": "2a24a798-7275-40a6-c493-812aada4e918"
      },
      "execution_count": 18,
      "outputs": [
        {
          "output_type": "stream",
          "name": "stdout",
          "text": [
            "Enter a number (1-7) to get the day of the week: 3\n",
            "Wednesday\n"
          ]
        }
      ]
    },
    {
      "cell_type": "code",
      "source": [
        "# 19. Create a program that determines if a year is a leap year and also if it is evenly divisible by 400.\n",
        "year = int(input(\"Enter a year: \"))\n",
        "if year % 4 == 0:\n",
        "    if year % 100 == 0:\n",
        "        if year % 400 == 0:\n",
        "            print(f\"{year} is a leap year and divisible by 400.\")\n",
        "        else:\n",
        "            print(f\"{year} is a leap year but not divisible by 400.\")\n",
        "    else:\n",
        "        print(f\"{year} is a leap year.\")\n",
        "else:\n",
        "    print(f\"{year} is not a leap year.\")\n"
      ],
      "metadata": {
        "colab": {
          "base_uri": "https://localhost:8080/"
        },
        "id": "AYiBDVWKUKGA",
        "outputId": "39fae994-f535-4b2c-d95b-b09f4199318c"
      },
      "execution_count": 19,
      "outputs": [
        {
          "output_type": "stream",
          "name": "stdout",
          "text": [
            "Enter a year: 2024\n",
            "2024 is a leap year.\n"
          ]
        }
      ]
    },
    {
      "cell_type": "code",
      "source": [
        "# 20. Develop a program that checks if a given number is prime or not using nested if-else statements.\n",
        "num = int(input(\"Enter a number: \"))\n",
        "if num > 1:\n",
        "    for i in range(2, int(num/2) + 1):\n",
        "        if num % i == 0:\n",
        "            print(f\"{num} is not a prime number.\")\n",
        "            break\n",
        "    else:\n",
        "        print(f\"{num} is a prime number.\")\n",
        "else:\n",
        "    print(f\"{num} is not a prime number.\")\n"
      ],
      "metadata": {
        "colab": {
          "base_uri": "https://localhost:8080/"
        },
        "id": "Iz_n4ZoKUNIu",
        "outputId": "3a2e5516-52ef-4ee3-f6dc-96ca08b910bc"
      },
      "execution_count": 20,
      "outputs": [
        {
          "output_type": "stream",
          "name": "stdout",
          "text": [
            "Enter a number: 7\n",
            "7 is a prime number.\n"
          ]
        }
      ]
    },
    {
      "cell_type": "code",
      "source": [
        "# 21. Write a Python program to assign grades based on different ranges of scores using elif statements.\n",
        "score = float(input(\"Enter the score: \"))\n",
        "if score >= 90:\n",
        "    print(\"Grade A\")\n",
        "elif score >= 80:\n",
        "    print(\"Grade B\")\n",
        "elif score >= 70:\n",
        "    print(\"Grade C\")\n",
        "elif score >= 60:\n",
        "    print(\"Grade D\")\n",
        "else:\n",
        "    print(\"Grade F\")\n"
      ],
      "metadata": {
        "colab": {
          "base_uri": "https://localhost:8080/"
        },
        "id": "rB6xQFNmUQKc",
        "outputId": "f57f1ee7-2257-434e-fe3f-1073ca853ba6"
      },
      "execution_count": 21,
      "outputs": [
        {
          "output_type": "stream",
          "name": "stdout",
          "text": [
            "Enter the score: 100\n",
            "Grade A\n"
          ]
        }
      ]
    },
    {
      "cell_type": "code",
      "source": [
        "# 22. Implement a program to determine the type of a triangle based on its angles.\n",
        "angle1 = float(input(\"Enter first angle: \"))\n",
        "angle2 = float(input(\"Enter second angle: \"))\n",
        "angle3 = float(input(\"Enter third angle: \"))\n",
        "\n",
        "if angle1 == 90 or angle2 == 90 or angle3 == 90:\n",
        "    print(\"The triangle is a right triangle.\")\n",
        "elif angle1 > 90 or angle2 > 90 or angle3 > 90:\n",
        "    print(\"The triangle is an obtuse triangle.\")\n",
        "else:\n",
        "    print(\"The triangle is an acute triangle.\")\n"
      ],
      "metadata": {
        "colab": {
          "base_uri": "https://localhost:8080/"
        },
        "id": "BHN2kYdBUSJN",
        "outputId": "626a7a09-39f0-4d80-ef33-179ec6b7cc36"
      },
      "execution_count": 22,
      "outputs": [
        {
          "output_type": "stream",
          "name": "stdout",
          "text": [
            "Enter first angle: 20\n",
            "Enter second angle: 60\n",
            "Enter third angle: 100\n",
            "The triangle is an obtuse triangle.\n"
          ]
        }
      ]
    },
    {
      "cell_type": "code",
      "source": [
        "# 23. Develop a program to categorize a given person's BMI into underweight, normal, overweight, or obese using elif statements.\n",
        "weight = float(input(\"Enter your weight (kg): \"))\n",
        "height = float(input(\"Enter your height (m): \"))\n",
        "bmi = weight / (height ** 2)\n",
        "\n",
        "if bmi < 18.5:\n",
        "    print(\"Underweight\")\n",
        "elif 18.5 <= bmi < 24.9:\n",
        "    print(\"Normal weight\")\n",
        "elif 25 <= bmi < 29.9:\n",
        "    print(\"Overweight\")\n",
        "else:\n",
        "    print(\"Obese\")\n"
      ],
      "metadata": {
        "colab": {
          "base_uri": "https://localhost:8080/"
        },
        "id": "s4R3wXh0UU-_",
        "outputId": "4c97f88e-38ae-4cb0-943d-f4c6f0b3d74c"
      },
      "execution_count": 23,
      "outputs": [
        {
          "output_type": "stream",
          "name": "stdout",
          "text": [
            "Enter your weight (kg): 65\n",
            "Enter your height (m): 1.676\n",
            "Normal weight\n"
          ]
        }
      ]
    },
    {
      "cell_type": "code",
      "source": [
        "# 24. Create a program that determines whether a given number is positive, negative, or zero using elif statements.\n",
        "num = float(input(\"Enter a number: \"))\n",
        "if num > 0:\n",
        "    print(f\"{num} is positive.\")\n",
        "elif num < 0:\n",
        "    print(f\"{num} is negative.\")\n",
        "else:\n",
        "    print(\"The number is zero.\")\n"
      ],
      "metadata": {
        "colab": {
          "base_uri": "https://localhost:8080/"
        },
        "id": "Yv0GqIvGUXYc",
        "outputId": "87318b87-c824-4069-e708-82c4c31bcdb6"
      },
      "execution_count": 24,
      "outputs": [
        {
          "output_type": "stream",
          "name": "stdout",
          "text": [
            "Enter a number: -5\n",
            "-5.0 is negative.\n"
          ]
        }
      ]
    },
    {
      "cell_type": "code",
      "source": [
        "# 25. Write a Python script to determine the type of a character (uppercase, lowercase, or special) using elif statements.\n",
        "char = input(\"Enter a character: \")\n",
        "if char.isupper():\n",
        "    print(f\"{char} is an uppercase letter.\")\n",
        "elif char.islower():\n",
        "    print(f\"{char} is a lowercase letter.\")\n",
        "else:\n",
        "    print(f\"{char} is a special character.\")\n"
      ],
      "metadata": {
        "colab": {
          "base_uri": "https://localhost:8080/"
        },
        "id": "ttf51ubCUZpQ",
        "outputId": "3e10693d-5998-420e-8997-9c279eb78ba0"
      },
      "execution_count": 25,
      "outputs": [
        {
          "output_type": "stream",
          "name": "stdout",
          "text": [
            "Enter a character: A\n",
            "A is an uppercase letter.\n"
          ]
        }
      ]
    },
    {
      "cell_type": "code",
      "source": [
        "# 26. Implement a program to calculate the discounted price based on different purchase amounts using elif statements.\n",
        "amount = float(input(\"Enter the purchase amount: \"))\n",
        "if amount > 1000:\n",
        "    discount = 0.2  # 20% discount\n",
        "elif amount > 500:\n",
        "    discount = 0.1  # 10% discount\n",
        "else:\n",
        "    discount = 0  # No discount\n",
        "\n",
        "final_price = amount - (amount * discount)\n",
        "print(f\"The final price after discount is: {final_price}\")\n"
      ],
      "metadata": {
        "colab": {
          "base_uri": "https://localhost:8080/"
        },
        "id": "PzsgvKZ4UciD",
        "outputId": "a54ebfc5-3b70-41e0-b859-8fe07e2e0e41"
      },
      "execution_count": 26,
      "outputs": [
        {
          "output_type": "stream",
          "name": "stdout",
          "text": [
            "Enter the purchase amount: 50000\n",
            "The final price after discount is: 40000.0\n"
          ]
        }
      ]
    },
    {
      "cell_type": "code",
      "source": [
        "# 27. Develop a program to calculate the electricity bill based on different consumption slabs using elif statements.\n",
        "units = float(input(\"Enter the number of units consumed: \"))\n",
        "if units <= 100:\n",
        "    bill = units * 1.5\n",
        "elif units <= 200:\n",
        "    bill = units * 2.5\n",
        "elif units <= 300:\n",
        "    bill = units * 3.5\n",
        "else:\n",
        "    bill = units * 4.0\n",
        "\n",
        "print(f\"The electricity bill is: {bill}\")\n"
      ],
      "metadata": {
        "colab": {
          "base_uri": "https://localhost:8080/"
        },
        "id": "6oQlP-c8UfM5",
        "outputId": "8df7a3e4-6985-4fc6-b602-673c2e62a878"
      },
      "execution_count": 27,
      "outputs": [
        {
          "output_type": "stream",
          "name": "stdout",
          "text": [
            "Enter the number of units consumed: 20\n",
            "The electricity bill is: 30.0\n"
          ]
        }
      ]
    },
    {
      "cell_type": "code",
      "source": [
        "# 28. Create a program to determine the type of quadrilateral based on its angles and sides using elif statements.\n",
        "side1 = float(input(\"Enter the first side: \"))\n",
        "side2 = float(input(\"Enter the second side: \"))\n",
        "side3 = float(input(\"Enter the third side: \"))\n",
        "side4 = float(input(\"Enter the fourth side: \"))\n",
        "angle1 = float(input(\"Enter the first angle: \"))\n",
        "angle2 = float(input(\"Enter the second angle: \"))\n",
        "angle3 = float(input(\"Enter the third angle: \"))\n",
        "angle4 = float(input(\"Enter the fourth angle: \"))\n",
        "\n",
        "if side1 == side2 == side3 == side4:\n",
        "    print(\"It is a square.\")\n",
        "elif angle1 == angle2 == angle3 == angle4 == 90:\n",
        "    print(\"It is a rectangle.\")\n",
        "elif side1 == side3 and side2 == side4:\n",
        "    print(\"It is a parallelogram.\")\n",
        "else:\n",
        "    print(\"It is a generic quadrilateral.\")\n"
      ],
      "metadata": {
        "colab": {
          "base_uri": "https://localhost:8080/"
        },
        "id": "YeqFJRwqUhfh",
        "outputId": "46c395b6-5abb-416a-9d33-d3c1128e5196"
      },
      "execution_count": 28,
      "outputs": [
        {
          "output_type": "stream",
          "name": "stdout",
          "text": [
            "Enter the first side: 10\n",
            "Enter the second side: 20\n",
            "Enter the third side: 10\n",
            "Enter the fourth side: 5\n",
            "Enter the first angle: 100\n",
            "Enter the second angle: 50\n",
            "Enter the third angle: 10\n",
            "Enter the fourth angle: 300\n",
            "It is a generic quadrilateral.\n"
          ]
        }
      ]
    },
    {
      "cell_type": "code",
      "source": [
        "# 29. Write a Python script to determine the season based on a user-provided month using elif statements.\n",
        "month = int(input(\"Enter the month (1-12): \"))\n",
        "if 3 <= month <= 5:\n",
        "    print(\"It's spring.\")\n",
        "elif 6 <= month <= 8:\n",
        "    print(\"It's summer.\")\n",
        "elif 9 <= month <= 11:\n",
        "    print(\"It's autumn.\")\n",
        "else:\n",
        "    print(\"It's winter.\")\n"
      ],
      "metadata": {
        "colab": {
          "base_uri": "https://localhost:8080/"
        },
        "id": "J5gjXIgLUkA-",
        "outputId": "4d0d6caf-f936-47f9-fd9a-c583f89e9415"
      },
      "execution_count": 29,
      "outputs": [
        {
          "output_type": "stream",
          "name": "stdout",
          "text": [
            "Enter the month (1-12): 5\n",
            "It's spring.\n"
          ]
        }
      ]
    },
    {
      "cell_type": "code",
      "source": [
        "# 30. Implement a program to determine the type of a year (leap or common) and month (30 or 31 days) using elif statements.\n",
        "year = int(input(\"Enter a year: \"))\n",
        "month = int(input(\"Enter a month (1-12): \"))\n",
        "\n",
        "if (month == 1 or month == 3 or month == 5 or month == 7 or month == 8 or month == 10 or month == 12):\n",
        "    print(f\"Month {month} has 31 days.\")\n",
        "elif (month == 4 or month == 6 or month == 9 or month == 11):\n",
        "    print(f\"Month {month} has 30 days.\")\n",
        "elif (month == 2):\n",
        "    if (year % 4 == 0 and year % 100 != 0) or (year % 400 == 0):\n",
        "        print(f\"February in {year} has 29 days (leap year).\")\n",
        "    else:\n",
        "        print(f\"February in {year} has 28 days (common year).\")\n"
      ],
      "metadata": {
        "colab": {
          "base_uri": "https://localhost:8080/"
        },
        "id": "76X13KRhUmmf",
        "outputId": "0d546c16-9bc4-4ffc-8e0a-371629253c34"
      },
      "execution_count": 30,
      "outputs": [
        {
          "output_type": "stream",
          "name": "stdout",
          "text": [
            "Enter a year: 2024\n",
            "Enter a month (1-12): 1\n",
            "Month 1 has 31 days.\n"
          ]
        }
      ]
    },
    {
      "cell_type": "code",
      "source": [
        "# 1. Write a Python program that checks if a given number is positive, negative, or zero.\n",
        "num = float(input(\"Enter a number: \"))\n",
        "if num > 0:\n",
        "    print(f\"{num} is positive.\")\n",
        "elif num < 0:\n",
        "    print(f\"{num} is negative.\")\n",
        "else:\n",
        "    print(\"The number is zero.\")\n"
      ],
      "metadata": {
        "colab": {
          "base_uri": "https://localhost:8080/"
        },
        "id": "fpOmK1uUUpm-",
        "outputId": "7ff6d359-103b-4525-b50f-e22197a493b0"
      },
      "execution_count": 31,
      "outputs": [
        {
          "output_type": "stream",
          "name": "stdout",
          "text": [
            "Enter a number: -5\n",
            "-5.0 is negative.\n"
          ]
        }
      ]
    },
    {
      "cell_type": "code",
      "source": [
        "# 2. Create a program to determine if a person is eligible to vote based on their age.\n",
        "age = int(input(\"Enter your age: \"))\n",
        "if age >= 18:\n",
        "    print(\"You are eligible to vote.\")\n",
        "else:\n",
        "    print(\"You are not eligible to vote.\")\n"
      ],
      "metadata": {
        "colab": {
          "base_uri": "https://localhost:8080/"
        },
        "id": "8HUP2hmdUsGT",
        "outputId": "283493dd-ae82-476b-c3e2-0c6c99cb36c6"
      },
      "execution_count": 32,
      "outputs": [
        {
          "output_type": "stream",
          "name": "stdout",
          "text": [
            "Enter your age: 19\n",
            "You are eligible to vote.\n"
          ]
        }
      ]
    },
    {
      "cell_type": "code",
      "source": [
        "# 3. Write a program to find the maximum of two given numbers using conditional statements.\n",
        "num1 = float(input(\"Enter the first number: \"))\n",
        "num2 = float(input(\"Enter the second number: \"))\n",
        "if num1 > num2:\n",
        "    print(f\"{num1} is greater.\")\n",
        "else:\n",
        "    print(f\"{num2} is greater.\")\n"
      ],
      "metadata": {
        "colab": {
          "base_uri": "https://localhost:8080/"
        },
        "id": "LpyM_05RUvAM",
        "outputId": "4aaae5e4-3ca3-48eb-9819-c34d0ec8abbc"
      },
      "execution_count": 33,
      "outputs": [
        {
          "output_type": "stream",
          "name": "stdout",
          "text": [
            "Enter the first number: 1\n",
            "Enter the second number: 5\n",
            "5.0 is greater.\n"
          ]
        }
      ]
    },
    {
      "cell_type": "code",
      "source": [
        "5# 4. Develop a program that calculates the grade of a student based on their exam score.\n",
        "score = float(input(\"Enter the score: \"))\n",
        "if score >= 90:\n",
        "    print(\"Grade A\")\n",
        "elif score >= 80:\n",
        "    print(\"Grade B\")\n",
        "elif score >= 70:\n",
        "    print(\"Grade C\")\n",
        "elif score >= 60:\n",
        "    print(\"Grade D\")\n",
        "else:\n",
        "    print(\"Grade F\")\n"
      ],
      "metadata": {
        "colab": {
          "base_uri": "https://localhost:8080/"
        },
        "id": "cHsFB2EyUxGn",
        "outputId": "1452b7a1-e900-4854-afd0-2d26ec84eb39"
      },
      "execution_count": 34,
      "outputs": [
        {
          "output_type": "stream",
          "name": "stdout",
          "text": [
            "Enter the score: 95\n",
            "Grade A\n"
          ]
        }
      ]
    },
    {
      "cell_type": "code",
      "source": [
        "# 5. Create a program that checks if a year is a leap year or not.\n",
        "year = int(input(\"Enter a year: \"))\n",
        "if (year % 4 == 0 and year % 100 != 0) or (year % 400 == 0):\n",
        "    print(f\"{year} is a leap year.\")\n",
        "else:\n",
        "    print(f\"{year} is not a leap year.\")\n"
      ],
      "metadata": {
        "colab": {
          "base_uri": "https://localhost:8080/"
        },
        "id": "OkiZIoInU0Hq",
        "outputId": "9e7681f8-e863-4ac5-c6c9-ead5031e6632"
      },
      "execution_count": 35,
      "outputs": [
        {
          "output_type": "stream",
          "name": "stdout",
          "text": [
            "Enter a year: 2024\n",
            "2024 is a leap year.\n"
          ]
        }
      ]
    },
    {
      "cell_type": "code",
      "source": [
        "# 6. Write a program to classify a triangle based on its sides' lengths.\n",
        "side1 = float(input(\"Enter the first side: \"))\n",
        "side2 = float(input(\"Enter the second side: \"))\n",
        "side3 = float(input(\"Enter the third side: \"))\n",
        "\n",
        "if side1 == side2 == side3:\n",
        "    print(\"The triangle is equilateral.\")\n",
        "elif side1 == side2 or side2 == side3 or side1 == side3:\n",
        "    print(\"The triangle is isosceles.\")\n",
        "else:\n",
        "    print(\"The triangle is scalene.\")\n"
      ],
      "metadata": {
        "colab": {
          "base_uri": "https://localhost:8080/"
        },
        "id": "E4P5Ay5uU2ol",
        "outputId": "a4b9fa5d-34aa-487b-ea96-56a9690d4939"
      },
      "execution_count": 36,
      "outputs": [
        {
          "output_type": "stream",
          "name": "stdout",
          "text": [
            "Enter the first side: 10\n",
            "Enter the second side: 5\n",
            "Enter the third side: 12\n",
            "The triangle is scalene.\n"
          ]
        }
      ]
    },
    {
      "cell_type": "code",
      "source": [
        "# 7. Build a program that determines the largest of three given numbers.\n",
        "num1 = float(input(\"Enter the first number: \"))\n",
        "num2 = float(input(\"Enter the second number: \"))\n",
        "num3 = float(input(\"Enter the third number: \"))\n",
        "if num1 > num2 and num1 > num3:\n",
        "    print(f\"{num1} is the largest.\")\n",
        "elif num2 > num1 and num2 > num3:\n",
        "    print(f\"{num2} is the largest.\")\n",
        "else:\n",
        "    print(f\"{num3} is the largest.\")\n"
      ],
      "metadata": {
        "colab": {
          "base_uri": "https://localhost:8080/"
        },
        "id": "tq9MjWZzU4so",
        "outputId": "57b200fd-d835-4707-9fcb-026dc8a98b46"
      },
      "execution_count": 37,
      "outputs": [
        {
          "output_type": "stream",
          "name": "stdout",
          "text": [
            "Enter the first number: 2\n",
            "Enter the second number: 15\n",
            "Enter the third number: 18\n",
            "18.0 is the largest.\n"
          ]
        }
      ]
    },
    {
      "cell_type": "code",
      "source": [
        "# 8. Develop a program that checks whether a character is a vowel or a consonant.\n",
        "char = input(\"Enter a character: \").lower()\n",
        "if char in 'aeiou':\n",
        "    print(f\"{char} is a vowel.\")\n",
        "else:\n",
        "    print(f\"{char} is a consonant.\")\n"
      ],
      "metadata": {
        "colab": {
          "base_uri": "https://localhost:8080/"
        },
        "id": "kJn2H7n2U7Jl",
        "outputId": "fa85ef88-dd72-4486-bcee-06fa357eec35"
      },
      "execution_count": 38,
      "outputs": [
        {
          "output_type": "stream",
          "name": "stdout",
          "text": [
            "Enter a character: N\n",
            "n is a consonant.\n"
          ]
        }
      ]
    },
    {
      "cell_type": "code",
      "source": [
        "# 9. Create a program to calculate the total cost of a shopping cart based on discounts.\n",
        "cart_total = float(input(\"Enter the total cost of the cart: \"))\n",
        "if cart_total >= 500:\n",
        "    discount = 0.1  # 10% discount\n",
        "else:\n",
        "    discount = 0\n",
        "final_price = cart_total - (cart_total * discount)\n",
        "print(f\"Total price after discount is: {final_price}\")\n"
      ],
      "metadata": {
        "colab": {
          "base_uri": "https://localhost:8080/"
        },
        "id": "Xrz58svvU9mq",
        "outputId": "0b311cf7-c890-44ac-dfcf-0c6771f78084"
      },
      "execution_count": 39,
      "outputs": [
        {
          "output_type": "stream",
          "name": "stdout",
          "text": [
            "Enter the total cost of the cart: 100\n",
            "Total price after discount is: 100.0\n"
          ]
        }
      ]
    },
    {
      "cell_type": "code",
      "source": [
        "# 10. Write a program that checks if a given number is even or odd.\n",
        "num = int(input(\"Enter a number: \"))\n",
        "if num % 2 == 0:\n",
        "    print(f\"{num} is even.\")\n",
        "else:\n",
        "    print(f\"{num} is odd.\")\n"
      ],
      "metadata": {
        "colab": {
          "base_uri": "https://localhost:8080/"
        },
        "id": "hoXsjxy1U_1t",
        "outputId": "147f1fa5-2ab9-4388-cbd2-99060869f7d9"
      },
      "execution_count": 40,
      "outputs": [
        {
          "output_type": "stream",
          "name": "stdout",
          "text": [
            "Enter a number: 20\n",
            "20 is even.\n"
          ]
        }
      ]
    },
    {
      "cell_type": "code",
      "source": [
        "# 11. Write a program that calculates the roots of a quadratic equation.\n",
        "import math\n",
        "\n",
        "a = float(input(\"Enter coefficient a: \"))\n",
        "b = float(input(\"Enter coefficient b: \"))\n",
        "c = float(input(\"Enter coefficient c: \"))\n",
        "\n",
        "discriminant = b**2 - 4*a*c\n",
        "if discriminant > 0:\n",
        "    root1 = (-b + math.sqrt(discriminant)) / (2*a)\n",
        "    root2 = (-b - math.sqrt(discriminant)) / (2*a)\n",
        "    print(f\"The roots are {root1} and {root2}\")\n",
        "elif discriminant == 0:\n",
        "    root = -b / (2*a)\n",
        "    print(f\"The root is {root}\")\n",
        "else:\n",
        "    print(\"No real roots\")\n"
      ],
      "metadata": {
        "colab": {
          "base_uri": "https://localhost:8080/"
        },
        "id": "EJex6eULVCNA",
        "outputId": "c6a0a9f7-6742-4f17-ba51-0669891945ff"
      },
      "execution_count": 41,
      "outputs": [
        {
          "output_type": "stream",
          "name": "stdout",
          "text": [
            "Enter coefficient a: 15\n",
            "Enter coefficient b: 5\n",
            "Enter coefficient c: 8\n",
            "No real roots\n"
          ]
        }
      ]
    },
    {
      "cell_type": "code",
      "source": [
        "# 12. Create a program that determines the day of the week based on the day number (1-7).\n",
        "day_num = int(input(\"Enter the day number (1-7): \"))\n",
        "if day_num == 1:\n",
        "    print(\"Monday\")\n",
        "elif day_num == 2:\n",
        "    print(\"Tuesday\")\n",
        "elif day_num == 3:\n",
        "    print(\"Wednesday\")\n",
        "elif day_num == 4:\n",
        "    print(\"Thursday\")\n",
        "elif day_num == 5:\n",
        "    print(\"Friday\")\n",
        "elif day_num == 6:\n",
        "    print(\"Saturday\")\n",
        "elif day_num == 7:\n",
        "    print(\"Sunday\")\n",
        "else:\n",
        "    print(\"Invalid day number\")\n"
      ],
      "metadata": {
        "colab": {
          "base_uri": "https://localhost:8080/"
        },
        "id": "JR6e89ajVEwE",
        "outputId": "f1cea31f-0a77-40f6-8b89-9a4cc7714b39"
      },
      "execution_count": 42,
      "outputs": [
        {
          "output_type": "stream",
          "name": "stdout",
          "text": [
            "Enter the day number (1-7): 1\n",
            "Monday\n"
          ]
        }
      ]
    },
    {
      "cell_type": "code",
      "source": [
        "# 13. Develop a program that calculates the factorial of a given number using recursion.\n",
        "def factorial(n):\n",
        "    if n == 0 or n == 1:\n",
        "        return 1\n",
        "    else:\n",
        "        return n * factorial(n-1)\n",
        "\n",
        "num = int(input(\"Enter a number: \"))\n",
        "print(f\"The factorial of {num} is {factorial(num)}\")\n"
      ],
      "metadata": {
        "colab": {
          "base_uri": "https://localhost:8080/"
        },
        "id": "Hi3iDBv1VG0s",
        "outputId": "7b1eb798-6633-4868-903d-5706e8358ac5"
      },
      "execution_count": 43,
      "outputs": [
        {
          "output_type": "stream",
          "name": "stdout",
          "text": [
            "Enter a number: 5\n",
            "The factorial of 5 is 120\n"
          ]
        }
      ]
    },
    {
      "cell_type": "code",
      "source": [
        "# 14. Write a program to find the largest among three numbers without using the `max()` function.\n",
        "num1 = float(input(\"Enter the first number: \"))\n",
        "num2 = float(input(\"Enter the second number: \"))\n",
        "num3 = float(input(\"Enter the third number: \"))\n",
        "\n",
        "if num1 >= num2 and num1 >= num3:\n",
        "    print(f\"{num1} is the largest.\")\n",
        "elif num2 >= num1 and num2 >= num3:\n",
        "    print(f\"{num2} is the largest.\")\n",
        "else:\n",
        "    print(f\"{num3} is the largest.\")\n"
      ],
      "metadata": {
        "colab": {
          "base_uri": "https://localhost:8080/"
        },
        "id": "Zn-PL_2cVJSa",
        "outputId": "3efb72cb-c5d5-4a39-e00c-2552f51767ec"
      },
      "execution_count": 44,
      "outputs": [
        {
          "output_type": "stream",
          "name": "stdout",
          "text": [
            "Enter the first number: 1\n",
            "Enter the second number: 5\n",
            "Enter the third number: 8\n",
            "8.0 is the largest.\n"
          ]
        }
      ]
    },
    {
      "cell_type": "code",
      "source": [
        "# 15. Create a program that simulates a basic ATM transaction menu.\n",
        "balance = 1000  # Initial balance\n",
        "\n",
        "def show_balance():\n",
        "    print(f\"Your current balance is: {balance}\")\n",
        "\n",
        "def deposit(amount):\n",
        "    global balance\n",
        "    balance += amount\n",
        "    print(f\"Deposited: {amount}. New balance: {balance}\")\n",
        "\n",
        "def withdraw(amount):\n",
        "    global balance\n",
        "    if amount <= balance:\n",
        "        balance -= amount\n",
        "        print(f\"Withdrew: {amount}. New balance: {balance}\")\n",
        "    else:\n",
        "        print(\"Insufficient balance\")\n",
        "\n",
        "while True:\n",
        "    print(\"\\nATM Menu:\")\n",
        "    print(\"1. Show Balance\")\n",
        "    print(\"2. Deposit\")\n",
        "    print(\"3. Withdraw\")\n",
        "    print(\"4. Exit\")\n",
        "    choice = int(input(\"Choose an option: \"))\n",
        "\n",
        "    if choice == 1:\n",
        "        show_balance()\n",
        "    elif choice == 2:\n",
        "        amount = float(input(\"Enter amount to deposit: \"))\n",
        "        deposit(amount)\n",
        "    elif choice == 3:\n",
        "        amount = float(input(\"Enter amount to withdraw: \"))\n",
        "        withdraw(amount)\n",
        "    elif choice == 4:\n",
        "        print(\"Thank you for using the ATM!\")\n",
        "        break\n",
        "    else:\n",
        "        print(\"Invalid option. Please try again.\")\n"
      ],
      "metadata": {
        "colab": {
          "base_uri": "https://localhost:8080/"
        },
        "id": "sLZ4VPpDVL0I",
        "outputId": "4547e453-4ceb-4b88-c918-cf72ee0e0ddd"
      },
      "execution_count": 45,
      "outputs": [
        {
          "output_type": "stream",
          "name": "stdout",
          "text": [
            "\n",
            "ATM Menu:\n",
            "1. Show Balance\n",
            "2. Deposit\n",
            "3. Withdraw\n",
            "4. Exit\n",
            "Choose an option: 1\n",
            "Your current balance is: 1000\n",
            "\n",
            "ATM Menu:\n",
            "1. Show Balance\n",
            "2. Deposit\n",
            "3. Withdraw\n",
            "4. Exit\n",
            "Choose an option: 2\n",
            "Enter amount to deposit: 5\n",
            "Deposited: 5.0. New balance: 1005.0\n",
            "\n",
            "ATM Menu:\n",
            "1. Show Balance\n",
            "2. Deposit\n",
            "3. Withdraw\n",
            "4. Exit\n",
            "Choose an option: 1\n",
            "Your current balance is: 1005.0\n",
            "\n",
            "ATM Menu:\n",
            "1. Show Balance\n",
            "2. Deposit\n",
            "3. Withdraw\n",
            "4. Exit\n",
            "Choose an option: 4\n",
            "Thank you for using the ATM!\n"
          ]
        }
      ]
    },
    {
      "cell_type": "code",
      "source": [
        "\n",
        "# 16. Build a program that checks if a given string is a palindrome or not.\n",
        "word = input(\"Enter a string: \").lower().replace(\" \", \"\")\n",
        "if word == word[::-1]:\n",
        "    print(f\"{word} is a palindrome.\")\n",
        "else:\n",
        "    print(f\"{word} is not a palindrome.\")\n"
      ],
      "metadata": {
        "colab": {
          "base_uri": "https://localhost:8080/"
        },
        "id": "zCVC3yKlVOXF",
        "outputId": "380d4a46-9275-4b80-f26e-0b2f1fc4935a"
      },
      "execution_count": 46,
      "outputs": [
        {
          "output_type": "stream",
          "name": "stdout",
          "text": [
            "Enter a string: Naman\n",
            "naman is a palindrome.\n"
          ]
        }
      ]
    },
    {
      "cell_type": "code",
      "source": [
        "# 17. Write a program that calculates the average of a list of numbers, excluding the smallest and largest values.\n",
        "numbers = list(map(float, input(\"Enter a list of numbers (separated by spaces): \").split()))\n",
        "\n",
        "if len(numbers) > 2:\n",
        "    numbers.remove(min(numbers))\n",
        "    numbers.remove(max(numbers))\n",
        "    average = sum(numbers) / len(numbers)\n",
        "    print(f\"The average is {average}\")\n",
        "else:\n",
        "    print(\"Not enough numbers to exclude the smallest and largest values.\")\n"
      ],
      "metadata": {
        "colab": {
          "base_uri": "https://localhost:8080/"
        },
        "id": "K1cYBpz3VRTs",
        "outputId": "8824ccc5-592f-4229-ee09-5859ae091437"
      },
      "execution_count": 47,
      "outputs": [
        {
          "output_type": "stream",
          "name": "stdout",
          "text": [
            "Enter a list of numbers (separated by spaces): 1 2 3\n",
            "The average is 2.0\n"
          ]
        }
      ]
    },
    {
      "cell_type": "code",
      "source": [
        "# 18. Develop a program that converts a given temperature from Celsius to Fahrenheit.\n",
        "celsius = float(input(\"Enter temperature in Celsius: \"))\n",
        "fahrenheit = (celsius * 9/5) + 32\n",
        "print(f\"{celsius}°C is equal to {fahrenheit}°F.\")\n"
      ],
      "metadata": {
        "colab": {
          "base_uri": "https://localhost:8080/"
        },
        "id": "--lmj-urWUS3",
        "outputId": "c06d7a72-eb8b-452a-b65c-5f9edde12b7d"
      },
      "execution_count": 48,
      "outputs": [
        {
          "output_type": "stream",
          "name": "stdout",
          "text": [
            "Enter temperature in Celsius: 20\n",
            "20.0°C is equal to 68.0°F.\n"
          ]
        }
      ]
    },
    {
      "cell_type": "code",
      "source": [
        "# 19. Create a program that simulates a basic calculator for addition, subtraction, multiplication, and division.\n",
        "def add(x, y):\n",
        "    return x + y\n",
        "\n",
        "def subtract(x, y):\n",
        "    return x - y\n",
        "\n",
        "def multiply(x, y):\n",
        "    return x * y\n",
        "\n",
        "def divide(x, y):\n",
        "    if y != 0:\n",
        "        return x / y\n",
        "    else:\n",
        "        return \"Cannot divide by zero\"\n",
        "\n",
        "print(\"Basic Calculator\")\n",
        "print(\"1. Add\")\n",
        "print(\"2. Subtract\")\n",
        "print(\"3. Multiply\")\n",
        "print(\"4. Divide\")\n",
        "\n",
        "choice = input(\"Choose operation: \")\n",
        "\n",
        "num1 = float(input(\"Enter first number: \"))\n",
        "num2 = float(input(\"Enter second number: \"))\n",
        "\n",
        "if choice == '1':\n",
        "    print(f\"{num1} + {num2} = {add(num1, num2)}\")\n",
        "elif choice == '2':\n",
        "    print(f\"{num1} - {num2} = {subtract(num1, num2)}\")\n",
        "elif choice == '3':\n",
        "    print(f\"{num1} * {num2} = {multiply(num1, num2)}\")\n",
        "elif choice == '4':\n",
        "    print(f\"{num1} / {num2} = {divide(num1, num2)}\")\n",
        "else:\n",
        "    print(\"Invalid choice\")\n"
      ],
      "metadata": {
        "colab": {
          "base_uri": "https://localhost:8080/"
        },
        "id": "gyveiD1-WXbR",
        "outputId": "bc12c53c-eb19-4a32-fb48-3e08aed65d6c"
      },
      "execution_count": 49,
      "outputs": [
        {
          "output_type": "stream",
          "name": "stdout",
          "text": [
            "Basic Calculator\n",
            "1. Add\n",
            "2. Subtract\n",
            "3. Multiply\n",
            "4. Divide\n",
            "Choose operation: 1\n",
            "Enter first number: 1\n",
            "Enter second number: 5\n",
            "1.0 + 5.0 = 6.0\n"
          ]
        }
      ]
    },
    {
      "cell_type": "code",
      "source": [
        "# 20. Write a program that determines the roots of a cubic equation using the Cardano formula.\n",
        "# Cardano's method for solving cubic equations is quite advanced and involves several steps.\n",
        "# Here's a simplified version of calculating the real root for a cubic equation of the form:\n",
        "# ax^3 + bx^2 + cx + d = 0\n",
        "\n",
        "def solve_cubic(a, b, c, d):\n",
        "    delta0 = b**2 - 3*a*c\n",
        "    delta1 = 2*b**3 - 9*a*b*c + 27*a**2*d\n",
        "    discriminant = delta1**2 - 4*delta0**3\n",
        "\n",
        "    if discriminant >= 0:\n",
        "        C = ((delta1 + math.sqrt(discriminant)) / 2) ** (1/3)\n",
        "    else:\n",
        "        C = ((delta1 - math.sqrt(abs(discriminant))) / 2) ** (1/3)\n",
        "\n",
        "    root1 = -1/(3*a) * (b + C + delta0 / C)\n",
        "    return root1\n",
        "\n",
        "a = float(input(\"Enter coefficient a: \"))\n",
        "b = float(input(\"Enter coefficient b: \"))\n",
        "c = float(input(\"Enter coefficient c: \"))\n",
        "d = float(input(\"Enter coefficient d: \"))\n",
        "\n",
        "root = solve_cubic(a, b, c, d)\n",
        "print(f\"The real root is: {root}\")\n"
      ],
      "metadata": {
        "colab": {
          "base_uri": "https://localhost:8080/"
        },
        "id": "eRZD0SgQWZtT",
        "outputId": "0ea7bea0-13ee-4aed-8a8e-517424d385dc"
      },
      "execution_count": 50,
      "outputs": [
        {
          "output_type": "stream",
          "name": "stdout",
          "text": [
            "Enter coefficient a: 15\n",
            "Enter coefficient b: 10\n",
            "Enter coefficient c: 5\n",
            "Enter coefficient d: 8\n",
            "The real root is: -0.9273707110241874\n"
          ]
        }
      ]
    },
    {
      "cell_type": "code",
      "source": [
        "# 21. Create a program that calculates the income tax based on the user's income and tax brackets.\n",
        "def calculate_tax(income):\n",
        "    if income <= 10000:\n",
        "        tax = 0\n",
        "    elif income <= 30000:\n",
        "        tax = (income - 10000) * 0.1\n",
        "    elif income <= 100000:\n",
        "        tax = (income - 30000) * 0.2 + 2000\n",
        "    else:\n",
        "        tax = (income - 100000) * 0.3 + 18000\n",
        "\n",
        "    return tax\n",
        "\n",
        "income = float(input(\"Enter your income: \"))\n",
        "tax = calculate_tax(income)\n",
        "print(f\"Your income tax is: {tax}\")\n"
      ],
      "metadata": {
        "colab": {
          "base_uri": "https://localhost:8080/"
        },
        "id": "51disOEcWctX",
        "outputId": "4809d803-033e-46dc-9f56-3e1a19ae0980"
      },
      "execution_count": 51,
      "outputs": [
        {
          "output_type": "stream",
          "name": "stdout",
          "text": [
            "Enter your income: 30000\n",
            "Your income tax is: 2000.0\n"
          ]
        }
      ]
    },
    {
      "cell_type": "code",
      "source": [
        "# 22. Write a program that simulates a rock-paper-scissors game against the computer.\n",
        "import random\n",
        "\n",
        "choices = [\"rock\", \"paper\", \"scissors\"]\n",
        "computer_choice = random.choice(choices)\n",
        "\n",
        "user_choice = input(\"Enter rock, paper, or scissors: \").lower()\n",
        "\n",
        "if user_choice == computer_choice:\n",
        "    print(f\"Draw! Both chose {user_choice}.\")\n",
        "elif (user_choice == \"rock\" and computer_choice == \"scissors\") or \\\n",
        "     (user_choice == \"scissors\" and computer_choice == \"paper\") or \\\n",
        "     (user_choice == \"paper\" and computer_choice == \"rock\"):\n",
        "    print(f\"You win! {user_choice} beats {computer_choice}.\")\n",
        "else:\n",
        "    print(f\"You lose! {computer_choice} beats {user_choice}.\")\n"
      ],
      "metadata": {
        "colab": {
          "base_uri": "https://localhost:8080/"
        },
        "id": "ul2SL1X_WhQi",
        "outputId": "2b4617bf-263f-4c59-b8a1-fd651e7492bd"
      },
      "execution_count": 52,
      "outputs": [
        {
          "output_type": "stream",
          "name": "stdout",
          "text": [
            "Enter rock, paper, or scissors: rock\n",
            "Draw! Both chose rock.\n"
          ]
        }
      ]
    },
    {
      "cell_type": "code",
      "source": [
        "# 23. Develop a program that generates a random password based on user preferences (length, complexity).\n",
        "import random\n",
        "import string\n",
        "\n",
        "def generate_password(length, complexity):\n",
        "    characters = string.ascii_letters + string.digits\n",
        "    if complexity == 2:\n",
        "        characters += string.punctuation\n",
        "\n",
        "    password = ''.join(random.choice(characters) for i in range(length))\n",
        "    return password\n",
        "\n",
        "length = int(input(\"Enter password length: \"))\n",
        "complexity = int(input(\"Enter complexity level (1 for simple, 2 for complex): \"))\n",
        "\n",
        "password = generate_password(length, complexity)\n",
        "print(f\"Generated password: {password}\")\n"
      ],
      "metadata": {
        "colab": {
          "base_uri": "https://localhost:8080/"
        },
        "id": "qhGqWJ2QWjtC",
        "outputId": "127ed880-bfb1-46ce-8aee-c9e4bcb2b0f0"
      },
      "execution_count": 53,
      "outputs": [
        {
          "output_type": "stream",
          "name": "stdout",
          "text": [
            "Enter password length: 5\n",
            "Enter complexity level (1 for simple, 2 for complex): 2\n",
            "Generated password: c5rgu\n"
          ]
        }
      ]
    },
    {
      "cell_type": "code",
      "source": [
        "# 24. Create a program that implements a simple text-based adventure game with branching scenarios.\n",
        "def start_game():\n",
        "    print(\"You are in a dark room. There are two doors: one to the left and one to the right.\")\n",
        "    choice = input(\"Which door do you want to open? (left/right): \").lower()\n",
        "\n",
        "    if choice == \"left\":\n",
        "        print(\"You find a treasure chest full of gold!\")\n",
        "    elif choice == \"right\":\n",
        "        print(\"You encounter a fierce dragon! You have been defeated.\")\n",
        "    else:\n",
        "        print(\"Invalid choice. You stay in the dark room forever.\")\n",
        "\n",
        "start_game()\n"
      ],
      "metadata": {
        "colab": {
          "base_uri": "https://localhost:8080/"
        },
        "id": "SV9eMCmkWnEY",
        "outputId": "0da9bbba-ac58-4447-8d49-c2fa4a400dd2"
      },
      "execution_count": 54,
      "outputs": [
        {
          "output_type": "stream",
          "name": "stdout",
          "text": [
            "You are in a dark room. There are two doors: one to the left and one to the right.\n",
            "Which door do you want to open? (left/right): right\n",
            "You encounter a fierce dragon! You have been defeated.\n"
          ]
        }
      ]
    },
    {
      "cell_type": "code",
      "source": [
        "# 25. Build a program that solves a linear equation for x, considering different cases.\n",
        "def solve_linear(a, b):\n",
        "    if a == 0:\n",
        "        if b == 0:\n",
        "            print(\"Infinite solutions\")\n",
        "        else:\n",
        "            print(\"No solution\")\n",
        "    else:\n",
        "        x = -b / a\n",
        "        print(f\"The solution is x = {x}\")\n",
        "\n",
        "a = float(input(\"Enter coefficient a: \"))\n",
        "b = float(input(\"Enter coefficient b: \"))\n",
        "\n",
        "solve_linear(a, b)\n"
      ],
      "metadata": {
        "colab": {
          "base_uri": "https://localhost:8080/"
        },
        "id": "WURfxC5YWpKO",
        "outputId": "cbdfc9aa-e116-41a2-9986-6e752ed95a52"
      },
      "execution_count": 55,
      "outputs": [
        {
          "output_type": "stream",
          "name": "stdout",
          "text": [
            "Enter coefficient a: 5\n",
            "Enter coefficient b: 1\n",
            "The solution is x = -0.2\n"
          ]
        }
      ]
    },
    {
      "cell_type": "code",
      "source": [
        "# 26. Write a program that simulates a basic quiz game with multiple-choice questions and scoring.\n",
        "def quiz_game():\n",
        "    score = 0\n",
        "    question1 = input(\"What is the capital of France? a) Berlin b) Madrid c) Paris d) Rome: \").lower()\n",
        "    if question1 == \"c\":\n",
        "        score += 1\n",
        "\n",
        "    question2 = input(\"What is 2 + 2? a) 3 b) 4 c) 5 d) 6: \").lower()\n",
        "    if question2 == \"b\":\n",
        "        score += 1\n",
        "\n",
        "    print(f\"Your final score is: {score}\")\n",
        "\n",
        "quiz_game()\n"
      ],
      "metadata": {
        "colab": {
          "base_uri": "https://localhost:8080/"
        },
        "id": "imaOofpRWsLc",
        "outputId": "4abf1bfd-3b07-4237-ec35-82cbc621e627"
      },
      "execution_count": 56,
      "outputs": [
        {
          "output_type": "stream",
          "name": "stdout",
          "text": [
            "What is the capital of France? a) Berlin b) Madrid c) Paris d) Rome: Rome\n",
            "What is 2 + 2? a) 3 b) 4 c) 5 d) 6: 4\n",
            "Your final score is: 0\n"
          ]
        }
      ]
    },
    {
      "cell_type": "code",
      "source": [
        "# 27. Develop a program that determines whether a given year is a prime number or not.\n",
        "def is_prime(year):\n",
        "    if year <= 1:\n",
        "        return False\n",
        "    for i in range(2, int(year ** 0.5) + 1):\n",
        "        if year % i == 0:\n",
        "            return False\n",
        "    return True\n",
        "\n",
        "year = int(input(\"Enter a year: \"))\n",
        "if is_prime(year):\n",
        "    print(f\"{year} is a prime number.\")\n",
        "else:\n",
        "    print(f\"{year} is not a prime number.\")\n"
      ],
      "metadata": {
        "colab": {
          "base_uri": "https://localhost:8080/"
        },
        "id": "DucCT9mkWvkH",
        "outputId": "b069ffe3-caf5-4be3-b121-b66e57760a6e"
      },
      "execution_count": 57,
      "outputs": [
        {
          "output_type": "stream",
          "name": "stdout",
          "text": [
            "Enter a year: 7\n",
            "7 is a prime number.\n"
          ]
        }
      ]
    },
    {
      "cell_type": "code",
      "source": [
        "# 28. Create a program that sorts three numbers in ascending order using conditional statements.\n",
        "num1 = float(input(\"Enter the first number: \"))\n",
        "num2 = float(input(\"Enter the second number: \"))\n",
        "num3 = float(input(\"Enter the third number: \"))\n",
        "\n",
        "if num1 <= num2 <= num3:\n",
        "    print(f\"Sorted: {num1}, {num2}, {num3}\")\n",
        "elif num1 <= num3 <= num2:\n",
        "    print(f\"Sorted: {num1}, {num3}, {num2}\")\n",
        "elif num2 <= num1 <= num3:\n",
        "    print(f\"Sorted: {num2}, {num1}, {num3}\")\n",
        "elif num2 <= num3 <= num1:\n",
        "    print(f\"Sorted: {num2}, {num3}, {num1}\")\n",
        "elif num3 <= num1 <= num2:\n",
        "    print(f\"Sorted: {num3}, {num1}, {num2}\")\n",
        "else:\n",
        "    print(f\"Sorted: {num3}, {num2}, {num1}\")\n"
      ],
      "metadata": {
        "colab": {
          "base_uri": "https://localhost:8080/"
        },
        "id": "ldI-sEyrWwuH",
        "outputId": "6b62f78f-c9b6-41c9-872f-944608ac5b35"
      },
      "execution_count": 58,
      "outputs": [
        {
          "output_type": "stream",
          "name": "stdout",
          "text": [
            "Enter the first number: 1\n",
            "Enter the second number: 2\n",
            "Enter the third number: 3\n",
            "Sorted: 1.0, 2.0, 3.0\n"
          ]
        }
      ]
    },
    {
      "cell_type": "code",
      "source": [
        "# 29. Build a program that determines the roots of a quartic equation using numerical methods.\n",
        "# Solving quartic equations numerically is complex and usually requires specialized algorithms.\n",
        "# Here's an approximation using the `numpy` library for simplicity.\n",
        "import numpy as np\n",
        "\n",
        "def solve_quartic(a, b, c, d, e):\n",
        "    coefficients = [a, b, c, d, e]\n",
        "    roots = np.roots(coefficients)\n",
        "    return roots\n",
        "\n",
        "a = float(input(\"Enter coefficient a: \"))\n",
        "b = float(input(\"Enter coefficient b: \"))\n",
        "c = float(input(\"Enter coefficient c: \"))\n",
        "d = float(input(\"Enter coefficient d: \"))\n",
        "e = float(input(\"Enter coefficient e: \"))\n",
        "\n",
        "roots = solve_quartic(a, b, c, d, e)\n",
        "print(f\"The roots of the quartic equation are: {roots}\")\n"
      ],
      "metadata": {
        "colab": {
          "base_uri": "https://localhost:8080/"
        },
        "id": "7hqT2rVyWze5",
        "outputId": "3025dc45-0b49-4ce5-8505-ff5a1d15a7cf"
      },
      "execution_count": 60,
      "outputs": [
        {
          "output_type": "stream",
          "name": "stdout",
          "text": [
            "Enter coefficient a: 1\n",
            "Enter coefficient b: 2\n",
            "Enter coefficient c: 3\n",
            "Enter coefficient d: 4\n",
            "Enter coefficient e: 5\n",
            "The roots of the quartic equation are: [-1.28781548+0.85789676j -1.28781548-0.85789676j  0.28781548+1.41609308j\n",
            "  0.28781548-1.41609308j]\n"
          ]
        }
      ]
    },
    {
      "cell_type": "code",
      "source": [
        "# 30. Write a program that calculates the BMI (Body Mass Index) and provides health recommendations based on the user's input.\n",
        "def calculate_bmi(weight, height):\n",
        "    return weight / height**2\n",
        "\n",
        "def bmi_category(bmi):\n",
        "    if bmi < 18.5:\n",
        "        return \"Underweight\"\n",
        "    elif 18.5 <= bmi < 24.9:\n",
        "        return \"Normal weight\"\n",
        "    elif 25 <= bmi < 29.9:\n",
        "        return \"Overweight\"\n",
        "    else:\n",
        "        return \"Obesity\"\n",
        "\n",
        "weight = float(input(\"Enter your weight (in kg): \"))\n",
        "height = float(input(\"Enter your height (in meters): \"))\n",
        "\n",
        "bmi = calculate_bmi(weight, height)\n",
        "category = bmi_category(bmi)\n",
        "\n",
        "print(f\"Your BMI is: {bmi:.2f}, which falls under the category: {category}\")\n"
      ],
      "metadata": {
        "colab": {
          "base_uri": "https://localhost:8080/"
        },
        "id": "wQYJbhBQW1TB",
        "outputId": "5aee3c4b-e771-4268-b478-ccade85ff023"
      },
      "execution_count": 61,
      "outputs": [
        {
          "output_type": "stream",
          "name": "stdout",
          "text": [
            "Enter your weight (in kg): 68\n",
            "Enter your height (in meters): 1.6\n",
            "Your BMI is: 26.56, which falls under the category: Overweight\n"
          ]
        }
      ]
    },
    {
      "cell_type": "code",
      "source": [
        "# 31. Create a program that validates a password based on complexity rules (length, characters, etc.).\n",
        "import re\n",
        "\n",
        "def validate_password(password):\n",
        "    if len(password) < 8:\n",
        "        return \"Password too short!\"\n",
        "    if not re.search(r\"[A-Za-z]\", password):\n",
        "        return \"Password must contain letters!\"\n",
        "    if not re.search(r\"[0-9]\", password):\n",
        "        return \"Password must contain numbers!\"\n",
        "    if not re.search(r\"[!@#$%^&*()_+]\", password):\n",
        "        return \"Password must contain special characters!\"\n",
        "    return \"Password is valid!\"\n",
        "\n",
        "password = input(\"Enter a password: \")\n",
        "result = validate_password(password)\n",
        "print(result)\n"
      ],
      "metadata": {
        "colab": {
          "base_uri": "https://localhost:8080/"
        },
        "id": "ufxoirn2W_u1",
        "outputId": "9a551bd9-59e0-40d5-b3a6-e158c933ee89"
      },
      "execution_count": 62,
      "outputs": [
        {
          "output_type": "stream",
          "name": "stdout",
          "text": [
            "Enter a password: Ramayan\n",
            "Password too short!\n"
          ]
        }
      ]
    },
    {
      "cell_type": "code",
      "source": [
        "# 32. Develop a program that performs matrix addition and subtraction based on user input.\n",
        "import numpy as np\n",
        "\n",
        "def matrix_operations():\n",
        "    print(\"Enter the dimensions of the matrices (rows x columns):\")\n",
        "    rows, cols = map(int, input().split())\n",
        "\n",
        "    print(\"Enter the elements of the first matrix:\")\n",
        "    matrix1 = np.array([list(map(int, input().split())) for _ in range(rows)])\n",
        "\n",
        "    print(\"Enter the elements of the second matrix:\")\n",
        "    matrix2 = np.array([list(map(int, input().split())) for _ in range(rows)])\n",
        "\n",
        "    print(\"Matrix 1:\")\n",
        "    print(matrix1)\n",
        "\n",
        "    print(\"Matrix 2:\")\n",
        "    print(matrix2)\n",
        "\n",
        "    add_result = matrix1 + matrix2\n",
        "    subtract_result = matrix1 - matrix2\n",
        "\n",
        "    print(\"\\nMatrix addition result:\")\n",
        "    print(add_result)\n",
        "\n",
        "    print(\"\\nMatrix subtraction result:\")\n",
        "    print(subtract_result)\n",
        "\n",
        "matrix_operations()\n"
      ],
      "metadata": {
        "colab": {
          "base_uri": "https://localhost:8080/"
        },
        "id": "_21VhPnfXCSr",
        "outputId": "3f505534-b0b9-42c1-9c49-3697063400ec"
      },
      "execution_count": 63,
      "outputs": [
        {
          "output_type": "stream",
          "name": "stdout",
          "text": [
            "Enter the dimensions of the matrices (rows x columns):\n",
            "1 2\n",
            "Enter the elements of the first matrix:\n",
            "1\n",
            "Enter the elements of the second matrix:\n",
            "2\n",
            "Matrix 1:\n",
            "[[1]]\n",
            "Matrix 2:\n",
            "[[2]]\n",
            "\n",
            "Matrix addition result:\n",
            "[[3]]\n",
            "\n",
            "Matrix subtraction result:\n",
            "[[-1]]\n"
          ]
        }
      ]
    },
    {
      "cell_type": "code",
      "source": [
        "# 33. Write a program that calculates the greatest common divisor (GCD) of two numbers using the Euclidean algorithm.\n",
        "def gcd(a, b):\n",
        "    while b:\n",
        "        a, b = b, a % b\n",
        "    return a\n",
        "\n",
        "a = int(input(\"Enter the first number: \"))\n",
        "b = int(input(\"Enter the second number: \"))\n",
        "\n",
        "gcd_result = gcd(a, b)\n",
        "print(f\"The GCD of {a} and {b} is: {gcd_result}\")\n"
      ],
      "metadata": {
        "colab": {
          "base_uri": "https://localhost:8080/"
        },
        "id": "u8iA8HQkXESA",
        "outputId": "87dd7d34-0e5c-46c4-b7cf-bddb8b233319"
      },
      "execution_count": 64,
      "outputs": [
        {
          "output_type": "stream",
          "name": "stdout",
          "text": [
            "Enter the first number: 1\n",
            "Enter the second number: 2\n",
            "The GCD of 1 and 2 is: 1\n"
          ]
        }
      ]
    },
    {
      "cell_type": "code",
      "source": [
        "# 34. Build a program that performs matrix multiplication using nested loops and conditional statements.\n",
        "def matrix_multiplication():\n",
        "    print(\"Enter the dimensions of the first matrix (rows x columns):\")\n",
        "    rows1, cols1 = map(int, input().split())\n",
        "\n",
        "    print(\"Enter the dimensions of the second matrix (rows x columns):\")\n",
        "    rows2, cols2 = map(int, input().split())\n",
        "\n",
        "    if cols1 != rows2:\n",
        "        print(\"Matrix multiplication is not possible.\")\n",
        "        return\n",
        "\n",
        "    print(\"Enter the elements of the first matrix:\")\n",
        "    matrix1 = [list(map(int, input().split())) for _ in range(rows1)]\n",
        "\n",
        "    print(\"Enter the elements of the second matrix:\")\n",
        "    matrix2 = [list(map(int, input().split())) for _ in range(rows2)]\n",
        "\n",
        "    result = [[0 for _ in range(cols2)] for _ in range(rows1)]\n",
        "\n",
        "    for i in range(rows1):\n",
        "        for j in range(cols2):\n",
        "            for k in range(cols1):\n",
        "                result[i][j] += matrix1[i][k] * matrix2[k][j]\n",
        "\n",
        "    print(\"Matrix multiplication result:\")\n",
        "    for row in result:\n",
        "        print(row)\n",
        "\n",
        "matrix_multiplication()\n"
      ],
      "metadata": {
        "colab": {
          "base_uri": "https://localhost:8080/"
        },
        "id": "WU7kfmJZXHEx",
        "outputId": "e5b019fe-b17c-4172-d079-49923f3adf48"
      },
      "execution_count": 65,
      "outputs": [
        {
          "output_type": "stream",
          "name": "stdout",
          "text": [
            "Enter the dimensions of the first matrix (rows x columns):\n",
            "2 2\n",
            "Enter the dimensions of the second matrix (rows x columns):\n",
            "1 2\n",
            "Matrix multiplication is not possible.\n"
          ]
        }
      ]
    },
    {
      "cell_type": "code",
      "source": [
        "# 35. Create a program that simulates a basic text-based tic-tac-toe game against the computer.\n",
        "import random\n",
        "\n",
        "def print_board(board):\n",
        "    print(\"\\n\")\n",
        "    for row in board:\n",
        "        print(\" | \".join(row))\n",
        "        print(\"-\" * 5)\n",
        "\n",
        "def check_winner(board, player):\n",
        "    for row in board:\n",
        "        if all([spot == player for spot in row]):\n",
        "            return True\n",
        "    for col in range(3):\n",
        "        if all([board[row][col] == player for row in range(3)]):\n",
        "            return True\n",
        "    if all([board[i][i] == player for i in range(3)]) or all([board[i][2-i] == player for i in range(3)]):\n",
        "        return True\n",
        "    return False\n",
        "\n",
        "def computer_move(board):\n",
        "    empty_spots = [(i, j) for i in range(3) for j in range(3) if board[i][j] == \" \"]\n",
        "    return random.choice(empty_spots)\n",
        "\n",
        "def tic_tac_toe():\n",
        "    board = [[\" \" for _ in range(3)] for _ in range(3)]\n",
        "    print_board(board)\n",
        "\n",
        "    while True:\n",
        "        # Player move\n",
        "        row, col = map(int, input(\"Enter your move (row col): \").split())\n",
        "        if board[row][col] != \" \":\n",
        "            print(\"Spot already taken. Try again.\")\n",
        "            continue\n",
        "        board[row][col] = \"X\"\n",
        "\n",
        "        if check_winner(board, \"X\"):\n",
        "            print_board(board)\n",
        "            print(\"You win!\")\n",
        "            break\n",
        "\n",
        "        # Computer move\n",
        "        row, col = computer_move(board)\n",
        "        board[row][col] = \"O\"\n",
        "        print(f\"Computer's move: {row} {col}\")\n",
        "\n",
        "        if check_winner(board, \"O\"):\n",
        "            print_board(board)\n",
        "            print(\"Computer wins!\")\n",
        "            break\n",
        "\n",
        "        print_board(board)\n",
        "\n",
        "tic_tac_toe()\n"
      ],
      "metadata": {
        "colab": {
          "base_uri": "https://localhost:8080/"
        },
        "id": "ScfB9cBvXKDc",
        "outputId": "b2b7e96a-7fd4-494a-f850-a706f4e1d3b9"
      },
      "execution_count": 66,
      "outputs": [
        {
          "output_type": "stream",
          "name": "stdout",
          "text": [
            "\n",
            "\n",
            "  |   |  \n",
            "-----\n",
            "  |   |  \n",
            "-----\n",
            "  |   |  \n",
            "-----\n",
            "Enter your move (row col): 1 2\n",
            "Computer's move: 2 2\n",
            "\n",
            "\n",
            "  |   |  \n",
            "-----\n",
            "  |   | X\n",
            "-----\n",
            "  |   | O\n",
            "-----\n",
            "Enter your move (row col): 1 1\n",
            "Computer's move: 2 0\n",
            "\n",
            "\n",
            "  |   |  \n",
            "-----\n",
            "  | X | X\n",
            "-----\n",
            "O |   | O\n",
            "-----\n",
            "Enter your move (row col): 2 1\n",
            "Computer's move: 0 0\n",
            "\n",
            "\n",
            "O |   |  \n",
            "-----\n",
            "  | X | X\n",
            "-----\n",
            "O | X | O\n",
            "-----\n",
            "Enter your move (row col): 1 0\n",
            "\n",
            "\n",
            "O |   |  \n",
            "-----\n",
            "X | X | X\n",
            "-----\n",
            "O | X | O\n",
            "-----\n",
            "You win!\n"
          ]
        }
      ]
    },
    {
      "cell_type": "code",
      "source": [
        "# 36. Write a program that generates Fibonacci numbers up to a specified term using iterative methods.\n",
        "def fibonacci_iterative(n):\n",
        "    fib_sequence = [0, 1]\n",
        "    for i in range(2, n):\n",
        "        fib_sequence.append(fib_sequence[i-1] + fib_sequence[i-2])\n",
        "    return fib_sequence\n",
        "\n",
        "n = int(input(\"Enter the number of terms in the Fibonacci sequence: \"))\n",
        "fib_sequence = fibonacci_iterative(n)\n",
        "print(f\"The Fibonacci sequence up to term {n} is: {fib_sequence}\")\n"
      ],
      "metadata": {
        "colab": {
          "base_uri": "https://localhost:8080/"
        },
        "id": "uhOxzKztXMM0",
        "outputId": "3a33749b-e5a3-413a-ad82-37750ebf88b6"
      },
      "execution_count": 67,
      "outputs": [
        {
          "output_type": "stream",
          "name": "stdout",
          "text": [
            "Enter the number of terms in the Fibonacci sequence: 5\n",
            "The Fibonacci sequence up to term 5 is: [0, 1, 1, 2, 3]\n"
          ]
        }
      ]
    },
    {
      "cell_type": "code",
      "source": [
        "# 37. Develop a program that calculates the nth term of the Fibonacci sequence using memoization.\n",
        "def fibonacci_memoization(n, memo={}):\n",
        "    if n in memo:\n",
        "        return memo[n]\n",
        "    if n <= 1:\n",
        "        return n\n",
        "    memo[n] = fibonacci_memoization(n-1, memo) + fibonacci_memoization(n-2, memo)\n",
        "    return memo[n]\n",
        "\n",
        "n = int(input(\"Enter the nth term for the Fibonacci sequence: \"))\n",
        "fib_n = fibonacci_memoization(n)\n",
        "print(f\"The {n}th term in the Fibonacci sequence is: {fib_n}\")\n"
      ],
      "metadata": {
        "colab": {
          "base_uri": "https://localhost:8080/"
        },
        "id": "Mnz2eKp8XOZq",
        "outputId": "9131610d-19a1-4a5a-e57c-59256fcd78d1"
      },
      "execution_count": 68,
      "outputs": [
        {
          "output_type": "stream",
          "name": "stdout",
          "text": [
            "Enter the nth term for the Fibonacci sequence: 7\n",
            "The 7th term in the Fibonacci sequence is: 13\n"
          ]
        }
      ]
    },
    {
      "cell_type": "code",
      "source": [
        "# 38. Create a program that generates a calendar for a given month and year using conditional statements.\n",
        "import calendar\n",
        "\n",
        "def print_calendar(year, month):\n",
        "    cal = calendar.month(year, month)\n",
        "    print(f\"\\n{cal}\")\n",
        "\n",
        "year = int(input(\"Enter year: \"))\n",
        "month = int(input(\"Enter month (1-12): \"))\n",
        "\n",
        "print_calendar(year, month)\n"
      ],
      "metadata": {
        "colab": {
          "base_uri": "https://localhost:8080/"
        },
        "id": "2ME6VdvQXQm3",
        "outputId": "2a2875b0-aa76-48cb-e9fc-d66cf92bce34"
      },
      "execution_count": 69,
      "outputs": [
        {
          "output_type": "stream",
          "name": "stdout",
          "text": [
            "Enter year: 2024\n",
            "Enter month (1-12): 5\n",
            "\n",
            "      May 2024\n",
            "Mo Tu We Th Fr Sa Su\n",
            "       1  2  3  4  5\n",
            " 6  7  8  9 10 11 12\n",
            "13 14 15 16 17 18 19\n",
            "20 21 22 23 24 25 26\n",
            "27 28 29 30 31\n",
            "\n"
          ]
        }
      ]
    },
    {
      "cell_type": "code",
      "source": [
        "# 39. Build a program that simulates a basic text-based blackjack game against the computer.\n",
        "import random\n",
        "\n",
        "def deal_card():\n",
        "    cards = [2, 3, 4, 5, 6, 7, 8, 9, 10, \"J\", \"Q\", \"K\", \"A\"]\n",
        "    return random.choice(cards)\n",
        "\n",
        "def calculate_score(hand):\n",
        "    score = 0\n",
        "    ace_count = hand.count(\"A\")\n",
        "    for card in hand:\n",
        "        if card in [\"J\", \"Q\", \"K\"]:\n",
        "            score += 10\n",
        "        elif card == \"A\":\n",
        "            score += 11\n",
        "        else:\n",
        "            score += int(card)\n",
        "\n",
        "    while score > 21 and ace_count:\n",
        "        score -= 10\n",
        "        ace_count -= 1\n",
        "\n",
        "    return score\n",
        "\n",
        "def blackjack():\n",
        "    user_hand = [deal_card(), deal_card()]\n",
        "    computer_hand = [deal_card(), deal_card()]\n",
        "\n",
        "    while calculate_score(user_hand) < 21:\n",
        "        print(f\"Your hand: {user_hand}, score: {calculate_score(user_hand)}\")\n",
        "        print(f\"Computer's hand: {computer_hand[0]}, ?\")\n",
        "        if input(\"Do you want to draw another card? (y/n): \").lower() != \"y\":\n",
        "            break\n",
        "        user_hand.append(deal_card())\n",
        "\n",
        "    while calculate_score(computer_hand) < 17:\n",
        "        computer_hand.append(deal_card())\n",
        "\n",
        "    print(f\"Your hand: {user_hand}, score: {calculate_score(user_hand)}\")\n",
        "    print(f\"Computer's hand: {computer_hand}, score: {calculate_score(computer_hand)}\")\n",
        "\n",
        "    user_score = calculate_score(user_hand)\n",
        "    computer_score = calculate_score(computer_hand)\n",
        "\n",
        "    if user_score > 21:\n",
        "        print(\"You went over 21! You lose.\")\n",
        "    elif computer_score > 21:\n",
        "        print(\"Computer went over 21! You win.\")\n",
        "    elif user_score > computer_score:\n",
        "        print(\"You win!\")\n",
        "    elif user_score < computer_score:\n",
        "        print(\"You lose!\")\n",
        "    else:\n",
        "        print(\"It's a draw!\")\n",
        "\n",
        "blackjack()\n"
      ],
      "metadata": {
        "colab": {
          "base_uri": "https://localhost:8080/"
        },
        "id": "8kqV8-pWXSzk",
        "outputId": "8a70e418-0d5e-456b-a457-3f8279bb3a7f"
      },
      "execution_count": 70,
      "outputs": [
        {
          "output_type": "stream",
          "name": "stdout",
          "text": [
            "Your hand: [8, 7], score: 15\n",
            "Computer's hand: Q, ?\n",
            "Do you want to draw another card? (y/n): y\n",
            "Your hand: [8, 7, 8], score: 23\n",
            "Computer's hand: ['Q', 9], score: 19\n",
            "You went over 21! You lose.\n"
          ]
        }
      ]
    },
    {
      "cell_type": "code",
      "source": [
        "# 40. Write a program that generates the prime factors of a given number using trial division.\n",
        "def prime_factors(n):\n",
        "    factors = []\n",
        "    divisor = 2\n",
        "    while divisor * divisor <= n:\n",
        "        if n % divisor:\n",
        "            divisor += 1\n",
        "        else:\n",
        "            n //= divisor\n",
        "            factors.append(divisor)\n",
        "    if n > 1:\n",
        "        factors.append(n)\n",
        "    return factors\n",
        "\n",
        "n = int(input(\"Enter a number to find its prime factors: \"))\n",
        "factors = prime_factors(n)\n",
        "print(f\"The prime factors of {n} are: {factors}\")\n"
      ],
      "metadata": {
        "colab": {
          "base_uri": "https://localhost:8080/"
        },
        "id": "Vynw9ccHXU6i",
        "outputId": "b90c2925-2c4f-4f7a-caec-873a5c5cf95f"
      },
      "execution_count": 71,
      "outputs": [
        {
          "output_type": "stream",
          "name": "stdout",
          "text": [
            "Enter a number to find its prime factors: 15\n",
            "The prime factors of 15 are: [3, 5]\n"
          ]
        }
      ]
    },
    {
      "cell_type": "code",
      "source": [],
      "metadata": {
        "id": "oh01E4DfdKag"
      },
      "execution_count": null,
      "outputs": []
    }
  ]
}