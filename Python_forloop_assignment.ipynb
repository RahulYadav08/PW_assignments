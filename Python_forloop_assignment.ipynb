{
  "nbformat": 4,
  "nbformat_minor": 0,
  "metadata": {
    "colab": {
      "provenance": []
    },
    "kernelspec": {
      "name": "python3",
      "display_name": "Python 3"
    },
    "language_info": {
      "name": "python"
    }
  },
  "cells": [
    {
      "cell_type": "code",
      "execution_count": 1,
      "metadata": {
        "colab": {
          "base_uri": "https://localhost:8080/"
        },
        "id": "8J3LGwmaB4Zx",
        "outputId": "11d4faf6-1764-4091-b841-8e898005abfc"
      },
      "outputs": [
        {
          "output_type": "stream",
          "name": "stdout",
          "text": [
            "1\n",
            "2\n",
            "3\n",
            "4\n",
            "5\n",
            "6\n",
            "7\n",
            "8\n",
            "9\n",
            "10\n"
          ]
        }
      ],
      "source": [
        "# 1. Write a Python program to print the numbers from 1 to 10 using a for loop.\n",
        "for i in range(1, 11):\n",
        "    print(i)\n"
      ]
    },
    {
      "cell_type": "code",
      "source": [
        "# 2. Create a program that calculates the sum of all numbers in a list using a for loop.\n",
        "numbers = [1, 2, 3, 4, 5]\n",
        "total = 0\n",
        "for num in numbers:\n",
        "    total += num\n",
        "print(\"Sum:\", total)"
      ],
      "metadata": {
        "colab": {
          "base_uri": "https://localhost:8080/"
        },
        "id": "QFxoDAIbDr-P",
        "outputId": "734bd99d-ad91-4442-d77e-52688518065d"
      },
      "execution_count": 2,
      "outputs": [
        {
          "output_type": "stream",
          "name": "stdout",
          "text": [
            "Sum: 15\n"
          ]
        }
      ]
    },
    {
      "cell_type": "code",
      "source": [
        "# 3. Write a program to print the characters of a string in reverse order using a for loop.\n",
        "text = \"Hello\"\n",
        "for char in reversed(text):\n",
        "    print(char)"
      ],
      "metadata": {
        "colab": {
          "base_uri": "https://localhost:8080/"
        },
        "id": "1B9BWX-RDpsy",
        "outputId": "8484d9bd-08c3-4b80-f40e-51095540aef5"
      },
      "execution_count": 3,
      "outputs": [
        {
          "output_type": "stream",
          "name": "stdout",
          "text": [
            "o\n",
            "l\n",
            "l\n",
            "e\n",
            "H\n"
          ]
        }
      ]
    },
    {
      "cell_type": "code",
      "source": [
        "# 4. Develop a program that finds the factorial of a given number using a for loop.\n",
        "num = 5\n",
        "factorial = 1\n",
        "for i in range(1, num + 1):\n",
        "    factorial *= i\n",
        "print(\"Factorial:\", factorial)\n"
      ],
      "metadata": {
        "colab": {
          "base_uri": "https://localhost:8080/"
        },
        "id": "GsVtU8pXDkyD",
        "outputId": "34707be9-c6dd-4295-d894-96b61f7f75c0"
      },
      "execution_count": 4,
      "outputs": [
        {
          "output_type": "stream",
          "name": "stdout",
          "text": [
            "Factorial: 120\n"
          ]
        }
      ]
    },
    {
      "cell_type": "code",
      "source": [
        "# 5. Create a program to print the multiplication table of a given number using a for loop.\n",
        "num = 7\n",
        "for i in range(1, 11):\n",
        "    print(f\"{num} x {i} = {num * i}\")"
      ],
      "metadata": {
        "colab": {
          "base_uri": "https://localhost:8080/"
        },
        "id": "Xz49t54kDiOW",
        "outputId": "b1856f93-7583-41aa-891a-74f7d59893b4"
      },
      "execution_count": 5,
      "outputs": [
        {
          "output_type": "stream",
          "name": "stdout",
          "text": [
            "7 x 1 = 7\n",
            "7 x 2 = 14\n",
            "7 x 3 = 21\n",
            "7 x 4 = 28\n",
            "7 x 5 = 35\n",
            "7 x 6 = 42\n",
            "7 x 7 = 49\n",
            "7 x 8 = 56\n",
            "7 x 9 = 63\n",
            "7 x 10 = 70\n"
          ]
        }
      ]
    },
    {
      "cell_type": "code",
      "source": [
        "# 6. Write a program that counts the number of even and odd numbers in a list using a for loop.\n",
        "numbers = [1, 2, 3, 4, 5, 6, 7, 8, 9]\n",
        "even_count = 0\n",
        "odd_count = 0\n",
        "for num in numbers:\n",
        "    if num % 2 == 0:\n",
        "        even_count += 1\n",
        "    else:\n",
        "        odd_count += 1\n",
        "print(\"Even:\", even_count, \"Odd:\", odd_count)"
      ],
      "metadata": {
        "colab": {
          "base_uri": "https://localhost:8080/"
        },
        "id": "wINUkfuWDfyT",
        "outputId": "dde50d7f-f162-47f2-f856-539a6978249e"
      },
      "execution_count": 6,
      "outputs": [
        {
          "output_type": "stream",
          "name": "stdout",
          "text": [
            "Even: 4 Odd: 5\n"
          ]
        }
      ]
    },
    {
      "cell_type": "code",
      "source": [
        "# 7. Develop a program that prints the squares of numbers from 1 to 5 using a for loop.\n",
        "for i in range(1, 6):\n",
        "    print(i ** 2)"
      ],
      "metadata": {
        "colab": {
          "base_uri": "https://localhost:8080/"
        },
        "id": "XvRho4EODdpu",
        "outputId": "23752a33-528d-4092-b43b-2a8485ad726e"
      },
      "execution_count": 7,
      "outputs": [
        {
          "output_type": "stream",
          "name": "stdout",
          "text": [
            "1\n",
            "4\n",
            "9\n",
            "16\n",
            "25\n"
          ]
        }
      ]
    },
    {
      "cell_type": "code",
      "source": [
        "\n",
        "# 8. Create a program to find the length of a string without using the len() function.\n",
        "text = \"Python\"\n",
        "count = 0\n",
        "for _ in text:\n",
        "    count += 1\n",
        "print(\"Length:\", count)"
      ],
      "metadata": {
        "colab": {
          "base_uri": "https://localhost:8080/"
        },
        "id": "hdZkTgOPDbX2",
        "outputId": "674786f2-daae-49b0-f81b-44b87ea90613"
      },
      "execution_count": 8,
      "outputs": [
        {
          "output_type": "stream",
          "name": "stdout",
          "text": [
            "Length: 6\n"
          ]
        }
      ]
    },
    {
      "cell_type": "code",
      "source": [
        "# 9. Write a program that calculates the average of a list of numbers using a for loop.\n",
        "numbers = [10, 20, 30, 40, 50]\n",
        "total = 0\n",
        "for num in numbers:\n",
        "    total += num\n",
        "average = total / len(numbers)\n",
        "print(\"Average:\", average)"
      ],
      "metadata": {
        "colab": {
          "base_uri": "https://localhost:8080/"
        },
        "id": "Wq411EXtDZMq",
        "outputId": "eacf0d5e-d5e6-4391-cf18-6f478ce0a278"
      },
      "execution_count": 9,
      "outputs": [
        {
          "output_type": "stream",
          "name": "stdout",
          "text": [
            "Average: 30.0\n"
          ]
        }
      ]
    },
    {
      "cell_type": "code",
      "source": [
        "# 10. Develop a program that prints the first n Fibonacci numbers using a for loop.\n",
        "n = 10\n",
        "a, b = 0, 1\n",
        "for _ in range(n):\n",
        "    print(a, end=\" \")\n",
        "    a, b = b, a + b\n",
        "print()"
      ],
      "metadata": {
        "colab": {
          "base_uri": "https://localhost:8080/"
        },
        "id": "DAIR0pXjDXNZ",
        "outputId": "438b2223-1375-4f49-a5d5-ed245e5caefd"
      },
      "execution_count": 10,
      "outputs": [
        {
          "output_type": "stream",
          "name": "stdout",
          "text": [
            "0 1 1 2 3 5 8 13 21 34 \n"
          ]
        }
      ]
    },
    {
      "cell_type": "code",
      "source": [
        "# 11. Write a program to check if a given list contains any duplicates using a for loop.\n",
        "numbers = [1, 2, 3, 4, 5, 2]\n",
        "has_duplicates = False\n",
        "for i in range(len(numbers)):\n",
        "    for j in range(i + 1, len(numbers)):\n",
        "        if numbers[i] == numbers[j]:\n",
        "            has_duplicates = True\n",
        "            break\n",
        "    if has_duplicates:\n",
        "        break\n",
        "print(\"Has duplicates:\", has_duplicates)"
      ],
      "metadata": {
        "colab": {
          "base_uri": "https://localhost:8080/"
        },
        "id": "zvcqMb2DDVMW",
        "outputId": "1076c41f-3308-4d43-de9c-dad73054887e"
      },
      "execution_count": 11,
      "outputs": [
        {
          "output_type": "stream",
          "name": "stdout",
          "text": [
            "Has duplicates: True\n"
          ]
        }
      ]
    },
    {
      "cell_type": "code",
      "source": [
        "# 12. Create a program that prints the prime numbers in a given range using a for loop.\n",
        "start = 10\n",
        "end = 50\n",
        "for num in range(start, end + 1):\n",
        "    if num > 1:\n",
        "        for i in range(2, int(num ** 0.5) + 1):\n",
        "            if num % i == 0:\n",
        "                break\n",
        "        else:\n",
        "            print(num, end=\" \")\n",
        "print()"
      ],
      "metadata": {
        "colab": {
          "base_uri": "https://localhost:8080/"
        },
        "id": "3S4gZWpTDSz8",
        "outputId": "d7b9ba3e-c4ff-47b5-ccc8-8a782d142a44"
      },
      "execution_count": 12,
      "outputs": [
        {
          "output_type": "stream",
          "name": "stdout",
          "text": [
            "11 13 17 19 23 29 31 37 41 43 47 \n"
          ]
        }
      ]
    },
    {
      "cell_type": "code",
      "source": [
        "# 13. Develop a program that counts the number of vowels in a string using a for loop.\n",
        "text = \"Hello World\"\n",
        "vowels = \"aeiouAEIOU\"\n",
        "count = 0\n",
        "for char in text:\n",
        "    if char in vowels:\n",
        "        count += 1\n",
        "print(\"Vowel count:\", count)"
      ],
      "metadata": {
        "colab": {
          "base_uri": "https://localhost:8080/"
        },
        "id": "wsL1feWWDPSJ",
        "outputId": "ddbabb68-5b73-4751-85bc-4407ec4d7454"
      },
      "execution_count": 13,
      "outputs": [
        {
          "output_type": "stream",
          "name": "stdout",
          "text": [
            "Vowel count: 3\n"
          ]
        }
      ]
    },
    {
      "cell_type": "code",
      "source": [
        "# 14. Write a program to find the maximum element in a 2D list using a nested for loop.\n",
        "matrix = [[1, 2, 3], [4, 5, 6], [7, 8, 9]]\n",
        "max_val = matrix[0][0]\n",
        "for row in matrix:\n",
        "    for val in row:\n",
        "        if val > max_val:\n",
        "            max_val = val\n",
        "print(\"Max value:\", max_val)"
      ],
      "metadata": {
        "colab": {
          "base_uri": "https://localhost:8080/"
        },
        "id": "mYiuHy9vDNB7",
        "outputId": "16ddbdd2-871b-4430-c6a1-56dd5018918b"
      },
      "execution_count": 14,
      "outputs": [
        {
          "output_type": "stream",
          "name": "stdout",
          "text": [
            "Max value: 9\n"
          ]
        }
      ]
    },
    {
      "cell_type": "code",
      "source": [
        "# 15. Create a program that removes all occurrences of a specific element from a list using a for loop.\n",
        "numbers = [1, 2, 3, 4, 2, 5]\n",
        "element = 2\n",
        "new_list = []\n",
        "for num in numbers:\n",
        "    if num != element:\n",
        "        new_list.append(num)\n",
        "print(\"Updated list:\", new_list)"
      ],
      "metadata": {
        "colab": {
          "base_uri": "https://localhost:8080/"
        },
        "id": "AyhoJ-cUDK1m",
        "outputId": "d1984930-7422-4309-bb96-c6748690af78"
      },
      "execution_count": 15,
      "outputs": [
        {
          "output_type": "stream",
          "name": "stdout",
          "text": [
            "Updated list: [1, 3, 4, 5]\n"
          ]
        }
      ]
    },
    {
      "cell_type": "code",
      "source": [
        "# 16. Develop a program that generates a multiplication table for numbers from 1 to 5 using a nested for loop.\n",
        "for i in range(1, 6):\n",
        "    for j in range(1, 11):\n",
        "        print(f\"{i} x {j} = {i * j}\", end=\"\\t\")\n",
        "    print()"
      ],
      "metadata": {
        "colab": {
          "base_uri": "https://localhost:8080/"
        },
        "id": "SzIggTgBDIzi",
        "outputId": "ca87ab36-2f3b-41cb-b29f-c2d25380c9ac"
      },
      "execution_count": 16,
      "outputs": [
        {
          "output_type": "stream",
          "name": "stdout",
          "text": [
            "1 x 1 = 1\t1 x 2 = 2\t1 x 3 = 3\t1 x 4 = 4\t1 x 5 = 5\t1 x 6 = 6\t1 x 7 = 7\t1 x 8 = 8\t1 x 9 = 9\t1 x 10 = 10\t\n",
            "2 x 1 = 2\t2 x 2 = 4\t2 x 3 = 6\t2 x 4 = 8\t2 x 5 = 10\t2 x 6 = 12\t2 x 7 = 14\t2 x 8 = 16\t2 x 9 = 18\t2 x 10 = 20\t\n",
            "3 x 1 = 3\t3 x 2 = 6\t3 x 3 = 9\t3 x 4 = 12\t3 x 5 = 15\t3 x 6 = 18\t3 x 7 = 21\t3 x 8 = 24\t3 x 9 = 27\t3 x 10 = 30\t\n",
            "4 x 1 = 4\t4 x 2 = 8\t4 x 3 = 12\t4 x 4 = 16\t4 x 5 = 20\t4 x 6 = 24\t4 x 7 = 28\t4 x 8 = 32\t4 x 9 = 36\t4 x 10 = 40\t\n",
            "5 x 1 = 5\t5 x 2 = 10\t5 x 3 = 15\t5 x 4 = 20\t5 x 5 = 25\t5 x 6 = 30\t5 x 7 = 35\t5 x 8 = 40\t5 x 9 = 45\t5 x 10 = 50\t\n"
          ]
        }
      ]
    },
    {
      "cell_type": "code",
      "source": [
        "# 17. Write a program that converts a list of Fahrenheit temperatures to Celsius using a for loop.\n",
        "fahrenheit = [32, 68, 104, 212]\n",
        "celsius = []\n",
        "for f in fahrenheit:\n",
        "    c = (f - 32) * 5 / 9\n",
        "    celsius.append(c)\n",
        "print(\"Celsius:\", celsius)"
      ],
      "metadata": {
        "colab": {
          "base_uri": "https://localhost:8080/"
        },
        "id": "hiL3wr5bDGc1",
        "outputId": "dae215f7-0cef-443c-b869-fe58e2bfc38b"
      },
      "execution_count": 17,
      "outputs": [
        {
          "output_type": "stream",
          "name": "stdout",
          "text": [
            "Celsius: [0.0, 20.0, 40.0, 100.0]\n"
          ]
        }
      ]
    },
    {
      "cell_type": "code",
      "source": [
        "# 18. Create a program to print the common elements from two lists using a for loop.\n",
        "list1 = [1, 2, 3, 4]\n",
        "list2 = [3, 4, 5, 6]\n",
        "common = []\n",
        "for item in list1:\n",
        "    if item in list2:\n",
        "        common.append(item)\n",
        "print(\"Common elements:\", common)"
      ],
      "metadata": {
        "colab": {
          "base_uri": "https://localhost:8080/"
        },
        "id": "hnQavG5yDChb",
        "outputId": "a9ab8920-24ba-4891-a9e3-576b0ce98f79"
      },
      "execution_count": 18,
      "outputs": [
        {
          "output_type": "stream",
          "name": "stdout",
          "text": [
            "Common elements: [3, 4]\n"
          ]
        }
      ]
    },
    {
      "cell_type": "code",
      "source": [
        "# 19. Develop a program that prints the pattern of right-angled triangles using a for loop. Use ‘*’ to draw the pattern.\n",
        "rows = 5\n",
        "for i in range(1, rows + 1):\n",
        "    print('*' * i)"
      ],
      "metadata": {
        "colab": {
          "base_uri": "https://localhost:8080/"
        },
        "id": "qWq07ueKDAGm",
        "outputId": "efefb709-9364-4c8d-cd9f-08dc0d8d1847"
      },
      "execution_count": 19,
      "outputs": [
        {
          "output_type": "stream",
          "name": "stdout",
          "text": [
            "*\n",
            "**\n",
            "***\n",
            "****\n",
            "*****\n"
          ]
        }
      ]
    },
    {
      "cell_type": "code",
      "source": [
        "# 20. Write a program to find the greatest common divisor (GCD) of two numbers using a for loop.\n",
        "num1 = 56\n",
        "num2 = 98\n",
        "gcd = 1\n",
        "for i in range(1, min(num1, num2) + 1):\n",
        "    if num1 % i == 0 and num2 % i == 0:\n",
        "        gcd = i\n",
        "print(\"GCD:\", gcd)"
      ],
      "metadata": {
        "colab": {
          "base_uri": "https://localhost:8080/"
        },
        "id": "UYSc-n8SC9Kx",
        "outputId": "8dd29a7b-d392-40af-8f85-27fc5367b8a7"
      },
      "execution_count": 20,
      "outputs": [
        {
          "output_type": "stream",
          "name": "stdout",
          "text": [
            "GCD: 14\n"
          ]
        }
      ]
    },
    {
      "cell_type": "code",
      "source": [
        "# 21. Create a program that calculates the sum of the digits of numbers in a list using a list comprehension.\n",
        "numbers = [123, 45, 678]\n",
        "sum_digits = [sum(int(digit) for digit in str(num)) for num in numbers]\n",
        "print(\"Sum of digits:\", sum_digits)"
      ],
      "metadata": {
        "colab": {
          "base_uri": "https://localhost:8080/"
        },
        "id": "a1HjfmchC7Dn",
        "outputId": "85a9a089-e89a-4e56-eec3-cfc91240d663"
      },
      "execution_count": 21,
      "outputs": [
        {
          "output_type": "stream",
          "name": "stdout",
          "text": [
            "Sum of digits: [6, 9, 21]\n"
          ]
        }
      ]
    },
    {
      "cell_type": "code",
      "source": [
        "# 22. Write a program to find the prime factors of a given number using a for loop and list comprehension.\n",
        "num = 56\n",
        "factors = [i for i in range(2, num + 1) if num % i == 0]\n",
        "prime_factors = [f for f in factors if all(f % i != 0 for i in range(2, int(f ** 0.5) + 1))]\n",
        "print(\"Prime factors:\", prime_factors)"
      ],
      "metadata": {
        "colab": {
          "base_uri": "https://localhost:8080/"
        },
        "id": "d5bbU4Y7C48x",
        "outputId": "42564fef-77a6-4341-d3c5-ec2da5f942db"
      },
      "execution_count": 22,
      "outputs": [
        {
          "output_type": "stream",
          "name": "stdout",
          "text": [
            "Prime factors: [2, 7]\n"
          ]
        }
      ]
    },
    {
      "cell_type": "code",
      "source": [
        "# 23. Develop a program that extracts unique elements from a list and stores them in a new list using a list comprehension.\n",
        "numbers = [1, 2, 2, 3, 4, 4, 5]\n",
        "unique = list(set(numbers))\n",
        "print(\"Unique elements:\", unique)"
      ],
      "metadata": {
        "colab": {
          "base_uri": "https://localhost:8080/"
        },
        "id": "CoIqjWaKC07-",
        "outputId": "781a354e-d618-42d7-82a0-713ebec9f7b7"
      },
      "execution_count": 23,
      "outputs": [
        {
          "output_type": "stream",
          "name": "stdout",
          "text": [
            "Unique elements: [1, 2, 3, 4, 5]\n"
          ]
        }
      ]
    },
    {
      "cell_type": "code",
      "source": [
        "# 24. Create a program that generates a list of all palindromic numbers up to a specified limit using a list comprehension.\n",
        "limit = 1000\n",
        "palindromes = [num for num in range(1, limit + 1) if str(num) == str(num)[::-1]]\n",
        "print(\"Palindromic numbers:\", palindromes)"
      ],
      "metadata": {
        "colab": {
          "base_uri": "https://localhost:8080/"
        },
        "id": "Y8-X_wDOCytk",
        "outputId": "32d42c30-b31f-4cb3-c83f-3f22d1cd817e"
      },
      "execution_count": 24,
      "outputs": [
        {
          "output_type": "stream",
          "name": "stdout",
          "text": [
            "Palindromic numbers: [1, 2, 3, 4, 5, 6, 7, 8, 9, 11, 22, 33, 44, 55, 66, 77, 88, 99, 101, 111, 121, 131, 141, 151, 161, 171, 181, 191, 202, 212, 222, 232, 242, 252, 262, 272, 282, 292, 303, 313, 323, 333, 343, 353, 363, 373, 383, 393, 404, 414, 424, 434, 444, 454, 464, 474, 484, 494, 505, 515, 525, 535, 545, 555, 565, 575, 585, 595, 606, 616, 626, 636, 646, 656, 666, 676, 686, 696, 707, 717, 727, 737, 747, 757, 767, 777, 787, 797, 808, 818, 828, 838, 848, 858, 868, 878, 888, 898, 909, 919, 929, 939, 949, 959, 969, 979, 989, 999]\n"
          ]
        }
      ]
    },
    {
      "cell_type": "code",
      "source": [
        "# 25. Write a program to flatten a nested list using list comprehension.\n",
        "nested_list = [[1, 2], [3, 4], [5, 6]]\n",
        "flattened = [item for sublist in nested_list for item in sublist]\n",
        "print(\"Flattened list:\", flattened)"
      ],
      "metadata": {
        "colab": {
          "base_uri": "https://localhost:8080/"
        },
        "id": "chUyj8WFCwij",
        "outputId": "a64ddeb5-3a3f-4586-91d1-19debd014ef2"
      },
      "execution_count": 25,
      "outputs": [
        {
          "output_type": "stream",
          "name": "stdout",
          "text": [
            "Flattened list: [1, 2, 3, 4, 5, 6]\n"
          ]
        }
      ]
    },
    {
      "cell_type": "code",
      "source": [
        "# 26. Develop a program that computes the sum of even and odd numbers in a list separately using list comprehension.\n",
        "numbers = [1, 2, 3, 4, 5, 6]\n",
        "even_sum = sum(num for num in numbers if num % 2 == 0)\n",
        "odd_sum = sum(num for num in numbers if num % 2 != 0)\n",
        "print(\"Even sum:\", even_sum, \"Odd sum:\", odd_sum)"
      ],
      "metadata": {
        "colab": {
          "base_uri": "https://localhost:8080/"
        },
        "id": "dZQT4fKNCt5Z",
        "outputId": "4abb4bee-69a6-482d-e217-102413bf92dc"
      },
      "execution_count": 26,
      "outputs": [
        {
          "output_type": "stream",
          "name": "stdout",
          "text": [
            "Even sum: 12 Odd sum: 9\n"
          ]
        }
      ]
    },
    {
      "cell_type": "code",
      "source": [
        "# 27. Create a program that generates a list of squares of odd numbers between 1 and 10 using list comprehension.\n",
        "squares = [i ** 2 for i in range(1, 11) if i % 2 != 0]\n",
        "print(\"Squares of odd numbers:\", squares)\n"
      ],
      "metadata": {
        "colab": {
          "base_uri": "https://localhost:8080/"
        },
        "id": "jJliIcl8CrkL",
        "outputId": "9c1f7719-03f3-4b4f-c80f-bad12f781a42"
      },
      "execution_count": 27,
      "outputs": [
        {
          "output_type": "stream",
          "name": "stdout",
          "text": [
            "Squares of odd numbers: [1, 9, 25, 49, 81]\n"
          ]
        }
      ]
    },
    {
      "cell_type": "code",
      "source": [
        "# 28. Write a program that combines two lists into a dictionary using list comprehension.\n",
        "keys = ['a', 'b', 'c']\n",
        "values = [1, 2, 3]\n",
        "combined = {k: v for k, v in zip(keys, values)}\n",
        "print(\"Combined dictionary:\", combined)"
      ],
      "metadata": {
        "colab": {
          "base_uri": "https://localhost:8080/"
        },
        "id": "We9NU2xJCpKB",
        "outputId": "72acf158-86b1-4e6a-f767-2bc0d937f177"
      },
      "execution_count": 28,
      "outputs": [
        {
          "output_type": "stream",
          "name": "stdout",
          "text": [
            "Combined dictionary: {'a': 1, 'b': 2, 'c': 3}\n"
          ]
        }
      ]
    },
    {
      "cell_type": "code",
      "source": [
        "# 29. Develop a program that extracts the vowels from a string and stores them in a list using list comprehension.\n",
        "text = \"Hello World\"\n",
        "vowels = [char for char in text if char in \"aeiouAEIOU\"]\n",
        "print(\"Vowels:\", vowels)"
      ],
      "metadata": {
        "colab": {
          "base_uri": "https://localhost:8080/"
        },
        "id": "ujgiPsU8Cm52",
        "outputId": "34dea2d1-2bae-4c9d-d236-f09d37edc99a"
      },
      "execution_count": 29,
      "outputs": [
        {
          "output_type": "stream",
          "name": "stdout",
          "text": [
            "Vowels: ['e', 'o', 'o']\n"
          ]
        }
      ]
    },
    {
      "cell_type": "code",
      "source": [
        "# 30. Create a program that removes all non-numeric characters from a list of strings using list comprehension.\n",
        "strings = [\"abc123\", \"45def\", \"6ghi7\"]\n",
        "numeric_only = [''.join(char for char in s if char.isdigit()) for s in strings]\n",
        "print(\"Numeric only:\", numeric_only)"
      ],
      "metadata": {
        "colab": {
          "base_uri": "https://localhost:8080/"
        },
        "id": "7BvmF4oWCk-M",
        "outputId": "ef110e20-4a70-4a66-858b-4910bedb0a9c"
      },
      "execution_count": 30,
      "outputs": [
        {
          "output_type": "stream",
          "name": "stdout",
          "text": [
            "Numeric only: ['123', '45', '67']\n"
          ]
        }
      ]
    },
    {
      "cell_type": "code",
      "source": [
        "# 31. Write a program to generate a list of prime numbers using the Sieve of Eratosthenes algorithm and list comprehension.\n",
        "def sieve(n):\n",
        "    sieve = [True] * (n + 1)\n",
        "    sieve[0] = sieve[1] = False\n",
        "    for i in range(2, int(n ** 0.5) + 1):\n",
        "        if sieve[i]:\n",
        "            sieve[i*i : n+1 : i] = [False] * len(sieve[i*i : n+1 : i])\n",
        "    return [i for i, is_prime in enumerate(sieve) if is_prime]\n",
        "\n",
        "print(\"Primes up to 50:\", sieve(50))"
      ],
      "metadata": {
        "colab": {
          "base_uri": "https://localhost:8080/"
        },
        "id": "FnSLoVW_CiJw",
        "outputId": "3a58f39e-afc0-446e-c470-9dac1e803e50"
      },
      "execution_count": 31,
      "outputs": [
        {
          "output_type": "stream",
          "name": "stdout",
          "text": [
            "Primes up to 50: [2, 3, 5, 7, 11, 13, 17, 19, 23, 29, 31, 37, 41, 43, 47]\n"
          ]
        }
      ]
    },
    {
      "cell_type": "code",
      "source": [
        "# 32. Create a program that generates a list of all Pythagorean triplets up to a specified limit using list comprehension.\n",
        "limit = 20\n",
        "triplets = [(a, b, c) for a in range(1, limit) for b in range(a, limit) for c in range(b, limit) if a**2 + b**2 == c**2]\n",
        "print(\"Pythagorean triplets:\", triplets)"
      ],
      "metadata": {
        "colab": {
          "base_uri": "https://localhost:8080/"
        },
        "id": "Pa_lIs5eCcyF",
        "outputId": "981aea4a-da22-4f26-e67b-9a6cdb5abd49"
      },
      "execution_count": 32,
      "outputs": [
        {
          "output_type": "stream",
          "name": "stdout",
          "text": [
            "Pythagorean triplets: [(3, 4, 5), (5, 12, 13), (6, 8, 10), (8, 15, 17), (9, 12, 15)]\n"
          ]
        }
      ]
    },
    {
      "cell_type": "code",
      "source": [
        "# 33. Develop a program that generates a list of all possible combinations of two lists using list comprehension.\n",
        "list1 = [1, 2]\n",
        "list2 = ['a', 'b']\n",
        "combinations = [(x, y) for x in list1 for y in list2]\n",
        "print(\"Combinations:\", combinations)"
      ],
      "metadata": {
        "colab": {
          "base_uri": "https://localhost:8080/"
        },
        "id": "-wSKOODQCZn0",
        "outputId": "1a00efd0-0da6-4401-f4bb-889748fe64e7"
      },
      "execution_count": 33,
      "outputs": [
        {
          "output_type": "stream",
          "name": "stdout",
          "text": [
            "Combinations: [(1, 'a'), (1, 'b'), (2, 'a'), (2, 'b')]\n"
          ]
        }
      ]
    },
    {
      "cell_type": "code",
      "source": [
        "# 34. Write a program that calculates the mean, median, and mode of a list of numbers using list comprehension.\n",
        "from statistics import mean, median, mode\n",
        "numbers = [1, 2, 3, 4, 5, 5]\n",
        "print(\"Mean:\", mean(numbers), \"Median:\", median(numbers), \"Mode:\", mode(numbers))"
      ],
      "metadata": {
        "colab": {
          "base_uri": "https://localhost:8080/"
        },
        "id": "9DzhA2sGCWMU",
        "outputId": "6a157f06-115a-4bf9-c836-d291e84ab03a"
      },
      "execution_count": 34,
      "outputs": [
        {
          "output_type": "stream",
          "name": "stdout",
          "text": [
            "Mean: 3.3333333333333335 Median: 3.5 Mode: 5\n"
          ]
        }
      ]
    },
    {
      "cell_type": "code",
      "source": [
        "# 35. Create a program that generates Pascal's triangle up to a specified number of rows using list comprehension.\n",
        "def pascal(n):\n",
        "    triangle = [[1]]\n",
        "    for _ in range(1, n):\n",
        "        row = [1] + [triangle[-1][i] + triangle[-1][i+1] for i in range(len(triangle[-1])-1)] + [1]\n",
        "        triangle.append(row)\n",
        "    return triangle\n",
        "\n",
        "print(\"Pascal's triangle (5 rows):\", pascal(5))"
      ],
      "metadata": {
        "colab": {
          "base_uri": "https://localhost:8080/"
        },
        "id": "MDe729f8CTJN",
        "outputId": "2b6c0572-e194-41cd-aed4-317fe4293c24"
      },
      "execution_count": 35,
      "outputs": [
        {
          "output_type": "stream",
          "name": "stdout",
          "text": [
            "Pascal's triangle (5 rows): [[1], [1, 1], [1, 2, 1], [1, 3, 3, 1], [1, 4, 6, 4, 1]]\n"
          ]
        }
      ]
    },
    {
      "cell_type": "code",
      "source": [
        "# 36. Develop a program that calculates the sum of the digits of a factorial of numbers from 1 to 5 using list comprehension.\n",
        "from math import factorial\n",
        "sum_digits = [sum(int(digit) for digit in str(factorial(i))) for i in range(1, 6)]\n",
        "print(\"Sum of digits of factorials:\", sum_digits)"
      ],
      "metadata": {
        "colab": {
          "base_uri": "https://localhost:8080/"
        },
        "id": "b4bX-yqBCQcp",
        "outputId": "22d4ab0e-42a1-43ab-f5a0-5baf87d4a031"
      },
      "execution_count": 36,
      "outputs": [
        {
          "output_type": "stream",
          "name": "stdout",
          "text": [
            "Sum of digits of factorials: [1, 2, 6, 6, 3]\n"
          ]
        }
      ]
    },
    {
      "cell_type": "code",
      "source": [
        "# 37. Write a program that finds the longest word in a sentence using list comprehension.\n",
        "sentence = \"This is a test sentence\"\n",
        "longest = max(sentence.split(), key=len)\n",
        "print(\"Longest word:\", longest)"
      ],
      "metadata": {
        "colab": {
          "base_uri": "https://localhost:8080/"
        },
        "id": "OHbeRieQCNdc",
        "outputId": "1126cbb4-2143-4a9c-955c-4acb9119d700"
      },
      "execution_count": 37,
      "outputs": [
        {
          "output_type": "stream",
          "name": "stdout",
          "text": [
            "Longest word: sentence\n"
          ]
        }
      ]
    },
    {
      "cell_type": "code",
      "source": [
        "# 38. Create a program that filters a list of strings to include only those with more than three vowels using list comprehension.\n",
        "strings = [\"hello\", \"world\", \"aeiou\", \"python\"]\n",
        "filtered = [s for s in strings if sum(1 for char in s if char in \"aeiouAEIOU\") > 3]\n",
        "print(\"Filtered strings:\", filtered)"
      ],
      "metadata": {
        "colab": {
          "base_uri": "https://localhost:8080/"
        },
        "id": "BaaIHZjcCIWo",
        "outputId": "2b1ebd67-21ea-4711-e2bf-275c5128c4bf"
      },
      "execution_count": 38,
      "outputs": [
        {
          "output_type": "stream",
          "name": "stdout",
          "text": [
            "Filtered strings: ['aeiou']\n"
          ]
        }
      ]
    },
    {
      "cell_type": "code",
      "source": [
        "# 39. Develop a program that calculates the sum of the digits of numbers from 1 to 1000 using list comprehension.\n",
        "sum_digits = sum(sum(int(digit) for digit in str(num)) for num in range(1, 1001))\n",
        "print(\"Sum of digits from 1 to 1000:\", sum_digits)"
      ],
      "metadata": {
        "colab": {
          "base_uri": "https://localhost:8080/"
        },
        "id": "_OEUCyT7CC_d",
        "outputId": "bae8cd89-87f9-485e-a76c-0bba9baab87e"
      },
      "execution_count": 39,
      "outputs": [
        {
          "output_type": "stream",
          "name": "stdout",
          "text": [
            "Sum of digits from 1 to 1000: 13501\n"
          ]
        }
      ]
    },
    {
      "cell_type": "code",
      "source": [
        "# 40. Write a program that generates a list of prime palindromic numbers using list comprehension.\n",
        "def is_prime(n):\n",
        "    if n < 2:\n",
        "        return False\n",
        "    for i in range(2, int(n ** 0.5) + 1):\n",
        "        if n % i == 0:\n",
        "            return False\n",
        "    return True\n",
        "\n",
        "prime_palindromes = [num for num in range(1, 1000) if str(num) == str(num)[::-1] and is_prime(num)]\n",
        "print(\"Prime palindromic numbers:\", prime_palindromes)"
      ],
      "metadata": {
        "colab": {
          "base_uri": "https://localhost:8080/"
        },
        "id": "yv28uBx-CBj_",
        "outputId": "56c2b872-8f04-4be1-d38b-3df5083138c4"
      },
      "execution_count": 40,
      "outputs": [
        {
          "output_type": "stream",
          "name": "stdout",
          "text": [
            "Prime palindromic numbers: [2, 3, 5, 7, 11, 101, 131, 151, 181, 191, 313, 353, 373, 383, 727, 757, 787, 797, 919, 929]\n"
          ]
        }
      ]
    },
    {
      "cell_type": "code",
      "source": [],
      "metadata": {
        "id": "_V9YGpkSD9CT"
      },
      "execution_count": 40,
      "outputs": []
    }
  ]
}