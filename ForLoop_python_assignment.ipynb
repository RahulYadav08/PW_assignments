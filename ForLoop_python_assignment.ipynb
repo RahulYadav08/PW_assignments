{
 "cells": [
  {
   "cell_type": "markdown",
   "id": "bda99161",
   "metadata": {},
   "source": [
    "### Print numbers from 1 to 10 using a for loop"
   ]
  },
  {
   "cell_type": "code",
   "execution_count": null,
   "id": "7d419a39",
   "metadata": {},
   "outputs": [],
   "source": [
    "for i in range(1, 11):\n",
    "    print(i)"
   ]
  },
  {
   "cell_type": "markdown",
   "id": "23c92a67",
   "metadata": {},
   "source": [
    "### Sum of all numbers in a list using a for loop"
   ]
  },
  {
   "cell_type": "code",
   "execution_count": null,
   "id": "af7e2986",
   "metadata": {},
   "outputs": [],
   "source": [
    "nums = [1, 2, 3, 4, 5]\n",
    "sum_nums = 0\n",
    "for num in nums:\n",
    "    sum_nums += num\n",
    "print(sum_nums)"
   ]
  },
  {
   "cell_type": "markdown",
   "id": "defe5ee1",
   "metadata": {},
   "source": [
    "### Print characters of a string in reverse order using a for loop"
   ]
  },
  {
   "cell_type": "code",
   "execution_count": null,
   "id": "a411a3a4",
   "metadata": {},
   "outputs": [],
   "source": [
    "s = 'hello'\n",
    "for char in reversed(s):\n",
    "    print(char)"
   ]
  },
  {
   "cell_type": "markdown",
   "id": "f2105a3f",
   "metadata": {},
   "source": [
    "### Find factorial of a given number using a for loop"
   ]
  },
  {
   "cell_type": "code",
   "execution_count": null,
   "id": "eb909524",
   "metadata": {},
   "outputs": [],
   "source": [
    "num = 5\n",
    "factorial = 1\n",
    "for i in range(1, num + 1):\n",
    "    factorial *= i\n",
    "print(factorial)"
   ]
  },
  {
   "cell_type": "markdown",
   "id": "f302a15e",
   "metadata": {},
   "source": [
    "### Print the multiplication table of a given number using a for loop"
   ]
  },
  {
   "cell_type": "code",
   "execution_count": null,
   "id": "e4bd5314",
   "metadata": {},
   "outputs": [],
   "source": [
    "num = 5\n",
    "for i in range(1, 11):\n",
    "    print(f'{num} x {i} = {num * i}')"
   ]
  },
  {
   "cell_type": "markdown",
   "id": "066657e8",
   "metadata": {},
   "source": [
    "### Count even and odd numbers in a list using a for loop"
   ]
  },
  {
   "cell_type": "code",
   "execution_count": null,
   "id": "8c042e3d",
   "metadata": {},
   "outputs": [],
   "source": [
    "nums = [1, 2, 3, 4, 5, 6]\n",
    "even_count = 0\n",
    "odd_count = 0\n",
    "for num in nums:\n",
    "    if num % 2 == 0:\n",
    "        even_count += 1\n",
    "    else:\n",
    "        odd_count += 1\n",
    "print(f'Even: {even_count}, Odd: {odd_count}')"
   ]
  },
  {
   "cell_type": "markdown",
   "id": "c998910e",
   "metadata": {},
   "source": [
    "### Print squares of numbers from 1 to 5 using a for loop"
   ]
  },
  {
   "cell_type": "code",
   "execution_count": null,
   "id": "a94c2689",
   "metadata": {},
   "outputs": [],
   "source": [
    "for i in range(1, 6):\n",
    "    print(i ** 2)"
   ]
  },
  {
   "cell_type": "markdown",
   "id": "13af1409",
   "metadata": {},
   "source": [
    "### Find the length of a string without using len()"
   ]
  },
  {
   "cell_type": "code",
   "execution_count": null,
   "id": "d024d235",
   "metadata": {},
   "outputs": [],
   "source": [
    "s = 'hello'\n",
    "length = 0\n",
    "for _ in s:\n",
    "    length += 1\n",
    "print(length)"
   ]
  },
  {
   "cell_type": "markdown",
   "id": "acb92456",
   "metadata": {},
   "source": [
    "### Calculate the average of a list of numbers using a for loop"
   ]
  },
  {
   "cell_type": "code",
   "execution_count": null,
   "id": "d036bbbc",
   "metadata": {},
   "outputs": [],
   "source": [
    "nums = [10, 20, 30, 40, 50]\n",
    "sum_nums = 0\n",
    "for num in nums:\n",
    "    sum_nums += num\n",
    "average = sum_nums / len(nums)\n",
    "print(average)"
   ]
  },
  {
   "cell_type": "markdown",
   "id": "5104d8be",
   "metadata": {},
   "source": [
    "### Print the first n Fibonacci numbers using a for loop"
   ]
  },
  {
   "cell_type": "code",
   "execution_count": null,
   "id": "5a5f7f6e",
   "metadata": {},
   "outputs": [],
   "source": [
    "n = 10\n",
    "fib = [0, 1]\n",
    "for i in range(2, n):\n",
    "    fib.append(fib[i-1] + fib[i-2])\n",
    "print(fib)"
   ]
  }
 ],
 "metadata": {},
 "nbformat": 4,
 "nbformat_minor": 5
}