{
 "cells": [
  {
   "cell_type": "code",
   "execution_count": 1,
   "id": "48132f3e-d35d-4b3b-a9f3-564fc3bec581",
   "metadata": {},
   "outputs": [
    {
     "name": "stdout",
     "output_type": "stream",
     "text": [
      "2 1\n"
     ]
    }
   ],
   "source": [
    "x =1\n",
    "y=2\n",
    "x,y = y,x\n",
    "print(x,y)\n"
   ]
  },
  {
   "cell_type": "code",
   "execution_count": 4,
   "id": "d98fc80c-863a-480a-9871-3f0a76d74290",
   "metadata": {},
   "outputs": [
    {
     "name": "stdin",
     "output_type": "stream",
     "text": [
      "Enter length of rectangle 5\n",
      "Enter width of rectangle 4\n"
     ]
    },
    {
     "name": "stdout",
     "output_type": "stream",
     "text": [
      "Area of rectangle is 20\n"
     ]
    }
   ],
   "source": [
    "length = int(input(\"Enter length of rectangle\"))\n",
    "width = int(input(\"Enter width of rectangle\"))\n",
    "area = length*width\n",
    "print(f\"Area of rectangle is {area}\")"
   ]
  },
  {
   "cell_type": "code",
   "execution_count": 6,
   "id": "b7d8e465-1866-406b-884f-6499d364789d",
   "metadata": {},
   "outputs": [
    {
     "name": "stdin",
     "output_type": "stream",
     "text": [
      "Enter temperature in Celsius 20\n"
     ]
    },
    {
     "name": "stdout",
     "output_type": "stream",
     "text": [
      "fahrenheit = 68.0\n"
     ]
    }
   ],
   "source": [
    "Celsius = int(input(\"Enter temperature in Celsius\"))\n",
    "fahrenheit = ((Celsius*9)/5)+32\n",
    "print(f\"fahrenheit = {fahrenheit}\")\n"
   ]
  },
  {
   "cell_type": "code",
   "execution_count": 7,
   "id": "850c813b-5b75-4770-b98c-066dfe3dffb7",
   "metadata": {},
   "outputs": [
    {
     "name": "stdin",
     "output_type": "stream",
     "text": [
      "Enter string to get the length Ranjan\n"
     ]
    },
    {
     "name": "stdout",
     "output_type": "stream",
     "text": [
      "6\n"
     ]
    }
   ],
   "source": [
    "string = input(\"Enter string to get the length\")\n",
    "print(len(string))"
   ]
  },
  {
   "cell_type": "code",
   "execution_count": 8,
   "id": "12f42955-5413-4614-9667-4d74084b5e47",
   "metadata": {},
   "outputs": [
    {
     "name": "stdin",
     "output_type": "stream",
     "text": [
      "Enter sentence to count the vowels RamaAE\n"
     ]
    },
    {
     "name": "stdout",
     "output_type": "stream",
     "text": [
      "4 number of vowels\n"
     ]
    }
   ],
   "source": [
    "sentence = input(\"Enter sentence to count the vowels\").lower()\n",
    "count = 0\n",
    "for i in sentence:\n",
    "    if i=='a' or i=='e' or i=='i' or i=='o' or i=='u':\n",
    "        count +=1\n",
    "print(f\"{count} number of vowels\")"
   ]
  },
  {
   "cell_type": "code",
   "execution_count": 11,
   "id": "b171ef64-c4a2-4c29-b472-d29ede325114",
   "metadata": {},
   "outputs": [
    {
     "name": "stdout",
     "output_type": "stream",
     "text": [
      "dabaizahG\n"
     ]
    }
   ],
   "source": [
    "string = \"Ghaziabad\"\n",
    "reversed_string = string[::-1]\n",
    "print(reversed_string)"
   ]
  },
  {
   "cell_type": "code",
   "execution_count": 15,
   "id": "7cfdfb1a-0f21-4385-bbe0-bd94b3ddf5de",
   "metadata": {},
   "outputs": [
    {
     "name": "stdin",
     "output_type": "stream",
     "text": [
      "Enter the string to check palindrome Naman\n"
     ]
    },
    {
     "name": "stdout",
     "output_type": "stream",
     "text": [
      "Naman is palindrome\n"
     ]
    }
   ],
   "source": [
    "string = input(\"Enter the string to check palindrome\")\n",
    "if string.lower() == string[::-1].lower():\n",
    "    print(f\"{string} is palindrome\")\n",
    "else:\n",
    "    print(\"Not palindrome\")"
   ]
  },
  {
   "cell_type": "code",
   "execution_count": 16,
   "id": "36e086cf-ce07-4747-ad2b-0b520b319551",
   "metadata": {},
   "outputs": [
    {
     "name": "stdin",
     "output_type": "stream",
     "text": [
      "Enter string to remove spaces h h h k l j \n"
     ]
    },
    {
     "name": "stdout",
     "output_type": "stream",
     "text": [
      "hhhklj\n"
     ]
    }
   ],
   "source": [
    "string = input(\"Enter string to remove spaces\")\n",
    "new_string=\"\"\n",
    "for i in string:\n",
    "    if i != \" \":\n",
    "        new_string = new_string+i\n",
    "print(new_string)"
   ]
  },
  {
   "cell_type": "code",
   "execution_count": null,
   "id": "da230534-25da-48a4-9b23-79888ae075bc",
   "metadata": {},
   "outputs": [],
   "source": []
  }
 ],
 "metadata": {
  "kernelspec": {
   "display_name": "Python 3 (ipykernel)",
   "language": "python",
   "name": "python3"
  },
  "language_info": {
   "codemirror_mode": {
    "name": "ipython",
    "version": 3
   },
   "file_extension": ".py",
   "mimetype": "text/x-python",
   "name": "python",
   "nbconvert_exporter": "python",
   "pygments_lexer": "ipython3",
   "version": "3.10.8"
  }
 },
 "nbformat": 4,
 "nbformat_minor": 5
}
