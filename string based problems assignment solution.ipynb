{
  "cells": [
    {
      "cell_type": "markdown",
      "metadata": {
        "id": "aOsquSSxWq49"
      },
      "source": [
        "String Based Practice Questions assignment\n"
      ]
    },
    {
      "cell_type": "code",
      "execution_count": null,
      "metadata": {
        "colab": {
          "base_uri": "https://localhost:8080/"
        },
        "id": "J06gjjEjWnf_",
        "outputId": "6e61b139-e27b-4f96-b086-56403bcfd590"
      },
      "outputs": [
        {
          "name": "stdout",
          "output_type": "stream",
          "text": [
            "egdelwonK\n"
          ]
        }
      ],
      "source": [
        "#1 Write a program to reverse a string.\n",
        "sample_str = \"Knowledge\"\n",
        "rev_str = sample_str[::-1]\n",
        "print(rev_str)"
      ]
    },
    {
      "cell_type": "code",
      "execution_count": null,
      "metadata": {
        "colab": {
          "base_uri": "https://localhost:8080/"
        },
        "id": "jk-UjehkXIbA",
        "outputId": "5dfc95b1-094c-4f9f-b081-52ee0086bfbc"
      },
      "outputs": [
        {
          "data": {
            "text/plain": [
              "True"
            ]
          },
          "execution_count": 4,
          "metadata": {},
          "output_type": "execute_result"
        }
      ],
      "source": [
        "#2Check if a string is a palindrome.\n",
        "test_str = \"Naman\"\n",
        "True if test_str.lower() == test_str[::-1].lower() else False"
      ]
    },
    {
      "cell_type": "code",
      "execution_count": null,
      "metadata": {
        "colab": {
          "base_uri": "https://localhost:8080/"
        },
        "id": "fQqQjOsTYBm8",
        "outputId": "feef7904-1862-4ee2-aa93-bae079d70833"
      },
      "outputs": [
        {
          "name": "stdout",
          "output_type": "stream",
          "text": [
            "RAHUL\n"
          ]
        }
      ],
      "source": [
        "#3Convert a string to uppercase.\n",
        "print(\"rahul\".upper())"
      ]
    },
    {
      "cell_type": "code",
      "execution_count": null,
      "metadata": {
        "colab": {
          "base_uri": "https://localhost:8080/"
        },
        "id": "UiiemmAwYKg0",
        "outputId": "fa91a3d5-6389-48ee-a043-4aa637f5f76e"
      },
      "outputs": [
        {
          "name": "stdout",
          "output_type": "stream",
          "text": [
            "rahul\n"
          ]
        }
      ],
      "source": [
        "#4.convert a string to lowercase.\n",
        "print(\"RAHUL\".lower())"
      ]
    },
    {
      "cell_type": "code",
      "execution_count": null,
      "metadata": {
        "colab": {
          "base_uri": "https://localhost:8080/"
        },
        "id": "2N5DBARGYRdO",
        "outputId": "f8d2f718-53fd-49fc-b2f0-87059202ddec"
      },
      "outputs": [
        {
          "name": "stdout",
          "output_type": "stream",
          "text": [
            "Total 3 vowels are present in the string\n"
          ]
        }
      ],
      "source": [
        "#5.Count the number of vowels in a string.\n",
        "count = 0\n",
        "for i in \"samplestring\".lower():\n",
        "  if i in 'aeiou':\n",
        "    count += 1\n",
        "print(f\"Total {count} vowels are present in the string\")"
      ]
    },
    {
      "cell_type": "code",
      "execution_count": null,
      "metadata": {
        "colab": {
          "base_uri": "https://localhost:8080/"
        },
        "id": "uE2MwM0-Y1Oj",
        "outputId": "0908285d-f066-4f07-d2b9-5f1d91f2ffe5"
      },
      "outputs": [
        {
          "name": "stdout",
          "output_type": "stream",
          "text": [
            "Total 9 consonants are present in the string\n"
          ]
        }
      ],
      "source": [
        "#6.Count the number of consonants in a strin.\n",
        "count = 0\n",
        "for i in \"samplestring\".lower():\n",
        "  if i not in 'aeiou':\n",
        "    count += 1\n",
        "print(f\"Total {count} consonants are present in the string\")"
      ]
    },
    {
      "cell_type": "code",
      "execution_count": null,
      "metadata": {
        "colab": {
          "base_uri": "https://localhost:8080/"
        },
        "id": "Ksj3PnOaZfLU",
        "outputId": "57767866-e645-4213-b1ad-6e2fb504939c"
      },
      "outputs": [
        {
          "name": "stdout",
          "output_type": "stream",
          "text": [
            "samplestring\n",
            "samplestring\n"
          ]
        }
      ],
      "source": [
        "#7.Remove all whitespaces from a string.\n",
        "temp = ''\n",
        "for i in ' sample  string  ':\n",
        "  if i != ' ':\n",
        "    temp += i\n",
        "print(temp)\n",
        "\n",
        "print(''.join(' sample  string   '.split()))"
      ]
    },
    {
      "cell_type": "code",
      "execution_count": null,
      "metadata": {
        "colab": {
          "base_uri": "https://localhost:8080/"
        },
        "id": "ksfRjW2CbxxF",
        "outputId": "f9b8083c-f91f-4991-d7a8-ac7fedad6557"
      },
      "outputs": [
        {
          "name": "stdout",
          "output_type": "stream",
          "text": [
            "14\n"
          ]
        }
      ],
      "source": [
        "#8. FInd the length of a string without using the len() function.\n",
        "length = 0\n",
        "for i in 'sample  string':\n",
        "  length += 1\n",
        "print(length)"
      ]
    },
    {
      "cell_type": "code",
      "execution_count": null,
      "metadata": {
        "colab": {
          "base_uri": "https://localhost:8080/"
        },
        "id": "afc4sUsTchMG",
        "outputId": "cb7ee03a-d31a-4d90-b65a-add2d39e3200"
      },
      "outputs": [
        {
          "name": "stdout",
          "output_type": "stream",
          "text": [
            "False\n"
          ]
        }
      ],
      "source": [
        "#9. Check if a string contains a specific word.\n",
        "word = 'by'\n",
        "\n",
        "len_word = len(word)\n",
        "\n",
        "sample_str = \"my name is rahul,hello\"\n",
        "\n",
        "flag = False\n",
        "for i in range(len(sample_str)):\n",
        "  if sample_str[i] == word[0]:\n",
        "    for j in range(1, len_word):\n",
        "      if i+j < (len(sample_str) - 1) and sample_str[i+j] != word[j]:\n",
        "        break\n",
        "      if j == len_word - 1:\n",
        "        flag = True\n",
        "\n",
        "print(flag)\n",
        "\n",
        "\n"
      ]
    },
    {
      "cell_type": "code",
      "execution_count": null,
      "metadata": {
        "colab": {
          "base_uri": "https://localhost:8080/",
          "height": 36
        },
        "id": "5Ry1WYzu_iNl",
        "outputId": "b1c8af5a-1d6e-433a-acd1-6a6b15fb54af"
      },
      "outputs": [
        {
          "data": {
            "application/vnd.google.colaboratory.intrinsic+json": {
              "type": "string"
            },
            "text/plain": [
              "'There are seven days in the week'"
            ]
          },
          "execution_count": 2,
          "metadata": {},
          "output_type": "execute_result"
        }
      ],
      "source": [
        "#10.Replace a word in a string with another word.\n",
        "\"There are seven day in the week\".replace('day', 'days')"
      ]
    },
    {
      "cell_type": "code",
      "execution_count": null,
      "metadata": {
        "colab": {
          "base_uri": "https://localhost:8080/"
        },
        "id": "9k-owu5cpAl9",
        "outputId": "fd3e6787-bf97-4717-aa1e-51a8590b5f17"
      },
      "outputs": [
        {
          "data": {
            "text/plain": [
              "2"
            ]
          },
          "execution_count": 2,
          "metadata": {},
          "output_type": "execute_result"
        }
      ],
      "source": [
        "#11.Count the occurences of a word in a string.\n",
        "\"sample string to count occurences of sample string\".count('sample')"
      ]
    },
    {
      "cell_type": "code",
      "execution_count": null,
      "metadata": {
        "colab": {
          "base_uri": "https://localhost:8080/"
        },
        "id": "2FJPyUQ-dEza",
        "outputId": "3e2905ee-b5a8-4dee-d239-5cac333b7048"
      },
      "outputs": [
        {
          "data": {
            "text/plain": [
              "19"
            ]
          },
          "execution_count": 3,
          "metadata": {},
          "output_type": "execute_result"
        }
      ],
      "source": [
        "#12.Find the first occurence of a word in a string.\n",
        "\"first occurence of sample in sample string\".find('sample')"
      ]
    },
    {
      "cell_type": "code",
      "execution_count": null,
      "metadata": {
        "colab": {
          "base_uri": "https://localhost:8080/"
        },
        "id": "IOt113ExdYp7",
        "outputId": "1f39cf69-0adc-4e41-a7cb-77305a966fbd"
      },
      "outputs": [
        {
          "name": "stdout",
          "output_type": "stream",
          "text": [
            "25\n"
          ]
        },
        {
          "data": {
            "text/plain": [
              "25"
            ]
          },
          "execution_count": 5,
          "metadata": {},
          "output_type": "execute_result"
        }
      ],
      "source": [
        "#13.Find the last occurence of a word in a string.\n",
        "index = 0\n",
        "\n",
        "word = 'hello'\n",
        "\n",
        "sample_str = 'My name is hello, saying hello to everyone'\n",
        "\n",
        "for i in range(len(sample_str)):\n",
        "  if sample_str[i] == word[0]:\n",
        "    for j in range(1, len(word)):\n",
        "      if i+j<len(sample_str) and sample_str[i+j] == word[j]:\n",
        "        if j == len(word)-1:\n",
        "          if index<i:\n",
        "            index = i\n",
        "print(index)\n",
        "\n",
        "'My name is hello, saying hello to everyone'.rfind('hello')"
      ]
    },
    {
      "cell_type": "code",
      "execution_count": null,
      "metadata": {
        "colab": {
          "base_uri": "https://localhost:8080/"
        },
        "id": "aRx67TzigPlB",
        "outputId": "01b7e785-5c35-4522-8f53-ea86c9694bc6"
      },
      "outputs": [
        {
          "data": {
            "text/plain": [
              "['split', 'string', 'into', 'list', 'of', 'words']"
            ]
          },
          "execution_count": 6,
          "metadata": {},
          "output_type": "execute_result"
        }
      ],
      "source": [
        "#14.Split a string into a list of words.\n",
        "\n",
        "'split string into list of words'.split(' ')"
      ]
    },
    {
      "cell_type": "code",
      "execution_count": null,
      "metadata": {
        "colab": {
          "base_uri": "https://localhost:8080/",
          "height": 36
        },
        "id": "5aCX7svUhY3U",
        "outputId": "38c1a6c7-da08-4f5e-c9f7-4f3b72eae519"
      },
      "outputs": [
        {
          "data": {
            "application/vnd.google.colaboratory.intrinsic+json": {
              "type": "string"
            },
            "text/plain": [
              "'split string into list of words'"
            ]
          },
          "execution_count": 8,
          "metadata": {},
          "output_type": "execute_result"
        }
      ],
      "source": [
        "#15.Join a list of words into a string.\n",
        "' '.join(['split', 'string', 'into', 'list', 'of', 'words'])"
      ]
    },
    {
      "cell_type": "code",
      "execution_count": null,
      "metadata": {
        "colab": {
          "base_uri": "https://localhost:8080/",
          "height": 36
        },
        "id": "O4OMIGmphlNU",
        "outputId": "8cba3c50-d6f8-41a1-db6a-31ad95054a13"
      },
      "outputs": [
        {
          "data": {
            "application/vnd.google.colaboratory.intrinsic+json": {
              "type": "string"
            },
            "text/plain": [
              "'split_string_into_list_of_words'"
            ]
          },
          "execution_count": 9,
          "metadata": {},
          "output_type": "execute_result"
        }
      ],
      "source": [
        "#16.Convert a string where words are separated by spaces to one where words are separated by underscores.\n",
        "'split string into list of words'.replace(' ','_')"
      ]
    },
    {
      "cell_type": "code",
      "execution_count": null,
      "metadata": {
        "colab": {
          "base_uri": "https://localhost:8080/"
        },
        "id": "EKxAvXezh_LV",
        "outputId": "5420831c-9def-4376-bec5-5f3d323d221e"
      },
      "outputs": [
        {
          "data": {
            "text/plain": [
              "True"
            ]
          },
          "execution_count": 10,
          "metadata": {},
          "output_type": "execute_result"
        }
      ],
      "source": [
        "#17.Check if a string starts with a specific word or phrase.\n",
        "'hi how are you'.startswith('hi')"
      ]
    },
    {
      "cell_type": "code",
      "execution_count": null,
      "metadata": {
        "colab": {
          "base_uri": "https://localhost:8080/"
        },
        "id": "dF8wcrD_iOaQ",
        "outputId": "a320c4b3-7ef5-47b0-ba6e-64aabb8f7987"
      },
      "outputs": [
        {
          "data": {
            "text/plain": [
              "True"
            ]
          },
          "execution_count": 11,
          "metadata": {},
          "output_type": "execute_result"
        }
      ],
      "source": [
        "#18.Check if a string ends with a specific word or phrase.\n",
        "'ends with a word end'.endswith('end')"
      ]
    },
    {
      "cell_type": "code",
      "execution_count": null,
      "metadata": {
        "colab": {
          "base_uri": "https://localhost:8080/",
          "height": 36
        },
        "id": "79MF8obbibZQ",
        "outputId": "6bfb71c3-ac54-493f-bfb4-34aaeef5536d"
      },
      "outputs": [
        {
          "data": {
            "application/vnd.google.colaboratory.intrinsic+json": {
              "type": "string"
            },
            "text/plain": [
              "'Convert String Into Title Case'"
            ]
          },
          "execution_count": 12,
          "metadata": {},
          "output_type": "execute_result"
        }
      ],
      "source": [
        "#19.Convert a string to title case.\n",
        "'convert string into title case'.title()"
      ]
    },
    {
      "cell_type": "code",
      "execution_count": null,
      "metadata": {
        "colab": {
          "base_uri": "https://localhost:8080/"
        },
        "id": "hKjO6Klsilf-",
        "outputId": "8fcbb775-4d76-4b7f-afb1-d2833dc98c27"
      },
      "outputs": [
        {
          "name": "stdout",
          "output_type": "stream",
          "text": [
            "acknowledge is the longest word of length 11\n"
          ]
        }
      ],
      "source": [
        "#20.Find the longest word in a string.\n",
        "sample_str = 'Find the acknowledge longest word in a string'\n",
        "\n",
        "max = 0\n",
        "\n",
        "for i in sample_str.split(' '):\n",
        "  if len(i)>max:\n",
        "    max = len(i)\n",
        "    longest = i\n",
        "print(f\"{longest} is the longest word of length {max}\")"
      ]
    },
    {
      "cell_type": "code",
      "execution_count": null,
      "metadata": {
        "colab": {
          "base_uri": "https://localhost:8080/"
        },
        "id": "3xUPpn_xklTw",
        "outputId": "5036c2e0-4d73-45fb-8306-5c9626bf0ca9"
      },
      "outputs": [
        {
          "name": "stdout",
          "output_type": "stream",
          "text": [
            "a of length of 1\n"
          ]
        }
      ],
      "source": [
        "#21.Find the shortest word in a string.\n",
        "\n",
        "min = float('inf')\n",
        "\n",
        "for i in sample_str.split(' '):\n",
        "  if len(i)<min:\n",
        "    min = len(i)\n",
        "    smallest = i\n",
        "\n",
        "print(f\"{smallest} of length of {min}\")\n"
      ]
    },
    {
      "cell_type": "code",
      "execution_count": null,
      "metadata": {
        "colab": {
          "base_uri": "https://localhost:8080/",
          "height": 36
        },
        "id": "2O_oRFOLlcLE",
        "outputId": "3b1ee172-f34a-4afd-9e69-3b33cc458680"
      },
      "outputs": [
        {
          "data": {
            "application/vnd.google.colaboratory.intrinsic+json": {
              "type": "string"
            },
            "text/plain": [
              "'string a in words of order the Reverse'"
            ]
          },
          "execution_count": 17,
          "metadata": {},
          "output_type": "execute_result"
        }
      ],
      "source": [
        "#22.Reverse the order of words in a string.\n",
        "sample_str = 'Reverse the order of words in a string'\n",
        "' '.join(sample_str.split(' ')[::-1])"
      ]
    },
    {
      "cell_type": "code",
      "execution_count": null,
      "metadata": {
        "colab": {
          "base_uri": "https://localhost:8080/"
        },
        "id": "4wu7RR-il120",
        "outputId": "0968ab41-6075-4ad3-ed69-a37f953345ce"
      },
      "outputs": [
        {
          "data": {
            "text/plain": [
              "True"
            ]
          },
          "execution_count": 20,
          "metadata": {},
          "output_type": "execute_result"
        }
      ],
      "source": [
        "#23.Check if a string is alphanumeric.\n",
        "'123abA'.isalnum()"
      ]
    },
    {
      "cell_type": "code",
      "execution_count": null,
      "metadata": {
        "colab": {
          "base_uri": "https://localhost:8080/"
        },
        "id": "8Egl8PpymHpc",
        "outputId": "195d0b17-d29d-40b3-8db8-1c91384c7801"
      },
      "outputs": [
        {
          "name": "stdout",
          "output_type": "stream",
          "text": [
            "['1', '2', '3', '5']\n"
          ]
        }
      ],
      "source": [
        "#24.Extract all digits from a string.\n",
        "sample = 'a12bch35'\n",
        "print([i for i in sample if i.isdigit() ])"
      ]
    },
    {
      "cell_type": "code",
      "execution_count": null,
      "metadata": {
        "colab": {
          "base_uri": "https://localhost:8080/"
        },
        "id": "Vk8woxrooCzg",
        "outputId": "41979857-2ea9-4e35-8b2f-3d8a8b1bd609"
      },
      "outputs": [
        {
          "name": "stdout",
          "output_type": "stream",
          "text": [
            "['a', 'b', 'c', 'h']\n"
          ]
        }
      ],
      "source": [
        "#25.Extract all alphabets from a string.\n",
        "print([i for i in sample if i.isalpha()])"
      ]
    },
    {
      "cell_type": "code",
      "execution_count": null,
      "metadata": {
        "colab": {
          "base_uri": "https://localhost:8080/"
        },
        "id": "5m43k-4HoW4c",
        "outputId": "30091393-54f8-47d5-c72a-d1a586c70d08"
      },
      "outputs": [
        {
          "name": "stdout",
          "output_type": "stream",
          "text": [
            "['A', 'J', 'K', 'N']\n"
          ]
        }
      ],
      "source": [
        "#26.Count the number of uppercase letters in a string.\n",
        "print([i for i in 'AbsjJKN' if i.isupper()])"
      ]
    },
    {
      "cell_type": "code",
      "execution_count": null,
      "metadata": {
        "colab": {
          "base_uri": "https://localhost:8080/"
        },
        "id": "OUBcd-tRo8z4",
        "outputId": "d3c81018-3462-4f2a-f601-f503e342cc7b"
      },
      "outputs": [
        {
          "name": "stdout",
          "output_type": "stream",
          "text": [
            "['a', 'b', 'a', 'k', 'j']\n"
          ]
        }
      ],
      "source": [
        "#27.Count the number of lowercase letters in a string.\n",
        "print([i for i in 'abJSakj' if i.islower()])"
      ]
    },
    {
      "cell_type": "code",
      "execution_count": null,
      "metadata": {
        "colab": {
          "base_uri": "https://localhost:8080/",
          "height": 36
        },
        "id": "2sbWgjWEpJyR",
        "outputId": "1933c963-809b-46a2-9721-de98af64cc76"
      },
      "outputs": [
        {
          "data": {
            "application/vnd.google.colaboratory.intrinsic+json": {
              "type": "string"
            },
            "text/plain": [
              "'AbCdEff'"
            ]
          },
          "execution_count": 30,
          "metadata": {},
          "output_type": "execute_result"
        }
      ],
      "source": [
        "#28.Swap the case of each character in a string.\n",
        "'aBcDeFF'.swapcase()"
      ]
    },
    {
      "cell_type": "code",
      "execution_count": null,
      "metadata": {
        "colab": {
          "base_uri": "https://localhost:8080/",
          "height": 36
        },
        "id": "kVRBZ1eHs2GB",
        "outputId": "d271f499-28f9-4d97-ea02-5d6e1a6bade2"
      },
      "outputs": [
        {
          "data": {
            "application/vnd.google.colaboratory.intrinsic+json": {
              "type": "string"
            },
            "text/plain": [
              "'It is a demo '"
            ]
          },
          "execution_count": 1,
          "metadata": {},
          "output_type": "execute_result"
        }
      ],
      "source": [
        "#29.Remove a specific word from a string.\n",
        "'It is a demo string'.replace('string',\"\")"
      ]
    },
    {
      "cell_type": "code",
      "execution_count": null,
      "metadata": {
        "colab": {
          "base_uri": "https://localhost:8080/"
        },
        "id": "r5-A9fwZtWQJ",
        "outputId": "2b98cdb8-cfec-4ebc-b3bb-1fb3404ac45f"
      },
      "outputs": [
        {
          "name": "stdout",
          "output_type": "stream",
          "text": [
            "Invalid Email\n"
          ]
        }
      ],
      "source": [
        "#30.Check if a string is a valid email address.\n",
        "email = \"abcabc.com\"\n",
        "if '@' in email:\n",
        "    username, domain = email.split('@')\n",
        "else:\n",
        "  print(\"Invalid Email\")\n",
        "if '.' in domain:\n",
        "  domain_name, extension = domain.split('.')\n",
        "  if not extension.isalpha() and not domain_name.isalpha():\n",
        "    print(\"Invalid email\")\n",
        "else:\n",
        "  print(\"Invalid Email\")\n",
        "\n"
      ]
    },
    {
      "cell_type": "code",
      "execution_count": null,
      "metadata": {
        "colab": {
          "base_uri": "https://localhost:8080/"
        },
        "id": "MCii2Louwssa",
        "outputId": "8b17f971-e3b8-4c22-8a88-812d76305add"
      },
      "outputs": [
        {
          "name": "stdout",
          "output_type": "stream",
          "text": [
            "abc\n"
          ]
        }
      ],
      "source": [
        "#31.Extract the username from an email address string.\n",
        "email = \"abc@abc.com\"\n",
        "\n",
        "username = email.split('@')[0]\n",
        "print(username)"
      ]
    },
    {
      "cell_type": "code",
      "execution_count": null,
      "metadata": {
        "colab": {
          "base_uri": "https://localhost:8080/"
        },
        "id": "TsMVPRFTxK1V",
        "outputId": "cd1205b3-f922-4fb4-871e-81ed8e28aa8a"
      },
      "outputs": [
        {
          "name": "stdout",
          "output_type": "stream",
          "text": [
            "abc\n"
          ]
        }
      ],
      "source": [
        "#32.Extract the domain name from an email address string.\n",
        "email = \"abc@abc.com\"\n",
        "\n",
        "domain_name = email.split('@')[1].split('.')[0]\n",
        "print(username)"
      ]
    },
    {
      "cell_type": "code",
      "execution_count": null,
      "metadata": {
        "colab": {
          "base_uri": "https://localhost:8080/",
          "height": 36
        },
        "id": "as37SeSaxmHB",
        "outputId": "8f5a8bfc-d426-40a1-be9e-84d6427e22f4"
      },
      "outputs": [
        {
          "data": {
            "application/vnd.google.colaboratory.intrinsic+json": {
              "type": "string"
            },
            "text/plain": [
              "'hi my name is'"
            ]
          },
          "execution_count": 10,
          "metadata": {},
          "output_type": "execute_result"
        }
      ],
      "source": [
        "#33.Replace multiple spaces in a string with a single space.\n",
        "string_multi_spaces = 'hi  my    name is'\n",
        "\" \".join(string_multi_spaces.split())"
      ]
    },
    {
      "cell_type": "code",
      "execution_count": null,
      "metadata": {
        "colab": {
          "base_uri": "https://localhost:8080/"
        },
        "id": "lDC4wDZo1YM6",
        "outputId": "0b9476a5-e412-4ebe-c2aa-c12e6a5ba454"
      },
      "outputs": [
        {
          "name": "stdout",
          "output_type": "stream",
          "text": [
            "Invalid url\n"
          ]
        }
      ],
      "source": [
        "#34.Check if a string is a valid URL.\n",
        "url = \"www.google.com\"\n",
        "if not url.startswith((\"http://\",\"https://\",\"ftp://\")):\n",
        "  print(\"Invalid url\")\n",
        "else:\n",
        "  print(\"Valid url\")"
      ]
    },
    {
      "cell_type": "code",
      "execution_count": null,
      "metadata": {
        "colab": {
          "base_uri": "https://localhost:8080/"
        },
        "id": "U4_TEzP8HUjT",
        "outputId": "04929839-c59f-426a-809c-b10aa9adda5d"
      },
      "outputs": [
        {
          "name": "stdout",
          "output_type": "stream",
          "text": [
            "http\n"
          ]
        }
      ],
      "source": [
        "#35.Extract the protocol(http or https) from a URL string.\n",
        "protocol = \"http://www.google.com\".split(':')[0]\n",
        "print(protocol)"
      ]
    },
    {
      "cell_type": "code",
      "execution_count": null,
      "metadata": {
        "colab": {
          "base_uri": "https://localhost:8080/"
        },
        "id": "gAW6xKuoHs5Y",
        "outputId": "0d4dd624-3725-4b9f-b642-3f1b7a33aca7"
      },
      "outputs": [
        {
          "name": "stdout",
          "output_type": "stream",
          "text": [
            "{'c': 3, 'o': 1, 'u': 1, 'n': 1, 't': 3, 'h': 2, 'e': 2, 'a': 2, 'r': 2, 's': 1}\n"
          ]
        }
      ],
      "source": [
        "#36.Find the frequency of each character in a string.\n",
        "string = \"countthecharacters\"\n",
        "freq = {}\n",
        "for i in string:\n",
        "  if i not in freq.keys():\n",
        "    freq[i] = 1\n",
        "  else:\n",
        "    freq[i] += 1\n",
        "print(freq)\n"
      ]
    },
    {
      "cell_type": "code",
      "execution_count": null,
      "metadata": {
        "colab": {
          "base_uri": "https://localhost:8080/"
        },
        "id": "sSpudNA95vTM",
        "outputId": "29a9af9b-f8bd-43af-c38d-b71452909871"
      },
      "outputs": [
        {
          "name": "stdout",
          "output_type": "stream",
          "text": [
            "Hello world This is a test 100 sure\n"
          ]
        }
      ],
      "source": [
        "#37.Remove all punctuation from a string.\n",
        "sample_str = \"Hello, world! This is a test: 100% sure.\"\n",
        "\n",
        "cleaned_str = ''.join([char for char in sample_str if char.isalnum() or char.isspace()])\n",
        "print(cleaned_str)"
      ]
    },
    {
      "cell_type": "code",
      "execution_count": null,
      "metadata": {
        "colab": {
          "base_uri": "https://localhost:8080/"
        },
        "id": "hXbYaRB8831P",
        "outputId": "327220d7-b480-4418-b68e-5815831e26b9"
      },
      "outputs": [
        {
          "name": "stdout",
          "output_type": "stream",
          "text": [
            "False\n"
          ]
        },
        {
          "data": {
            "text/plain": [
              "True"
            ]
          },
          "execution_count": 10,
          "metadata": {},
          "output_type": "execute_result"
        }
      ],
      "source": [
        "#38.Check if a string contains only digits.\n",
        "a = 'ab123'\n",
        "b = '123'\n",
        "\n",
        "print(a.isdigit())\n",
        "b.isdigit()"
      ]
    },
    {
      "cell_type": "code",
      "execution_count": null,
      "metadata": {
        "colab": {
          "base_uri": "https://localhost:8080/"
        },
        "id": "aKulq1gM9oCA",
        "outputId": "ea819904-f66e-48e8-d97a-d85548152147"
      },
      "outputs": [
        {
          "name": "stdout",
          "output_type": "stream",
          "text": [
            "False\n",
            "False\n",
            "True\n"
          ]
        }
      ],
      "source": [
        "#39.Check if a string contains only alphabets.\n",
        "print('ab123'.isalpha())\n",
        "print('123'.isalpha())\n",
        "print('abc'.isalpha())"
      ]
    },
    {
      "cell_type": "code",
      "execution_count": null,
      "metadata": {
        "colab": {
          "base_uri": "https://localhost:8080/"
        },
        "id": "nWZc93HJ-GAz",
        "outputId": "4e94e928-3832-4b50-e013-f9788968a95a"
      },
      "outputs": [
        {
          "data": {
            "text/plain": [
              "['a', 'b', 'c', 'd', 'e', 'f']"
            ]
          },
          "execution_count": 18,
          "metadata": {},
          "output_type": "execute_result"
        }
      ],
      "source": [
        "#40.Convert a string to a list of characters.\n",
        "list('abcdef')"
      ]
    },
    {
      "cell_type": "code",
      "execution_count": null,
      "metadata": {
        "colab": {
          "base_uri": "https://localhost:8080/"
        },
        "id": "PF_XnPCW-xPo",
        "outputId": "cbc55101-4efb-4d93-ffc3-71b60d570102"
      },
      "outputs": [
        {
          "name": "stdout",
          "output_type": "stream",
          "text": [
            "Anagram\n"
          ]
        }
      ],
      "source": [
        "#41.Check if two strings are anagrams.\n",
        "str1 = 'silent'\n",
        "str2 = 'listen'\n",
        "\n",
        "if sorted(str1) == sorted(str2):\n",
        "  print(\"Anagram\")"
      ]
    },
    {
      "cell_type": "code",
      "execution_count": null,
      "metadata": {
        "colab": {
          "base_uri": "https://localhost:8080/"
        },
        "id": "Qx5l0aC7BTST",
        "outputId": "378063ed-d3c8-4e56-eae5-569eeed9f11f"
      },
      "outputs": [
        {
          "name": "stdout",
          "output_type": "stream",
          "text": [
            "Mjqqt rd sfrj nx Fgmfd\n"
          ]
        }
      ],
      "source": [
        "#42.Encode a string using a Caesar cipher.\n",
        "text = 'Hello my name is Abhay'\n",
        "result = \"\"\n",
        "for char in text:\n",
        "  if char.isalpha():\n",
        "     shift_base = ord('A') if char.isupper() else ord('a')\n",
        "     result += chr((ord(char) - shift_base + 5)%26 + shift_base)\n",
        "  else:\n",
        "    result += char\n",
        "\n",
        "print(result)"
      ]
    },
    {
      "cell_type": "code",
      "execution_count": null,
      "metadata": {
        "colab": {
          "base_uri": "https://localhost:8080/"
        },
        "id": "ETH9DmadI9Y6",
        "outputId": "78bea166-4b65-4456-dde6-c03ee1a938d2"
      },
      "outputs": [
        {
          "name": "stdout",
          "output_type": "stream",
          "text": [
            "Hello my name is Abhay\n"
          ]
        }
      ],
      "source": [
        "#43.Decode a Caesar cipher encoded string.\n",
        "text = 'Mjqqt rd sfrj nx Fgmfd'\n",
        "result = \"\"\n",
        "for char in text:\n",
        "  if char.isalpha():\n",
        "    shift_base = ord('A') if char.isupper() else ord('a')\n",
        "    result += chr((ord(char) - shift_base -5)%26 + shift_base)\n",
        "  else:\n",
        "    result += char\n",
        "\n",
        "print(result)"
      ]
    },
    {
      "cell_type": "code",
      "execution_count": null,
      "metadata": {
        "colab": {
          "base_uri": "https://localhost:8080/"
        },
        "id": "-LIEXqfyLBdo",
        "outputId": "5c18af21-9afa-4f78-b9f4-cbba9a7c780c"
      },
      "outputs": [
        {
          "name": "stdout",
          "output_type": "stream",
          "text": [
            "{'h': 2, 'e': 2, 'l': 3, 'o': 1, 't': 2, 'i': 3, 's': 4, 'a': 1, 'm': 1, 'p': 1, 'r': 1, 'n': 1, 'g': 1}\n"
          ]
        }
      ],
      "source": [
        "#44.Find the most frequent word in a string.\n",
        "word = 'hello this is sample string'\n",
        "word = word.replace(' ', '')\n",
        "dict1 = {}\n",
        "\n",
        "for i in word:\n",
        "  if i not in dict1.keys():\n",
        "    dict1[i] = 1\n",
        "  else:\n",
        "    dict1[i] += 1\n",
        "print(dict1)"
      ]
    },
    {
      "cell_type": "code",
      "execution_count": null,
      "metadata": {
        "colab": {
          "base_uri": "https://localhost:8080/"
        },
        "id": "J-DfNNMTSBPD",
        "outputId": "c1a0adaa-c0b3-4583-adab-9a27786f3ad0"
      },
      "outputs": [
        {
          "data": {
            "text/plain": [
              "{'a', 'b', 'c'}"
            ]
          },
          "execution_count": 28,
          "metadata": {},
          "output_type": "execute_result"
        }
      ],
      "source": [
        "#45.Find all unique words in a string.\n",
        "set('abcabc')"
      ]
    },
    {
      "cell_type": "code",
      "execution_count": null,
      "metadata": {
        "colab": {
          "base_uri": "https://localhost:8080/"
        },
        "id": "VfJlf2wGVpmv",
        "outputId": "5f8e9ca4-8ccf-42bd-bfc5-988d57805d13"
      },
      "outputs": [
        {
          "name": "stdout",
          "output_type": "stream",
          "text": [
            "5\n"
          ]
        }
      ],
      "source": [
        "#46.Count the number of syllables in a string.\n",
        "str1  = 'aabcodefgahjklaeiou'\n",
        "counting = False\n",
        "counted = False\n",
        "counter = 0\n",
        "for i in str1:\n",
        "  if i in 'aeiou':\n",
        "    if counting:\n",
        "      continue\n",
        "    else:\n",
        "      counting = True\n",
        "      counter += 1\n",
        "  elif counting:\n",
        "    counting = False\n",
        "\n",
        "print(counter)\n"
      ]
    },
    {
      "cell_type": "code",
      "execution_count": null,
      "metadata": {
        "colab": {
          "base_uri": "https://localhost:8080/"
        },
        "id": "5BVrNCQ-rEZW",
        "outputId": "59f692fc-3e3e-4c0b-a46a-40d55f947f5b"
      },
      "outputs": [
        {
          "data": {
            "text/plain": [
              "True"
            ]
          },
          "execution_count": 45,
          "metadata": {},
          "output_type": "execute_result"
        }
      ],
      "source": [
        "#47.Check if a string contains any special characters.\n",
        "not '12af#'.isalnum()\n"
      ]
    },
    {
      "cell_type": "code",
      "execution_count": null,
      "metadata": {
        "colab": {
          "base_uri": "https://localhost:8080/"
        },
        "id": "4UdYXhCd17zu",
        "outputId": "dcf89990-23b5-4936-9497-4cd4b036005a"
      },
      "outputs": [
        {
          "name": "stdout",
          "output_type": "stream",
          "text": [
            "this is a string to remove a word\n"
          ]
        }
      ],
      "source": [
        "#48.Remove the nth word from a string.\n",
        "sentence = \"this is a sample string to remove a word\"\n",
        "n = 3\n",
        "sentence = sentence.split(' ')\n",
        "new_sentence = ' '.join(sentence[:n]) +' '+ ' '.join(sentence[n+1:])\n",
        "print(new_sentence)"
      ]
    },
    {
      "cell_type": "code",
      "execution_count": null,
      "metadata": {
        "colab": {
          "base_uri": "https://localhost:8080/",
          "height": 36
        },
        "id": "gPVzPjbW2Nhc",
        "outputId": "b1f6ad42-7bd0-4021-98be-bc5e510eb24c"
      },
      "outputs": [
        {
          "data": {
            "application/vnd.google.colaboratory.intrinsic+json": {
              "type": "string"
            },
            "text/plain": [
              "'this is new_word a sample string to insert a word'"
            ]
          },
          "execution_count": 53,
          "metadata": {},
          "output_type": "execute_result"
        }
      ],
      "source": [
        "#49. Insert a word at the nth position in a string.\n",
        "sentence = \"this is a sample string to insert a word\"\n",
        "n = 2\n",
        "sentence = sentence.split(' ')\n",
        "sentence.insert(n,'new_word')\n",
        "' '.join(sentence)"
      ]
    },
    {
      "cell_type": "code",
      "execution_count": null,
      "metadata": {
        "colab": {
          "base_uri": "https://localhost:8080/"
        },
        "id": "LBVA_rDt5SDp",
        "outputId": "16be85eb-b3d5-4c23-8622-841500712e76"
      },
      "outputs": [
        {
          "name": "stdout",
          "output_type": "stream",
          "text": [
            "[['hello'], [' this'], [' is comma'], [' separted']]\n"
          ]
        }
      ],
      "source": [
        "#50. Convert a CSV string to a list of lists.\n",
        "a = [[i] for i in 'hello, this, is comma, separted'.split(',')]\n",
        "print(a)"
      ]
    },
    {
      "cell_type": "markdown",
      "metadata": {
        "id": "bJU2I8K3vqay"
      },
      "source": [
        "List based Practice problem"
      ]
    },
    {
      "cell_type": "code",
      "execution_count": null,
      "metadata": {
        "colab": {
          "base_uri": "https://localhost:8080/"
        },
        "id": "cEJ5b4Gw5ty4",
        "outputId": "0f1bcc39-a840-4600-e9bf-60f6a9351404"
      },
      "outputs": [
        {
          "name": "stdout",
          "output_type": "stream",
          "text": [
            "[1, 2, 3, 4, 5, 6, 7, 8, 9, 10]\n"
          ]
        }
      ],
      "source": [
        "#1. Create a list with integers from 1 to 10.\n",
        "print([i for i in range(1,11)])"
      ]
    },
    {
      "cell_type": "code",
      "execution_count": null,
      "metadata": {
        "colab": {
          "base_uri": "https://localhost:8080/"
        },
        "id": "lYXgeC3c1LDd",
        "outputId": "e079eead-a720-421b-829b-dbbd6d1b5ba7"
      },
      "outputs": [
        {
          "name": "stdout",
          "output_type": "stream",
          "text": [
            "length of list is 4\n"
          ]
        }
      ],
      "source": [
        "#2.Find  the length of a list whithout using the len() function.\n",
        "counter = 0\n",
        "\n",
        "for i in [1,2,3,4]:\n",
        "  counter+= 1\n",
        "\n",
        "print(f\"length of list is {counter}\")"
      ]
    },
    {
      "cell_type": "code",
      "execution_count": null,
      "metadata": {
        "colab": {
          "base_uri": "https://localhost:8080/"
        },
        "id": "UbUn9Try1j42",
        "outputId": "46aa9ccc-4219-45cb-bcf3-2eff042127d8"
      },
      "outputs": [
        {
          "name": "stdout",
          "output_type": "stream",
          "text": [
            "[1, 2, 3, 4, 10]\n"
          ]
        }
      ],
      "source": [
        "#3.Append an element to the end of a list.\n",
        "a = [1,2,3,4]\n",
        "a.append(10)\n",
        "print(a)"
      ]
    },
    {
      "cell_type": "code",
      "execution_count": null,
      "metadata": {
        "colab": {
          "base_uri": "https://localhost:8080/"
        },
        "id": "dWxakkc41uNZ",
        "outputId": "1d6a3b9e-4f57-4d2d-c104-74389b3028eb"
      },
      "outputs": [
        {
          "name": "stdout",
          "output_type": "stream",
          "text": [
            "[1, 2, 11, 3, 4, 5, 6]\n"
          ]
        }
      ],
      "source": [
        "#4.Insert an element at a specific index in a list.\n",
        "a = [1,2,3,4,5,6]\n",
        "a.insert(2, 11)\n",
        "print(a)"
      ]
    },
    {
      "cell_type": "code",
      "execution_count": null,
      "metadata": {
        "colab": {
          "base_uri": "https://localhost:8080/"
        },
        "id": "xx9bqd8o3IZ2",
        "outputId": "021073e6-57d0-429b-8044-5f833293723e"
      },
      "outputs": [
        {
          "name": "stdout",
          "output_type": "stream",
          "text": [
            "[1, 2, 4]\n"
          ]
        }
      ],
      "source": [
        "#5.Remove an element from a list by its value.\n",
        "a = [1,2,3,4]\n",
        "a.remove(3)\n",
        "print(a)"
      ]
    },
    {
      "cell_type": "code",
      "execution_count": null,
      "metadata": {
        "colab": {
          "base_uri": "https://localhost:8080/"
        },
        "id": "8-oWdrJs3V7D",
        "outputId": "dde7f76c-5c26-4e4a-b181-acfb28410bf4"
      },
      "outputs": [
        {
          "name": "stdout",
          "output_type": "stream",
          "text": [
            "[1, 3, 4, 5]\n"
          ]
        }
      ],
      "source": [
        "#6 Remove an element from a list by its index.\n",
        "a = [1,2,3,4,5]\n",
        "a.pop(1)\n",
        "print(a)"
      ]
    },
    {
      "cell_type": "code",
      "execution_count": null,
      "metadata": {
        "colab": {
          "base_uri": "https://localhost:8080/"
        },
        "id": "lbddcx5l3hh3",
        "outputId": "c40dcefc-3d44-4cda-8535-1e4500454610"
      },
      "outputs": [
        {
          "data": {
            "text/plain": [
              "False"
            ]
          },
          "execution_count": 8,
          "metadata": {},
          "output_type": "execute_result"
        }
      ],
      "source": [
        "#7. Check if an element exists in a list.\n",
        "a = [1,2,3,4]\n",
        "5 in a"
      ]
    },
    {
      "cell_type": "code",
      "execution_count": null,
      "metadata": {
        "colab": {
          "base_uri": "https://localhost:8080/"
        },
        "id": "QRxRY3oQ36K5",
        "outputId": "7d1d7aa3-02f7-45fa-b86a-07bdcf5994cf"
      },
      "outputs": [
        {
          "data": {
            "text/plain": [
              "1"
            ]
          },
          "execution_count": 10,
          "metadata": {},
          "output_type": "execute_result"
        }
      ],
      "source": [
        "#8. Find the index of first occurence of an element in a list.\n",
        "[2,1,3,1].index(1)"
      ]
    },
    {
      "cell_type": "code",
      "execution_count": null,
      "metadata": {
        "colab": {
          "base_uri": "https://localhost:8080/"
        },
        "id": "P_Z345H95qTp",
        "outputId": "6b636194-b430-4c2e-822f-e68aed912617"
      },
      "outputs": [
        {
          "data": {
            "text/plain": [
              "3"
            ]
          },
          "execution_count": 11,
          "metadata": {},
          "output_type": "execute_result"
        }
      ],
      "source": [
        "#9. Count the occurrences of an element in a list.\n",
        "[1,2,1,3,1].count(1)\n"
      ]
    },
    {
      "cell_type": "code",
      "execution_count": null,
      "metadata": {
        "colab": {
          "base_uri": "https://localhost:8080/"
        },
        "id": "gN4868sx7RNj",
        "outputId": "6d5e29b0-354a-4ecf-f0b2-c3e2bf93b815"
      },
      "outputs": [
        {
          "name": "stdout",
          "output_type": "stream",
          "text": [
            "[4, 3, 2, 1]\n"
          ]
        }
      ],
      "source": [
        "#10.Reverse the order of elements in a list.\n",
        "a = [1,2,3,4]\n",
        "b = a[::-1]\n",
        "print(b)"
      ]
    },
    {
      "cell_type": "code",
      "execution_count": null,
      "metadata": {
        "colab": {
          "base_uri": "https://localhost:8080/"
        },
        "id": "7kcA-YyR7dpm",
        "outputId": "358f17ac-a60c-40a7-9d22-a942c5262439"
      },
      "outputs": [
        {
          "name": "stdout",
          "output_type": "stream",
          "text": [
            "[1, 1, 2, 3, 4]\n"
          ]
        }
      ],
      "source": [
        "#11.Sort a list in ascending order.\n",
        "a = [1,3,4,2,1]\n",
        "a.sort()\n",
        "print(a)"
      ]
    },
    {
      "cell_type": "code",
      "execution_count": null,
      "metadata": {
        "colab": {
          "base_uri": "https://localhost:8080/"
        },
        "id": "k6ZrfG6w7vFg",
        "outputId": "9b17dd7c-e5e1-453a-860b-6267e30a3978"
      },
      "outputs": [
        {
          "name": "stdout",
          "output_type": "stream",
          "text": [
            "[3, 2, 2, 1, 1]\n"
          ]
        }
      ],
      "source": [
        "#12. Sort a list in descending order.\n",
        "a = [1,2,3,2,1]\n",
        "a.sort(reverse = True)\n",
        "print(a)"
      ]
    },
    {
      "cell_type": "code",
      "execution_count": null,
      "metadata": {
        "colab": {
          "base_uri": "https://localhost:8080/"
        },
        "id": "_qKMAQAW8Ia2",
        "outputId": "105ee88d-2d24-4e21-c843-1a539643f584"
      },
      "outputs": [
        {
          "data": {
            "text/plain": [
              "[2, 4, 6, 8, 10, 12, 14, 16, 18, 20]"
            ]
          },
          "execution_count": 17,
          "metadata": {},
          "output_type": "execute_result"
        }
      ],
      "source": [
        "#13. Create a list of even numbers from 1 to 20.\n",
        "[i for i in range(1,21) if i%2==0]"
      ]
    },
    {
      "cell_type": "code",
      "execution_count": null,
      "metadata": {
        "colab": {
          "base_uri": "https://localhost:8080/"
        },
        "id": "jWg8FP5c8t9l",
        "outputId": "48af7095-42f8-496e-9367-278cbac93536"
      },
      "outputs": [
        {
          "data": {
            "text/plain": [
              "[1, 3, 5, 7, 9, 11, 13, 15, 17, 19]"
            ]
          },
          "execution_count": 18,
          "metadata": {},
          "output_type": "execute_result"
        }
      ],
      "source": [
        "#14. Create a list of odd numbers from 1 to 20.\n",
        "[i for i in range(1,21) if i%2!= 0]"
      ]
    },
    {
      "cell_type": "code",
      "execution_count": null,
      "metadata": {
        "colab": {
          "base_uri": "https://localhost:8080/"
        },
        "id": "Sykuc7VM843I",
        "outputId": "4467ebae-6fec-4198-9a0f-a1b3d091486f"
      },
      "outputs": [
        {
          "data": {
            "text/plain": [
              "10"
            ]
          },
          "execution_count": 20,
          "metadata": {},
          "output_type": "execute_result"
        }
      ],
      "source": [
        "#15. Find the sum of all elements in a list\n",
        "sum(\n",
        "[1,2,3,4])"
      ]
    },
    {
      "cell_type": "code",
      "execution_count": null,
      "metadata": {
        "colab": {
          "base_uri": "https://localhost:8080/"
        },
        "id": "8C4JhqCk9BND",
        "outputId": "43c48de9-7788-4607-f975-5a0214e4dcc0"
      },
      "outputs": [
        {
          "data": {
            "text/plain": [
              "3"
            ]
          },
          "execution_count": 21,
          "metadata": {},
          "output_type": "execute_result"
        }
      ],
      "source": [
        "#16. Find the maximum value in a list.\n",
        "max([1,2,3])"
      ]
    },
    {
      "cell_type": "code",
      "execution_count": null,
      "metadata": {
        "colab": {
          "base_uri": "https://localhost:8080/"
        },
        "id": "h315-UZB9OZF",
        "outputId": "5e7b1c17-9ed1-4da3-9ad8-78955b2e0c05"
      },
      "outputs": [
        {
          "data": {
            "text/plain": [
              "1"
            ]
          },
          "execution_count": 22,
          "metadata": {},
          "output_type": "execute_result"
        }
      ],
      "source": [
        "#17. Find the minimum value in a list.\n",
        "min([1,2,3,4])"
      ]
    },
    {
      "cell_type": "code",
      "execution_count": null,
      "metadata": {
        "colab": {
          "base_uri": "https://localhost:8080/"
        },
        "id": "VZs7inHX9wBa",
        "outputId": "f36cbfb2-c4d4-48ff-da23-57e80034ce53"
      },
      "outputs": [
        {
          "data": {
            "text/plain": [
              "[1, 4, 9, 16, 25, 36, 49, 64, 81, 100]"
            ]
          },
          "execution_count": 23,
          "metadata": {},
          "output_type": "execute_result"
        }
      ],
      "source": [
        "#18. Create a list of squares of numbers from 1 to 10.\n",
        "[i**2 for i in range(1,11)]"
      ]
    },
    {
      "cell_type": "code",
      "execution_count": null,
      "metadata": {
        "colab": {
          "base_uri": "https://localhost:8080/"
        },
        "id": "valqTO1m-ACk",
        "outputId": "eb99d80b-e1e8-439b-8336-4640a8d2f76c"
      },
      "outputs": [
        {
          "name": "stdout",
          "output_type": "stream",
          "text": [
            "[71, 100, 42, 97, 15, 13, 97, 65, 98, 100]\n"
          ]
        }
      ],
      "source": [
        "#19. Create a list of random numbers.\n",
        "import random\n",
        "random_list = [random.randint(1,100) for _ in range(10) ]\n",
        "print(random_list)"
      ]
    },
    {
      "cell_type": "code",
      "execution_count": null,
      "metadata": {
        "colab": {
          "base_uri": "https://localhost:8080/"
        },
        "id": "MCnj3j6t-_rx",
        "outputId": "a0dfca48-e28a-4f32-d28a-6e2b0d094e13"
      },
      "outputs": [
        {
          "name": "stdout",
          "output_type": "stream",
          "text": [
            "[1, 2, 3]\n",
            "[1, 2, 3]\n"
          ]
        }
      ],
      "source": [
        "#20.Remove duplicates from a list.\n",
        "a = [1,2,3,1,2,3]\n",
        "b = list(set(a))\n",
        "print(b)\n",
        "\n",
        "c = list(dict.fromkeys(a))\n",
        "print(c)"
      ]
    },
    {
      "cell_type": "code",
      "execution_count": null,
      "metadata": {
        "colab": {
          "base_uri": "https://localhost:8080/"
        },
        "id": "AaXAJ4VABGEj",
        "outputId": "5d0bb504-9cf7-468e-85d3-95e4a32016b0"
      },
      "outputs": [
        {
          "name": "stdout",
          "output_type": "stream",
          "text": [
            "[3]\n"
          ]
        }
      ],
      "source": [
        "#21.Find the common elements between two lists.\n",
        "a = [1,2,3]\n",
        "b = [3,4,5]\n",
        "common = [i for i in a if i in b]\n",
        "print(common)"
      ]
    },
    {
      "cell_type": "code",
      "execution_count": null,
      "metadata": {
        "colab": {
          "base_uri": "https://localhost:8080/"
        },
        "id": "6yQkPDpdDejH",
        "outputId": "9308c0c5-471c-4add-f0e4-d5465fe95a4c"
      },
      "outputs": [
        {
          "name": "stdout",
          "output_type": "stream",
          "text": [
            "[1, 2]\n"
          ]
        }
      ],
      "source": [
        "#22. Find the difference between two lists.\n",
        "a = [1,2,3]\n",
        "b = [3,4,5]\n",
        "diff = [i for i in a if i not in b]\n",
        "print(diff)"
      ]
    },
    {
      "cell_type": "code",
      "execution_count": null,
      "metadata": {
        "colab": {
          "base_uri": "https://localhost:8080/"
        },
        "id": "knngV7ePDz68",
        "outputId": "0d23e1c5-359d-46e7-97dd-47e45a9acbb4"
      },
      "outputs": [
        {
          "name": "stdout",
          "output_type": "stream",
          "text": [
            "[1, 2, 3, 4, 5, 6]\n"
          ]
        }
      ],
      "source": [
        "#23.Merge two lists.\n",
        "\n",
        "a = [1, 2, 3]\n",
        "b = [4, 5, 6]\n",
        "a.extend(b)\n",
        "print(a)"
      ]
    },
    {
      "cell_type": "code",
      "execution_count": null,
      "metadata": {
        "colab": {
          "base_uri": "https://localhost:8080/"
        },
        "id": "cBGY8ZYJEkfa",
        "outputId": "43327613-2040-4515-ad58-404f629bb812"
      },
      "outputs": [
        {
          "name": "stdout",
          "output_type": "stream",
          "text": [
            "[2, 4, 6]\n"
          ]
        }
      ],
      "source": [
        "#24.Multiply all elements in a list by 2\n",
        "a = [1, 2, 3]\n",
        "b = [i*2 for i in a]\n",
        "print(b)"
      ]
    },
    {
      "cell_type": "code",
      "execution_count": null,
      "metadata": {
        "colab": {
          "base_uri": "https://localhost:8080/"
        },
        "id": "YphE5mcvEy5E",
        "outputId": "861d454d-ae2e-4f31-93b2-7f25ce37dcf5"
      },
      "outputs": [
        {
          "name": "stdout",
          "output_type": "stream",
          "text": [
            "[2, 4]\n"
          ]
        }
      ],
      "source": [
        "#25.Filter out all even numbers from a list.\n",
        "a = [1,2,3,4,5]\n",
        "b = [i for i in a if i%2 == 0]\n",
        "print(b)"
      ]
    },
    {
      "cell_type": "code",
      "execution_count": null,
      "metadata": {
        "colab": {
          "base_uri": "https://localhost:8080/"
        },
        "id": "rdJ-mN1rFCZm",
        "outputId": "8ea6ebef-70af-4833-b800-8d0341a914b3"
      },
      "outputs": [
        {
          "name": "stdout",
          "output_type": "stream",
          "text": [
            "[1, 2, 3]\n"
          ]
        }
      ],
      "source": [
        "#26.Convert alist of strings to a list of integers.\n",
        "a = ['1', '2', '3']\n",
        "b = [int(i) for i in a]\n",
        "print(b)\n"
      ]
    },
    {
      "cell_type": "code",
      "execution_count": null,
      "metadata": {
        "colab": {
          "base_uri": "https://localhost:8080/"
        },
        "id": "LTsk-Gy4GyTK",
        "outputId": "6953494d-d7d0-4106-ed0a-db202cf7b2a1"
      },
      "outputs": [
        {
          "name": "stdout",
          "output_type": "stream",
          "text": [
            "['1', '2', '3']\n"
          ]
        }
      ],
      "source": [
        "#27.Convert a list of integers to a list of strings.\n",
        "a = [1,2,3]\n",
        "\n",
        "b = [str(i) for i in a]\n",
        "print(b)"
      ]
    },
    {
      "cell_type": "code",
      "execution_count": null,
      "metadata": {
        "colab": {
          "base_uri": "https://localhost:8080/"
        },
        "id": "vfXqpklDHYSU",
        "outputId": "06df3479-b77c-4da8-a44a-0d2be6aaeef5"
      },
      "outputs": [
        {
          "name": "stdout",
          "output_type": "stream",
          "text": [
            "[1, 2, 2, 3]\n"
          ]
        }
      ],
      "source": [
        "#28. Flatten a nested list.\n",
        "from itertools import chain\n",
        "\n",
        "nested_list = [[1,2],[2,3]]\n",
        "flat_list = list(chain(*nested_list))\n",
        "print(flat_list)"
      ]
    },
    {
      "cell_type": "code",
      "execution_count": null,
      "metadata": {
        "colab": {
          "base_uri": "https://localhost:8080/"
        },
        "id": "OKe5wGxPJqHP",
        "outputId": "c4202663-33cb-43c5-c8df-04ca12a83696"
      },
      "outputs": [
        {
          "name": "stdout",
          "output_type": "stream",
          "text": [
            "[0, 1, 1, 2, 3, 5, 8, 13, 21, 34]\n"
          ]
        }
      ],
      "source": [
        "#29. Create a list of the first 10 Fibonacci numbers.\n",
        "a = 0\n",
        "b = 1\n",
        "fib = []\n",
        "n = 10\n",
        "for i in range(n):\n",
        "  if i == 0 or i == 1:\n",
        "    fib.append(i)\n",
        "    continue\n",
        "  a,b = b, a+b\n",
        "  fib.append(b)\n",
        "\n",
        "print(fib)\n",
        "\n",
        "\n"
      ]
    },
    {
      "cell_type": "code",
      "execution_count": null,
      "metadata": {
        "colab": {
          "base_uri": "https://localhost:8080/"
        },
        "id": "d60XQJV2Nt4H",
        "outputId": "f7f43830-412f-4883-ec4a-2d90c6a83af5"
      },
      "outputs": [
        {
          "name": "stdout",
          "output_type": "stream",
          "text": [
            "unsorted\n"
          ]
        }
      ],
      "source": [
        "#30.Check if a list is sorted.\n",
        "a = [1,2,3]\n",
        "b = [3,2,1]\n",
        "\n",
        "result = 'sorted'\n",
        "prev = b[0]\n",
        "for i in b:\n",
        "  if prev>i:\n",
        "    result = 'unsorted'\n",
        "    break\n",
        "  else:\n",
        "    prev = i\n",
        "print(result)\n"
      ]
    },
    {
      "cell_type": "code",
      "execution_count": null,
      "metadata": {
        "colab": {
          "base_uri": "https://localhost:8080/"
        },
        "id": "CHg9StkzOvnu",
        "outputId": "26adcb7b-9836-4399-ce23-c3b7ea75916f"
      },
      "outputs": [
        {
          "name": "stdout",
          "output_type": "stream",
          "text": [
            "2\n",
            "[3, 4, 5, 1, 2]\n",
            "3\n",
            "[4, 5, 1, 2, 3]\n",
            "4\n",
            "[5, 1, 2, 3, 4]\n",
            "0\n",
            "[1, 2, 3, 4, 5]\n"
          ]
        }
      ],
      "source": [
        "#31. Rotate a list to the left by n positions.\n",
        "def rotate_left(sample_list, n):\n",
        "  length = len(sample_list)\n",
        "  n = n%length\n",
        "  print(n)\n",
        "\n",
        "  l = 0\n",
        "  r = length - 1\n",
        "\n",
        "  while l<r:\n",
        "    sample_list[l], sample_list[r] = sample_list[r], sample_list[l]\n",
        "    l += 1\n",
        "    r -= 1\n",
        "\n",
        "\n",
        "  l = 0\n",
        "  r = length - n - 1\n",
        "\n",
        "  while l<r:\n",
        "    sample_list[l], sample_list[r] = sample_list[r], sample_list[l]\n",
        "    l += 1\n",
        "    r -= 1\n",
        "\n",
        "  l = length - n\n",
        "  r = length -1\n",
        "\n",
        "  while l<r:\n",
        "    sample_list[l], sample_list[r] = sample_list[r], sample_list[l]\n",
        "    l += 1\n",
        "    r -= 1\n",
        "  print(sample_list)\n",
        "\n",
        "\n",
        "list1 = [1,2,3,4,5]\n",
        "\n",
        "rotate_left(list1,2)\n",
        "rotate_left([1,2,3,4,5],3)\n",
        "rotate_left([1,2,3,4,5],4)\n",
        "rotate_left([1,2,3,4,5],5)"
      ]
    },
    {
      "cell_type": "code",
      "execution_count": null,
      "metadata": {
        "colab": {
          "base_uri": "https://localhost:8080/"
        },
        "id": "fRV9j6V4UtO8",
        "outputId": "c2d877e9-c963-42fa-9d7f-9f83d303223d"
      },
      "outputs": [
        {
          "name": "stdout",
          "output_type": "stream",
          "text": [
            "[5, 1, 2, 3, 4]\n",
            "[4, 5, 1, 2, 3]\n",
            "[3, 4, 5, 1, 2]\n",
            "[2, 3, 4, 5, 1]\n",
            "[1, 2, 3, 4, 5]\n"
          ]
        }
      ],
      "source": [
        "#32. Rotate a list to the right by n positions.\n",
        "def rotate_right(sample_list, n):\n",
        "  length = len(sample_list)\n",
        "  n = n%length\n",
        "\n",
        "  l = 0\n",
        "  r = length - 1\n",
        "\n",
        "  while l<r:\n",
        "    sample_list[l], sample_list[r] = sample_list[r], sample_list[l]\n",
        "    l += 1\n",
        "    r -= 1\n",
        "\n",
        "  l = 0\n",
        "  r = n -1\n",
        "\n",
        "  while l<r:\n",
        "    sample_list[l], sample_list[r] = sample_list[r], sample_list[l]\n",
        "    l += 1\n",
        "    r -= 1\n",
        "\n",
        "  l = n\n",
        "  r = length - 1\n",
        "\n",
        "  while l<r:\n",
        "    sample_list[l], sample_list[r] = sample_list[r], sample_list[l]\n",
        "    l += 1\n",
        "    r -= 1\n",
        "  print(sample_list)\n",
        "\n",
        "rotate_right([1,2,3,4,5],1)\n",
        "rotate_right([1,2,3,4,5],2)\n",
        "rotate_right([1,2,3,4,5],3)\n",
        "rotate_right([1,2,3,4,5],4)\n",
        "rotate_right([1,2,3,4,5],5)"
      ]
    },
    {
      "cell_type": "code",
      "execution_count": null,
      "metadata": {
        "colab": {
          "base_uri": "https://localhost:8080/"
        },
        "id": "Sqf8jM_ZZ-P4",
        "outputId": "83996a3a-6438-4e9c-ee10-36b6df18bcf1"
      },
      "outputs": [
        {
          "name": "stdout",
          "output_type": "stream",
          "text": [
            "[2, 3, 5, 7, 11, 13, 17, 19, 23, 29, 31, 37, 41, 43, 47]\n"
          ]
        }
      ],
      "source": [
        "#33. Create a list of prime numbers up to 50.\n",
        "list_prime = []\n",
        "\n",
        "for i in range(1, 51):\n",
        "  cnt = 0\n",
        "  for j in range(1,int(i**0.5)+1):\n",
        "    if i %j == 0:\n",
        "      cnt += 1\n",
        "    if cnt > 1 or i == 1:\n",
        "      break\n",
        "    if j == int(i**0.5):\n",
        "      list_prime.append(i)\n",
        "\n",
        "print(list_prime)\n",
        "\n"
      ]
    },
    {
      "cell_type": "code",
      "execution_count": null,
      "metadata": {
        "colab": {
          "base_uri": "https://localhost:8080/"
        },
        "id": "gAS06zYEknEv",
        "outputId": "1a59204c-2d4c-43ce-c497-bf630e4d7b96"
      },
      "outputs": [
        {
          "name": "stdout",
          "output_type": "stream",
          "text": [
            "[[0, 1, 2], [3, 4, 5], [6, 7, 8], [9, 10, 11], [12, 13, 14], [15, 16, 17], [18, 19, 20], [21, 22, 23], [24, 25, 26], [27, 28, 29], [30, 31, 32], [33, 34, 35], [36, 37, 38], [39, 40, 41], [42, 43, 44], [45, 46, 47], [48, 49, 50]]\n"
          ]
        }
      ],
      "source": [
        "#34. Split a list into chunks of size n.\n",
        "lst = [i for i in range(51)]\n",
        "chunk_s = 3\n",
        "chunks = [lst[i:i+chunk_s] for i in range(0, len(lst), chunk_s)]\n",
        "print(chunks)\n",
        "\n"
      ]
    },
    {
      "cell_type": "code",
      "execution_count": 92,
      "metadata": {
        "colab": {
          "base_uri": "https://localhost:8080/"
        },
        "id": "Z6_oVUGptDGI",
        "outputId": "b57a37bf-58c2-42b7-8326-69526c0c94fe"
      },
      "outputs": [
        {
          "name": "stdout",
          "output_type": "stream",
          "text": [
            "4\n"
          ]
        }
      ],
      "source": [
        "#35. Find the second largest number in a list.\n",
        "arr = [1,2,3,4,5,2]\n",
        "largest = arr[0]\n",
        "slargest = -1\n",
        "\n",
        "for i in arr:\n",
        "  if i > largest:\n",
        "    slargest = largest\n",
        "    largest = i\n",
        "\n",
        "print(slargest)"
      ]
    },
    {
      "cell_type": "code",
      "execution_count": 93,
      "metadata": {
        "colab": {
          "base_uri": "https://localhost:8080/"
        },
        "id": "voeRaeHJeSVp",
        "outputId": "b7f18ec4-d4b5-4ff1-847d-df3eddf894b2"
      },
      "outputs": [
        {
          "name": "stdout",
          "output_type": "stream",
          "text": [
            "[1, 4, 9, 16, 25]\n"
          ]
        }
      ],
      "source": [
        "#36. Replace every element in a list with its square.\n",
        "arr = [1, -2, 3, -4, 5]\n",
        "arr = [i**2 for i in arr]\n",
        "print(arr)\n"
      ]
    },
    {
      "cell_type": "code",
      "execution_count": 94,
      "metadata": {
        "colab": {
          "base_uri": "https://localhost:8080/"
        },
        "id": "Q0dfqZUyewLo",
        "outputId": "a2273471-65b4-496d-d0cd-85dd3322b51d"
      },
      "outputs": [
        {
          "name": "stdout",
          "output_type": "stream",
          "text": [
            "{'a': 0, 'b': 1, 'c': 2, 'd': 3}\n"
          ]
        }
      ],
      "source": [
        "#37. Convert a list to a dictionary where list elements become keys and their indices become values.\n",
        "arr = ['a', 'b', 'c', 'd']\n",
        "d = {val: idx for idx, val in enumerate(arr)}\n",
        "print(d)\n"
      ]
    },
    {
      "cell_type": "code",
      "execution_count": 95,
      "metadata": {
        "colab": {
          "base_uri": "https://localhost:8080/"
        },
        "id": "TJovxhgle0_V",
        "outputId": "b4f6e587-9e6c-4384-d333-7e079bec0fac"
      },
      "outputs": [
        {
          "name": "stdout",
          "output_type": "stream",
          "text": [
            "[2, 4, 1, 3, 5]\n"
          ]
        }
      ],
      "source": [
        "#38. Shuffle the elements of a list randomly.\n",
        "\n",
        "import random\n",
        "arr = [1, 2, 3, 4, 5]\n",
        "random.shuffle(arr)\n",
        "print(arr)\n"
      ]
    },
    {
      "cell_type": "code",
      "execution_count": 96,
      "metadata": {
        "colab": {
          "base_uri": "https://localhost:8080/"
        },
        "id": "eqJglJA_e5uK",
        "outputId": "962820ff-7cbb-4baf-e4cb-7e99f6abfaab"
      },
      "outputs": [
        {
          "name": "stdout",
          "output_type": "stream",
          "text": [
            "[1, 1, 2, 6, 24, 120, 720, 5040, 40320, 362880]\n"
          ]
        }
      ],
      "source": [
        "#39. Create a list of the first 10 factorial numbers.\n",
        "\n",
        "def fact(n):\n",
        "    return 1 if n == 0 else n * fact(n - 1)\n",
        "\n",
        "lst = [fact(i) for i in range(10)]\n",
        "print(lst)\n"
      ]
    },
    {
      "cell_type": "code",
      "execution_count": 97,
      "metadata": {
        "colab": {
          "base_uri": "https://localhost:8080/"
        },
        "id": "TSuZnmane-ot",
        "outputId": "74facac6-82c9-4061-b0c5-9ff431014c44"
      },
      "outputs": [
        {
          "name": "stdout",
          "output_type": "stream",
          "text": [
            "True\n"
          ]
        }
      ],
      "source": [
        "#40. Check if two lists have at least one element in common.\n",
        "\n",
        "a = [1, 2, 3]\n",
        "b = [4, 5, 2]\n",
        "\n",
        "common = any(i in a for i in b)\n",
        "print(common)\n"
      ]
    },
    {
      "cell_type": "code",
      "execution_count": 98,
      "metadata": {
        "colab": {
          "base_uri": "https://localhost:8080/"
        },
        "id": "hPpm50MjfCye",
        "outputId": "c4ab43e3-816e-4b9a-8ade-ed0a12c44549"
      },
      "outputs": [
        {
          "name": "stdout",
          "output_type": "stream",
          "text": [
            "[]\n"
          ]
        }
      ],
      "source": [
        "#41. Remove all elements from a list.\n",
        "arr = [1, 2, 3, 4]\n",
        "arr.clear()\n",
        "print(arr)\n"
      ]
    },
    {
      "cell_type": "code",
      "execution_count": 99,
      "metadata": {
        "colab": {
          "base_uri": "https://localhost:8080/"
        },
        "id": "ZlNFW5qUfLRy",
        "outputId": "f6266bee-a8ef-4dbb-ef60-fe24bac9c239"
      },
      "outputs": [
        {
          "name": "stdout",
          "output_type": "stream",
          "text": [
            "[0, 2, 0, 4, 0]\n"
          ]
        }
      ],
      "source": [
        "#42. Replace negative numbers in a list with 0.\n",
        "arr = [-1, 2, -3, 4, -5]\n",
        "arr = [0 if i < 0 else i for i in arr]\n",
        "print(arr)\n"
      ]
    },
    {
      "cell_type": "code",
      "execution_count": 100,
      "metadata": {
        "colab": {
          "base_uri": "https://localhost:8080/"
        },
        "id": "Mff3yrmNfPAb",
        "outputId": "13ba4317-70c5-45ea-fad7-62bba8e7256b"
      },
      "outputs": [
        {
          "name": "stdout",
          "output_type": "stream",
          "text": [
            "['Hello,', 'how', 'are', 'you?']\n"
          ]
        }
      ],
      "source": [
        "#43. Convert a string into a list of words.\n",
        "text = \"Hello, how are you?\"\n",
        "words = text.split()\n",
        "print(words)\n"
      ]
    },
    {
      "cell_type": "code",
      "execution_count": 101,
      "metadata": {
        "colab": {
          "base_uri": "https://localhost:8080/"
        },
        "id": "4BC4c-0ufSKi",
        "outputId": "fc390b80-df81-4cde-f882-0b582b2b55fa"
      },
      "outputs": [
        {
          "name": "stdout",
          "output_type": "stream",
          "text": [
            "Hello how are you\n"
          ]
        }
      ],
      "source": [
        "#44. Convert a list of words into a string.\n",
        "words = ['Hello', 'how', 'are', 'you']\n",
        "sentence = ' '.join(words)\n",
        "print(sentence)\n"
      ]
    },
    {
      "cell_type": "code",
      "execution_count": 102,
      "metadata": {
        "colab": {
          "base_uri": "https://localhost:8080/"
        },
        "id": "aqQAnQjBfYRv",
        "outputId": "a7d0ca06-a188-49bf-d8dd-c440453bf227"
      },
      "outputs": [
        {
          "name": "stdout",
          "output_type": "stream",
          "text": [
            "[1, 2, 4, 8, 16, 32, 64, 128, 256, 512]\n"
          ]
        }
      ],
      "source": [
        "#45. Create a list of the first n powers of 2.\n",
        "\n",
        "n = 10\n",
        "powers_of_2 = [2**i for i in range(n)]\n",
        "print(powers_of_2)\n"
      ]
    },
    {
      "cell_type": "code",
      "execution_count": 109,
      "metadata": {
        "colab": {
          "base_uri": "https://localhost:8080/"
        },
        "id": "XTC3evkbff2K",
        "outputId": "aba90138-a243-4478-f003-77c4144cc2e8"
      },
      "outputs": [
        {
          "name": "stdout",
          "output_type": "stream",
          "text": [
            "strawberry\n"
          ]
        }
      ],
      "source": [
        "#46. Find the longest string in a list of strings.\n",
        "del max\n",
        "arr = [\"apple\", \"banana\", \"kiwi\", \"strawberry\"]\n",
        "longest = max(arr, key=len)\n",
        "print(longest)\n"
      ]
    },
    {
      "cell_type": "code",
      "execution_count": 108,
      "metadata": {
        "colab": {
          "base_uri": "https://localhost:8080/"
        },
        "id": "S-DjlIV_fjSL",
        "outputId": "4b1a9ad7-e29b-4cb7-e6dd-707aa6091063"
      },
      "outputs": [
        {
          "name": "stdout",
          "output_type": "stream",
          "text": [
            "kiwi\n"
          ]
        }
      ],
      "source": [
        "#47. Find the shortest string in a list of strings.\n",
        "del min\n",
        "arr = [\"apple\", \"banana\", \"kiwi\", \"strawberry\"]\n",
        "shortest = min(arr, key=len)\n",
        "print(shortest)\n"
      ]
    },
    {
      "cell_type": "code",
      "execution_count": 105,
      "metadata": {
        "colab": {
          "base_uri": "https://localhost:8080/"
        },
        "id": "M5AULTQ0n5zN",
        "outputId": "2a035644-2825-4aad-f0c8-c423f9769d5e"
      },
      "outputs": [
        {
          "name": "stdout",
          "output_type": "stream",
          "text": [
            "[1, 3, 6, 10, 15, 21, 28, 36, 45, 55]\n"
          ]
        }
      ],
      "source": [
        "#48. Create a list of the first n triangular numbers.\n",
        "n = 10\n",
        "triangular_numbers = [(i * (i + 1)) // 2 for i in range(1, n + 1)]\n",
        "print(triangular_numbers)\n"
      ]
    },
    {
      "cell_type": "code",
      "execution_count": 106,
      "metadata": {
        "colab": {
          "base_uri": "https://localhost:8080/"
        },
        "id": "1doIL5GZn-Mo",
        "outputId": "c4fd4e47-1247-47ec-8a1c-d58c4162ef48"
      },
      "outputs": [
        {
          "name": "stdout",
          "output_type": "stream",
          "text": [
            "True\n"
          ]
        }
      ],
      "source": [
        "#49. Check if a list contains another list as a subsequence.\n",
        "def is_subsequence(lst, sub):\n",
        "    return any(lst[i:i+len(sub)] == sub for i in range(len(lst) - len(sub) + 1))\n",
        "\n",
        "lst = [1, 2, 3, 4, 5]\n",
        "sub = [2, 3, 4]\n",
        "print(is_subsequence(lst, sub))\n"
      ]
    },
    {
      "cell_type": "code",
      "execution_count": 107,
      "metadata": {
        "colab": {
          "base_uri": "https://localhost:8080/"
        },
        "id": "q4e9-5seoBs-",
        "outputId": "976d0859-e1cb-4c5b-e0e4-bc209f6c6a6e"
      },
      "outputs": [
        {
          "name": "stdout",
          "output_type": "stream",
          "text": [
            "[1, 4, 3, 2, 5]\n"
          ]
        }
      ],
      "source": [
        "#50. Swap two elements in a list by their indices.\n",
        "arr = [1, 2, 3, 4, 5]\n",
        "i, j = 1, 3  # Swap elements at index 1 and 3\n",
        "arr[i], arr[j] = arr[j], arr[i]\n",
        "print(arr)\n"
      ]
    },
    {
      "cell_type": "markdown",
      "metadata": {
        "id": "kfusinSSpiT4"
      },
      "source": [
        "Tuple based practice Problem"
      ]
    },
    {
      "cell_type": "code",
      "execution_count": 1,
      "metadata": {
        "id": "v8wNSnC6pdFh"
      },
      "outputs": [
        {
          "name": "stdout",
          "output_type": "stream",
          "text": [
            "range(0, 6)\n"
          ]
        }
      ],
      "source": [
        "#1. Create a tuple with integers from 1 to 5.\n",
        "tup = (range(6))\n",
        "print(tup)"
      ]
    },
    {
      "cell_type": "code",
      "execution_count": 2,
      "metadata": {
        "id": "eoRgXbAeoF93"
      },
      "outputs": [
        {
          "name": "stdout",
          "output_type": "stream",
          "text": [
            "2\n"
          ]
        }
      ],
      "source": [
        "#2. Access the third element of a tuple.\n",
        "print(tup[2])"
      ]
    },
    {
      "cell_type": "code",
      "execution_count": 3,
      "metadata": {},
      "outputs": [
        {
          "name": "stdout",
          "output_type": "stream",
          "text": [
            "length = 5\n"
          ]
        }
      ],
      "source": [
        "#3.Find the length of a tuple without using the len() function.\n",
        "cnt = 0\n",
        "tup = (1, 2, 3, 4, 5)\n",
        "for i in tup:\n",
        "    cnt += 1\n",
        "\n",
        "print(f\"length = {cnt}\")"
      ]
    },
    {
      "cell_type": "code",
      "execution_count": 4,
      "metadata": {},
      "outputs": [
        {
          "name": "stdout",
          "output_type": "stream",
          "text": [
            "{1: 2, 2: 2, 3: 1, 4: 2, 5: 1, 6: 2, 7: 1}\n"
          ]
        }
      ],
      "source": [
        "#4. Count the occurences of an element in a tuple.\n",
        "tup = (1, 2, 3, 4, 5, 6, 2, 1, 4, 6, 7)\n",
        "\n",
        "freq = {}\n",
        "\n",
        "for i in tup:\n",
        "    if i in freq.keys():\n",
        "        freq[i] +=1\n",
        "    else:\n",
        "        freq[i] = 1\n",
        "\n",
        "print(freq)\n",
        "\n"
      ]
    },
    {
      "cell_type": "code",
      "execution_count": 8,
      "metadata": {},
      "outputs": [
        {
          "data": {
            "text/plain": [
              "1"
            ]
          },
          "execution_count": 8,
          "metadata": {},
          "output_type": "execute_result"
        }
      ],
      "source": [
        "#5. Find the index of the first occurence of an element in a tuple.\n",
        "tup = (1, 2, 3, 4, 5, 6, 2, 1, 4, 6, 7)\n",
        "tup.index(2)"
      ]
    },
    {
      "cell_type": "code",
      "execution_count": 9,
      "metadata": {},
      "outputs": [
        {
          "data": {
            "text/plain": [
              "True"
            ]
          },
          "execution_count": 9,
          "metadata": {},
          "output_type": "execute_result"
        }
      ],
      "source": [
        "#6. Check if an element exists in a tuple.\n",
        "tup = (1, 2, 3, 4, 5, 6, 2, 1, 4, 6, 7)\n",
        "1 in tup"
      ]
    },
    {
      "cell_type": "code",
      "execution_count": 10,
      "metadata": {},
      "outputs": [
        {
          "name": "stdout",
          "output_type": "stream",
          "text": [
            "[1, 2, 3, 4, 5]\n"
          ]
        }
      ],
      "source": [
        "#7. Convert a tuple to a list\n",
        "a = (1, 2, 3, 4, 5)\n",
        "print(list(a))"
      ]
    },
    {
      "cell_type": "code",
      "execution_count": 11,
      "metadata": {},
      "outputs": [
        {
          "name": "stdout",
          "output_type": "stream",
          "text": [
            "(1, 2, 3, 4)\n"
          ]
        }
      ],
      "source": [
        "#8. Convert a list to a tuple.\n",
        "lst = [1, 2, 3, 4]\n",
        "print(tuple(lst))"
      ]
    },
    {
      "cell_type": "code",
      "execution_count": 13,
      "metadata": {},
      "outputs": [
        {
          "name": "stdout",
          "output_type": "stream",
          "text": [
            "1 2 3\n"
          ]
        }
      ],
      "source": [
        "#9. Unpack the elements of a tuple into variables.\n",
        "a, b, c = (1,2,3)\n",
        "print(a,b,c)"
      ]
    },
    {
      "cell_type": "code",
      "execution_count": 15,
      "metadata": {},
      "outputs": [
        {
          "name": "stdout",
          "output_type": "stream",
          "text": [
            "(2, 4, 6, 8, 10)\n"
          ]
        }
      ],
      "source": [
        "#10. Create a tuple of a even numbers from 1 to 10.\n",
        "a = tuple(i for i in range(1,11) if i %2 == 0)\n",
        "print(a)"
      ]
    },
    {
      "cell_type": "code",
      "execution_count": 16,
      "metadata": {},
      "outputs": [
        {
          "name": "stdout",
          "output_type": "stream",
          "text": [
            "(1, 3, 5, 7, 9)\n"
          ]
        }
      ],
      "source": [
        "#11. Create a tuple of odd numbers from 1 to 10.\n",
        "a = tuple(i for i in range(1,11) if i%2!=0)\n",
        "print(a)"
      ]
    },
    {
      "cell_type": "code",
      "execution_count": 17,
      "metadata": {},
      "outputs": [
        {
          "name": "stdout",
          "output_type": "stream",
          "text": [
            "(1, 2, 3, 4, 5, 6)\n"
          ]
        }
      ],
      "source": [
        "#12. Concatenate two tuples.\n",
        "tup1 = (1, 2, 3)\n",
        "tup2 = (4, 5, 6)\n",
        "\n",
        "print(tup1 + tup2)"
      ]
    },
    {
      "cell_type": "code",
      "execution_count": 18,
      "metadata": {},
      "outputs": [
        {
          "data": {
            "text/plain": [
              "(1, 2, 3, 1, 2, 3, 1, 2, 3)"
            ]
          },
          "execution_count": 18,
          "metadata": {},
          "output_type": "execute_result"
        }
      ],
      "source": [
        "#13. Repeat a tuple three times.\n",
        "(1,2,3)*3"
      ]
    },
    {
      "cell_type": "code",
      "execution_count": 21,
      "metadata": {},
      "outputs": [
        {
          "name": "stdout",
          "output_type": "stream",
          "text": [
            "Not Empty\n"
          ]
        }
      ],
      "source": [
        "#14. Check if a tuple is empty.\n",
        "a = (1,2)\n",
        "if a == ():\n",
        "    print (\"Empty\")\n",
        "\n",
        "else:\n",
        "    print(\"Not Empty\")"
      ]
    },
    {
      "cell_type": "code",
      "execution_count": 22,
      "metadata": {},
      "outputs": [
        {
          "name": "stdout",
          "output_type": "stream",
          "text": [
            "((1, 2, 3), (4, 4, 5))\n"
          ]
        }
      ],
      "source": [
        "#15. Create a nested tuple.\n",
        "\n",
        "a = ((1,2,3), (4,4,5))\n",
        "print(a)"
      ]
    },
    {
      "cell_type": "code",
      "execution_count": 24,
      "metadata": {},
      "outputs": [
        {
          "name": "stdout",
          "output_type": "stream",
          "text": [
            "3\n"
          ]
        }
      ],
      "source": [
        "#16. Access the first element of a nested tuple.\n",
        "print(a[0][2])"
      ]
    },
    {
      "cell_type": "code",
      "execution_count": 25,
      "metadata": {},
      "outputs": [
        {
          "name": "stdout",
          "output_type": "stream",
          "text": [
            "<class 'tuple'>\n"
          ]
        }
      ],
      "source": [
        "#17. Create a tuple with a single element.\n",
        "a = (1,)\n",
        "print(type(a))"
      ]
    },
    {
      "cell_type": "code",
      "execution_count": 26,
      "metadata": {},
      "outputs": [
        {
          "name": "stdout",
          "output_type": "stream",
          "text": [
            "False\n"
          ]
        }
      ],
      "source": [
        "#18. Compare two tuples.\n",
        "tup1 = (1,2)\n",
        "tup2 = (2,3)\n",
        "\n",
        "print(tup1==tup2)"
      ]
    },
    {
      "cell_type": "code",
      "execution_count": 28,
      "metadata": {},
      "outputs": [
        {
          "ename": "NameError",
          "evalue": "name 'tup1' is not defined",
          "output_type": "error",
          "traceback": [
            "\u001b[1;31m---------------------------------------------------------------------------\u001b[0m",
            "\u001b[1;31mNameError\u001b[0m                                 Traceback (most recent call last)",
            "Cell \u001b[1;32mIn[28], line 4\u001b[0m\n\u001b[0;32m      2\u001b[0m tup1 \u001b[38;5;241m=\u001b[39m (\u001b[38;5;241m1\u001b[39m,\u001b[38;5;241m2\u001b[39m,\u001b[38;5;241m3\u001b[39m)\n\u001b[0;32m      3\u001b[0m \u001b[38;5;28;01mdel\u001b[39;00m tup1\n\u001b[1;32m----> 4\u001b[0m \u001b[38;5;28mprint\u001b[39m(\u001b[43mtup1\u001b[49m)\n",
            "\u001b[1;31mNameError\u001b[0m: name 'tup1' is not defined"
          ]
        }
      ],
      "source": [
        "#19. Delete a tuple\n",
        "tup1 = (1,2,3)\n",
        "del tup1\n",
        "print(tup1)"
      ]
    },
    {
      "cell_type": "code",
      "execution_count": 30,
      "metadata": {},
      "outputs": [
        {
          "data": {
            "text/plain": [
              "(2, 3)"
            ]
          },
          "execution_count": 30,
          "metadata": {},
          "output_type": "execute_result"
        }
      ],
      "source": [
        "#20. Slice a tuple.\n",
        "tup1 = (1,2,3,4)\n",
        "tup1[1:3]"
      ]
    },
    {
      "cell_type": "code",
      "execution_count": 31,
      "metadata": {},
      "outputs": [
        {
          "data": {
            "text/plain": [
              "5"
            ]
          },
          "execution_count": 31,
          "metadata": {},
          "output_type": "execute_result"
        }
      ],
      "source": [
        "#21. Find the maximum value in a tuple.\n",
        "a = (1,2,3,4,5)\n",
        "max(a)"
      ]
    },
    {
      "cell_type": "code",
      "execution_count": 33,
      "metadata": {},
      "outputs": [
        {
          "data": {
            "text/plain": [
              "-1"
            ]
          },
          "execution_count": 33,
          "metadata": {},
          "output_type": "execute_result"
        }
      ],
      "source": [
        "#22. Find the minimum value in a tuple.\n",
        "a = (1,2,3, -1)\n",
        "min(a)"
      ]
    },
    {
      "cell_type": "code",
      "execution_count": 37,
      "metadata": {},
      "outputs": [
        {
          "data": {
            "text/plain": [
              "('a', 'b', 'c', 'd')"
            ]
          },
          "execution_count": 37,
          "metadata": {},
          "output_type": "execute_result"
        }
      ],
      "source": [
        "#23. Convert a string to a tuple of characters.\n",
        "tuple(\"abcd\")"
      ]
    },
    {
      "cell_type": "code",
      "execution_count": 34,
      "metadata": {},
      "outputs": [
        {
          "data": {
            "text/plain": [
              "'abcd'"
            ]
          },
          "execution_count": 34,
          "metadata": {},
          "output_type": "execute_result"
        }
      ],
      "source": [
        "#24. Convert a tuple of characters to a string.\n",
        "tup1 = ('a', 'b', 'c', 'd')\n",
        "''.join(tup1)"
      ]
    },
    {
      "cell_type": "code",
      "execution_count": 36,
      "metadata": {},
      "outputs": [
        {
          "name": "stdout",
          "output_type": "stream",
          "text": [
            "(1, 'a', [1, 2, 3], {'a': 1})\n"
          ]
        }
      ],
      "source": [
        "#25. create a tuple from multiple data types.\n",
        "tup1 = (1, 'a', [1,2,3], {'a' : 1})\n",
        "print(tup1)"
      ]
    },
    {
      "cell_type": "code",
      "execution_count": 38,
      "metadata": {},
      "outputs": [
        {
          "data": {
            "text/plain": [
              "True"
            ]
          },
          "execution_count": 38,
          "metadata": {},
          "output_type": "execute_result"
        }
      ],
      "source": [
        "#26. Check if two tuples are identical.\n",
        "tup1 = (1,2,3)\n",
        "tup2 = (1,2,3)\n",
        "tup1 == tup2"
      ]
    },
    {
      "cell_type": "code",
      "execution_count": 42,
      "metadata": {},
      "outputs": [
        {
          "name": "stdout",
          "output_type": "stream",
          "text": [
            "[1, 1, 2, 3, 4, 5]\n"
          ]
        }
      ],
      "source": [
        "#27. Sort the elements of a tuple.\n",
        "tup1 = (1,4,2,3,1,5)\n",
        "tup_sorted = sorted(tup1)\n",
        "print(tup_sorted)"
      ]
    },
    {
      "cell_type": "code",
      "execution_count": 44,
      "metadata": {},
      "outputs": [
        {
          "name": "stdout",
          "output_type": "stream",
          "text": [
            "('1', '2', '3', '4')\n"
          ]
        }
      ],
      "source": [
        "#28. Convert a tuple of integers to a tuple of strings.\n",
        "a = (1,2,3,4)\n",
        "a = tuple(str(i) for i in a)\n",
        "print(a)"
      ]
    },
    {
      "cell_type": "code",
      "execution_count": 45,
      "metadata": {},
      "outputs": [
        {
          "name": "stdout",
          "output_type": "stream",
          "text": [
            "(1, 2, 3, 4)\n"
          ]
        }
      ],
      "source": [
        "#29. Convert a tuple of strings to a tuple of integers. \n",
        "a = ('1', '2', '3', '4')\n",
        "a = tuple(int(i) for i in a)\n",
        "print(a)"
      ]
    },
    {
      "cell_type": "code",
      "execution_count": 46,
      "metadata": {},
      "outputs": [
        {
          "name": "stdout",
          "output_type": "stream",
          "text": [
            "(1, 2, 3, 4, 5, 6)\n"
          ]
        }
      ],
      "source": [
        "#30. Merge two tuples.\n",
        "tup1 = (1,2,3)\n",
        "tup2 = (4,5,6)\n",
        "\n",
        "print(tup1+tup2)"
      ]
    },
    {
      "cell_type": "code",
      "execution_count": 47,
      "metadata": {},
      "outputs": [
        {
          "name": "stdout",
          "output_type": "stream",
          "text": [
            "(1, 2, 3, 3, 4, 5)\n"
          ]
        }
      ],
      "source": [
        "#31. Flatten a nested tuple\n",
        "tup1 = ((1,2,3), (3,4,5))\n",
        "\n",
        "print(tup1[0] + tup1[1])"
      ]
    },
    {
      "cell_type": "code",
      "execution_count": 8,
      "metadata": {},
      "outputs": [
        {
          "name": "stdout",
          "output_type": "stream",
          "text": [
            "(1, 2, 3, 5, 7)\n"
          ]
        }
      ],
      "source": [
        "#32. Create a tuple of the first 5 prime numbers.\n",
        "tup1 = []\n",
        "\n",
        "temp = 1\n",
        "\n",
        "while len(tup1)<5:\n",
        "    cnt = 0\n",
        "    for i in range(1,int(temp**0.5)+1):\n",
        "        if temp % i == 0:\n",
        "            cnt += 1\n",
        "    if cnt < 2:\n",
        "        tup1.append(temp)\n",
        "    temp += 1\n",
        "\n",
        "tup1 = tuple(tup1)\n",
        "print(tup1)"
      ]
    },
    {
      "cell_type": "code",
      "execution_count": 9,
      "metadata": {},
      "outputs": [
        {
          "name": "stdout",
          "output_type": "stream",
          "text": [
            "Palindrome\n"
          ]
        }
      ],
      "source": [
        "#33. Check if a tuple is a palindrome.\n",
        "tup1 = (1,2,1)\n",
        "\n",
        "if tup1 == tup1[::-1]:\n",
        "    print(\"Palindrome\")"
      ]
    },
    {
      "cell_type": "code",
      "execution_count": 11,
      "metadata": {},
      "outputs": [
        {
          "name": "stdout",
          "output_type": "stream",
          "text": [
            "(1, 4, 9, 16, 25)\n"
          ]
        }
      ],
      "source": [
        "#34. Create a tuple of squares of numbers from 1 to 5.\n",
        "\n",
        "tup1 = tuple(i**2 for i in range(1, 6))\n",
        "print(tup1)"
      ]
    },
    {
      "cell_type": "code",
      "execution_count": 12,
      "metadata": {},
      "outputs": [
        {
          "name": "stdout",
          "output_type": "stream",
          "text": [
            "(2, 4, 6, 8)\n"
          ]
        }
      ],
      "source": [
        "#35. Filter out all even numbers from a tuple.\n",
        "tup1 = (1,2,3,4,5,6,7,8)\n",
        "\n",
        "tup1_even = tuple(i for i in tup1 if i%2 == 0)\n",
        "print(tup1_even)"
      ]
    },
    {
      "cell_type": "code",
      "execution_count": 15,
      "metadata": {},
      "outputs": [
        {
          "name": "stdout",
          "output_type": "stream",
          "text": [
            "(2, 4, 6)\n"
          ]
        }
      ],
      "source": [
        "#36. Multiply all elements in a tuple by 2.\n",
        "tup1 = (1,2,3)\n",
        "tup1 = tuple(2*i for i in tup1)\n",
        "print(tup1)"
      ]
    },
    {
      "cell_type": "code",
      "execution_count": 17,
      "metadata": {},
      "outputs": [
        {
          "name": "stdout",
          "output_type": "stream",
          "text": [
            "(53, 35, 43, 30, 75)\n"
          ]
        }
      ],
      "source": [
        "#37. Create a tuple of random numbers.\n",
        "import random\n",
        "\n",
        "tup1 = tuple(random.randint(1,100) for i in range(5))\n",
        "\n",
        "print(tup1)"
      ]
    },
    {
      "cell_type": "code",
      "execution_count": 23,
      "metadata": {},
      "outputs": [
        {
          "name": "stdout",
          "output_type": "stream",
          "text": [
            "Sorted\n"
          ]
        }
      ],
      "source": [
        "#38. Check if a tuple is sorted.\n",
        "tup1 = (1,2,3)\n",
        "\n",
        "if tup1 == tuple(sorted(tup1)):\n",
        "    print(\"Sorted\")\n",
        "else:\n",
        "    print(\"Unsorted\")"
      ]
    },
    {
      "cell_type": "code",
      "execution_count": 27,
      "metadata": {},
      "outputs": [
        {
          "name": "stdout",
          "output_type": "stream",
          "text": [
            "(2, 3, 4, 5, 1)\n",
            "(3, 4, 5, 1, 2)\n"
          ]
        }
      ],
      "source": [
        "#39. Rotate a tuple to the left by n positions.\n",
        "tup1 = (1,2,3,4,5)\n",
        "\n",
        "def rotate_left(tup1, n):\n",
        "\n",
        "    lst = list(tup1)\n",
        "\n",
        "    i = 0\n",
        "    l = len(lst) -1\n",
        "\n",
        "    while i<l:\n",
        "        lst[i], lst[l] = lst[l], lst[i]\n",
        "        i += 1\n",
        "        l -= 1\n",
        "\n",
        "    i = 0\n",
        "    l = len(lst) - n - 1\n",
        "\n",
        "    while i<l:\n",
        "        lst[i], lst[l] = lst[l], lst[i]\n",
        "        i += 1\n",
        "        l -= 1\n",
        "\n",
        "    i = len(lst) - n\n",
        "    l = len(lst) - 1\n",
        "    while i<l:\n",
        "        lst[i], lst[l] = lst[l], lst[i]\n",
        "        i += 1\n",
        "        l -= 1\n",
        "\n",
        "    return tuple(lst)\n",
        "\n",
        "print(rotate_left(tup1, 1))\n",
        "print(rotate_left(tup1, 2))\n",
        "\n"
      ]
    },
    {
      "cell_type": "code",
      "execution_count": 29,
      "metadata": {},
      "outputs": [
        {
          "name": "stdout",
          "output_type": "stream",
          "text": [
            "(5, 1, 2, 3, 4)\n",
            "(4, 5, 1, 2, 3)\n"
          ]
        }
      ],
      "source": [
        "#40. Rotate a tuple to the right by n positions.\n",
        "tup1 = (1,2,3,4,5)\n",
        "\n",
        "def rotate_right(tup1, n):\n",
        "    lst = list(tup1)\n",
        "\n",
        "    i = 0\n",
        "    l = len(lst) -1\n",
        "\n",
        "    while i<l:\n",
        "        lst[i], lst[l] = lst[l], lst[i]\n",
        "\n",
        "        i += 1\n",
        "        l -= 1\n",
        "\n",
        "    i = 0\n",
        "    l = n - 1\n",
        "\n",
        "    while i<l:\n",
        "        lst[i], lst[l] = lst[l], lst[i]\n",
        "        i += 1\n",
        "        l -= 1\n",
        "\n",
        "\n",
        "    i = n\n",
        "    l = len(lst) - 1\n",
        "    while i<l:\n",
        "        lst[i], lst[l] = lst[l], lst[i]\n",
        "        i += 1\n",
        "        l -= 1\n",
        "\n",
        "    return tuple(lst)\n",
        "\n",
        "\n",
        "print(rotate_right(tup1, 1))\n",
        "print(rotate_right(tup1, 2))\n"
      ]
    },
    {
      "cell_type": "code",
      "execution_count": 31,
      "metadata": {},
      "outputs": [
        {
          "name": "stdout",
          "output_type": "stream",
          "text": [
            "(0, 1, 1, 2, 3)\n"
          ]
        }
      ],
      "source": [
        "#41. Create a tuple of the first 5 fibonacci numbers.\n",
        "a = 0\n",
        "b = 1\n",
        "lst = [a,b]\n",
        "for i in range(3):\n",
        "    a, b = b, a+b\n",
        "    lst.append(b)\n",
        "print(tuple(lst))\n"
      ]
    },
    {
      "cell_type": "code",
      "execution_count": null,
      "metadata": {},
      "outputs": [],
      "source": [
        "# 42. Create a tuple from user input\n",
        "\n",
        "tup = tuple(input(\"Enter an element of tuple\"))\n",
        "print(tup)"
      ]
    },
    {
      "cell_type": "code",
      "execution_count": 1,
      "metadata": {},
      "outputs": [
        {
          "name": "stdout",
          "output_type": "stream",
          "text": [
            "(1, 3, 2)\n"
          ]
        }
      ],
      "source": [
        "#43. Swap two elements in a tuple.\n",
        "a = (1,2,3)\n",
        "\n",
        "b = list(a)\n",
        "b[1], b[2] = b[2], b[1]\n",
        "\n",
        "print(tuple(b))"
      ]
    },
    {
      "cell_type": "code",
      "execution_count": 2,
      "metadata": {},
      "outputs": [
        {
          "data": {
            "text/plain": [
              "(4, 3, 2, 1)"
            ]
          },
          "execution_count": 2,
          "metadata": {},
          "output_type": "execute_result"
        }
      ],
      "source": [
        "#44. Reverse the elements of a tuple\n",
        "(1, 2, 3, 4)[::-1]"
      ]
    },
    {
      "cell_type": "code",
      "execution_count": 3,
      "metadata": {},
      "outputs": [
        {
          "name": "stdout",
          "output_type": "stream",
          "text": [
            "(1, 2, 4, 8, 16)\n"
          ]
        }
      ],
      "source": [
        "#45. Create a tuple of the first n powers of 2.\n",
        "n = 5\n",
        "\n",
        "a = tuple(2**i for i in range(n))\n",
        "print(a)"
      ]
    },
    {
      "cell_type": "code",
      "execution_count": 1,
      "metadata": {},
      "outputs": [
        {
          "name": "stdout",
          "output_type": "stream",
          "text": [
            "abcedf is the maximum length of 6\n"
          ]
        }
      ],
      "source": [
        "#46. Find the longest string in a tuple of strings.\n",
        "a = ('abc', 'abcd', 'abcde', 'abcedf', 'ab', 'a')\n",
        "max_len = 0\n",
        "max_str = \"\"\n",
        "\n",
        "for i in a:\n",
        "    if max_len < len(i):\n",
        "        max_len = len(i)\n",
        "        max_str = i\n",
        "\n",
        "print(f\"{max_str} is the maximum length of {max_len}\")"
      ]
    },
    {
      "cell_type": "code",
      "execution_count": 2,
      "metadata": {},
      "outputs": [
        {
          "name": "stdout",
          "output_type": "stream",
          "text": [
            "a is the smallest string of length 1\n"
          ]
        }
      ],
      "source": [
        "#47. Find the shortest string in a tuple of strings\n",
        "a = ('abc', 'abcd', 'abcde', 'abcedf', 'ab', 'a')\n",
        "\n",
        "min_len = float(\"inf\")\n",
        "\n",
        "min_str = \"\"\n",
        "\n",
        "for i in a:\n",
        "    if min_len > len(i):\n",
        "        min_len = len(i)\n",
        "        min_str = i\n",
        "\n",
        "print(f\"{min_str} is the smallest string of length {min_len}\")"
      ]
    },
    {
      "cell_type": "code",
      "execution_count": 5,
      "metadata": {},
      "outputs": [
        {
          "name": "stdout",
          "output_type": "stream",
          "text": [
            "(1, 3, 6, 10, 15, 21, 28, 36, 45, 55)\n"
          ]
        }
      ],
      "source": [
        "#48. Check if tuple of the first 'n' triangular numbers.\n",
        "\n",
        "triangular_numbers = tuple(n*(n+1)//2 for n in range(1,11))\n",
        "\n",
        "print(triangular_numbers)\n"
      ]
    },
    {
      "cell_type": "code",
      "execution_count": 8,
      "metadata": {},
      "outputs": [
        {
          "name": "stdout",
          "output_type": "stream",
          "text": [
            "Contains nested tuple\n"
          ]
        }
      ],
      "source": [
        "#49. Check if a tuple contains another tuple as a subsequence.\n",
        "a = ((1,), (2,3), (4,5), 6, 7)\n",
        "\n",
        "\n",
        "for i in a:\n",
        "    if isinstance(i, tuple):\n",
        "        print(\"Contains nested tuple\")\n",
        "        break\n",
        "    \n"
      ]
    },
    {
      "cell_type": "code",
      "execution_count": 11,
      "metadata": {},
      "outputs": [
        {
          "name": "stdout",
          "output_type": "stream",
          "text": [
            "(0, 1, 0, 1, 0, 1, 0, 1, 0, 1)\n"
          ]
        }
      ],
      "source": [
        "# 50. Create a tuple of altering 1s and 0s of length 'n'\n",
        "n = 10\n",
        "altering_tup = tuple( 0 if i%2==0 else 1 for i in range(n))\n",
        "print(altering_tup)\n",
        "    \n"
      ]
    },
    {
      "cell_type": "markdown",
      "metadata": {},
      "source": [
        "Set based Practice problem"
      ]
    },
    {
      "cell_type": "code",
      "execution_count": 12,
      "metadata": {},
      "outputs": [
        {
          "name": "stdout",
          "output_type": "stream",
          "text": [
            "{range(0, 6)}\n",
            "<class 'set'>\n"
          ]
        }
      ],
      "source": [
        "#1. Create a set with integers from 1 to 5.\n",
        "res = {range(6)}\n",
        "print(res)\n",
        "print(type(res))"
      ]
    },
    {
      "cell_type": "code",
      "execution_count": 13,
      "metadata": {},
      "outputs": [
        {
          "name": "stdout",
          "output_type": "stream",
          "text": [
            "{1, 2, 3, 4, 6}\n"
          ]
        }
      ],
      "source": [
        "#2. Add an element to a set.\n",
        "a = {1, 2, 3, 4}\n",
        "\n",
        "a.add(6)\n",
        "print(a)"
      ]
    },
    {
      "cell_type": "code",
      "execution_count": 14,
      "metadata": {},
      "outputs": [
        {
          "name": "stdout",
          "output_type": "stream",
          "text": [
            "{3, 4, 5}\n"
          ]
        }
      ],
      "source": [
        "#3. Remove an element from a set.\n",
        "a = {1,2,3,4,5}\n",
        "a.remove(1)\n",
        "a.discard(2)\n",
        "\n",
        "print(a)"
      ]
    },
    {
      "cell_type": "code",
      "execution_count": 15,
      "metadata": {},
      "outputs": [
        {
          "data": {
            "text/plain": [
              "True"
            ]
          },
          "execution_count": 15,
          "metadata": {},
          "output_type": "execute_result"
        }
      ],
      "source": [
        "#4. Check if an elemetn exists in a set.\n",
        "a = {1, 2, 3, 4, 5}\n",
        "\n",
        "1 in a"
      ]
    },
    {
      "cell_type": "code",
      "execution_count": 16,
      "metadata": {},
      "outputs": [
        {
          "name": "stdout",
          "output_type": "stream",
          "text": [
            "5\n"
          ]
        }
      ],
      "source": [
        "#5. Find the length of a set without using the len() function.\n",
        "a = {1, 2, 3, 4, 5}\n",
        "\n",
        "length = sum(1 for _ in a)\n",
        "\n",
        "print(length)"
      ]
    },
    {
      "cell_type": "code",
      "execution_count": 17,
      "metadata": {},
      "outputs": [
        {
          "name": "stdout",
          "output_type": "stream",
          "text": [
            "set()\n"
          ]
        }
      ],
      "source": [
        "#6. Clear all elements from a set.\n",
        "a = {1, 2, 3, 4}\n",
        "\n",
        "a.clear()\n",
        "\n",
        "print(a)"
      ]
    },
    {
      "cell_type": "code",
      "execution_count": 19,
      "metadata": {},
      "outputs": [
        {
          "name": "stdout",
          "output_type": "stream",
          "text": [
            "{2, 4, 6, 8, 10}\n"
          ]
        }
      ],
      "source": [
        "#7. Create a set of even numbers from 1 to 10.\n",
        "res = {i for i in range(1, 11) if i%2 == 0}\n",
        "print(res)"
      ]
    },
    {
      "cell_type": "code",
      "execution_count": 20,
      "metadata": {},
      "outputs": [
        {
          "name": "stdout",
          "output_type": "stream",
          "text": [
            "{1, 3, 5, 7, 9}\n"
          ]
        }
      ],
      "source": [
        "#8. Create a set of odd numbers from 1 to 10.\n",
        "res = {i for i in range(1,11) if i%2 != 0}\n",
        "print(res)"
      ]
    },
    {
      "cell_type": "code",
      "execution_count": 21,
      "metadata": {},
      "outputs": [
        {
          "data": {
            "text/plain": [
              "{1, 2, 3, 4, 5, 6}"
            ]
          },
          "execution_count": 21,
          "metadata": {},
          "output_type": "execute_result"
        }
      ],
      "source": [
        "#9. Find the union of two sets.\n",
        "a = {1, 2, 3, 4}\n",
        "b = {5, 6, 1}\n",
        "a.union(b)\n",
        "\n"
      ]
    },
    {
      "cell_type": "code",
      "execution_count": null,
      "metadata": {},
      "outputs": [
        {
          "data": {
            "text/plain": [
              "{1}"
            ]
          },
          "execution_count": 24,
          "metadata": {},
          "output_type": "execute_result"
        }
      ],
      "source": [
        "#10. Find the intersection of two sets.\n",
        "a.intersection(b) #a & b"
      ]
    },
    {
      "cell_type": "code",
      "execution_count": null,
      "metadata": {},
      "outputs": [
        {
          "data": {
            "text/plain": [
              "{2, 3, 4}"
            ]
          },
          "execution_count": 25,
          "metadata": {},
          "output_type": "execute_result"
        }
      ],
      "source": [
        "#11. Find the differnece between two sets.\n",
        "a.difference(b) # a - b"
      ]
    },
    {
      "cell_type": "code",
      "execution_count": 27,
      "metadata": {},
      "outputs": [
        {
          "data": {
            "text/plain": [
              "False"
            ]
          },
          "execution_count": 27,
          "metadata": {},
          "output_type": "execute_result"
        }
      ],
      "source": [
        "#12. Check if a set is a subset of another set.\n",
        "a.issubset(b)"
      ]
    },
    {
      "cell_type": "code",
      "execution_count": 28,
      "metadata": {},
      "outputs": [
        {
          "data": {
            "text/plain": [
              "False"
            ]
          },
          "execution_count": 28,
          "metadata": {},
          "output_type": "execute_result"
        }
      ],
      "source": [
        "#13. Check if a set is a superset of another set.\n",
        "a.issuperset(b)"
      ]
    },
    {
      "cell_type": "code",
      "execution_count": 29,
      "metadata": {},
      "outputs": [
        {
          "name": "stdout",
          "output_type": "stream",
          "text": [
            "{1, 2, 3, 4}\n"
          ]
        }
      ],
      "source": [
        "#14. Create a set from a list.\n",
        "print(set([1, 2, 3, 4]))"
      ]
    },
    {
      "cell_type": "code",
      "execution_count": 30,
      "metadata": {},
      "outputs": [
        {
          "name": "stdout",
          "output_type": "stream",
          "text": [
            "[1, 2, 3, 4]\n"
          ]
        }
      ],
      "source": [
        "#15. Convert a set to a list.\n",
        "a = {1, 2, 3, 4}\n",
        "print(list(a))"
      ]
    },
    {
      "cell_type": "code",
      "execution_count": 55,
      "metadata": {},
      "outputs": [
        {
          "name": "stdout",
          "output_type": "stream",
          "text": [
            "{1, 2, 4}\n"
          ]
        }
      ],
      "source": [
        "#16. Remove a random element from a set.\n",
        "import random\n",
        "\n",
        "a = {1, 2, 3, 4}\n",
        "random_element = random.sample(sorted(a), 1)[0]\n",
        "a.remove(random_element)\n",
        "print(a)\n",
        "\n"
      ]
    },
    {
      "cell_type": "code",
      "execution_count": 56,
      "metadata": {},
      "outputs": [
        {
          "data": {
            "text/plain": [
              "1"
            ]
          },
          "execution_count": 56,
          "metadata": {},
          "output_type": "execute_result"
        }
      ],
      "source": [
        "# 17. Pop an element from a set.\n",
        "{1, 2, 3, 4, 5}.pop()"
      ]
    },
    {
      "cell_type": "code",
      "execution_count": 57,
      "metadata": {},
      "outputs": [
        {
          "data": {
            "text/plain": [
              "False"
            ]
          },
          "execution_count": 57,
          "metadata": {},
          "output_type": "execute_result"
        }
      ],
      "source": [
        "#18. Check if two sets have no elements in a common.\n",
        "a = {1, 2, 3}\n",
        "b = {3, 4, 5}\n",
        "a.isdisjoint(b)"
      ]
    },
    {
      "cell_type": "code",
      "execution_count": 58,
      "metadata": {},
      "outputs": [
        {
          "data": {
            "text/plain": [
              "{1, 2, 3, 4, 6, 7, 8}"
            ]
          },
          "execution_count": 58,
          "metadata": {},
          "output_type": "execute_result"
        }
      ],
      "source": [
        "#19. Find the symmetric difference between two sets.\n",
        "a = {1, 2, 3, 4, 5}\n",
        "b = {5, 6, 7, 8}\n",
        "a.symmetric_difference(b)"
      ]
    },
    {
      "cell_type": "code",
      "execution_count": 60,
      "metadata": {},
      "outputs": [
        {
          "name": "stdout",
          "output_type": "stream",
          "text": [
            "{1, 2, 3, 4, 5, 6, 7}\n"
          ]
        }
      ],
      "source": [
        "#20. Update a set with elements from another set.\n",
        "a = {1,2,3,4}\n",
        "b = {4,5,6,7}\n",
        "\n",
        "a.update(b)\n",
        "print(a)"
      ]
    },
    {
      "cell_type": "code",
      "execution_count": 81,
      "metadata": {},
      "outputs": [
        {
          "name": "stdout",
          "output_type": "stream",
          "text": [
            "{1, 2, 3, 5, 7}\n"
          ]
        }
      ],
      "source": [
        "#21. Create a set of the first 5 prime numbers.\n",
        "\n",
        "num = 1\n",
        "res = set()\n",
        "while len(res) < 5:\n",
        "    cnt = 0\n",
        "    for j in range(2, int(num**0.5) + 1):\n",
        "        if num%j == 0:\n",
        "            cnt += 1\n",
        "            break\n",
        "     \n",
        "      \n",
        "    if cnt == 0:\n",
        "        res.add(num)\n",
        "        \n",
        "    num += 1\n",
        "\n",
        "print(res)\n",
        "\n"
      ]
    },
    {
      "cell_type": "code",
      "execution_count": 83,
      "metadata": {},
      "outputs": [
        {
          "data": {
            "text/plain": [
              "True"
            ]
          },
          "execution_count": 83,
          "metadata": {},
          "output_type": "execute_result"
        }
      ],
      "source": [
        "#22. Check if two sets are identical.\n",
        "a = {1,2,3}\n",
        "b = {4,5,6}\n",
        "c = {1,3,2}\n",
        "\n",
        "a == c"
      ]
    },
    {
      "cell_type": "code",
      "execution_count": 85,
      "metadata": {},
      "outputs": [
        {
          "name": "stdout",
          "output_type": "stream",
          "text": [
            "frozenset({1, 2, 3}) <class 'frozenset'>\n"
          ]
        }
      ],
      "source": [
        "#23. Create a frozen set.\n",
        "\n",
        "fz = frozenset([1,2,3])\n",
        "print(fz, type(fz))"
      ]
    },
    {
      "cell_type": "code",
      "execution_count": 88,
      "metadata": {},
      "outputs": [
        {
          "data": {
            "text/plain": [
              "False"
            ]
          },
          "execution_count": 88,
          "metadata": {},
          "output_type": "execute_result"
        }
      ],
      "source": [
        "#24. Check if as set is disjoint with another set.\n",
        "\n",
        "a = {1,2,3}\n",
        "b = {2,3}\n",
        "a.isdisjoint(b)"
      ]
    },
    {
      "cell_type": "code",
      "execution_count": 90,
      "metadata": {},
      "outputs": [
        {
          "name": "stdout",
          "output_type": "stream",
          "text": [
            "{1, 4, 9, 16, 25}\n"
          ]
        }
      ],
      "source": [
        "#25. Create a set of squares of numbers from 1 to 5.\n",
        "\n",
        "sq = {i**2 for i in range(1,6)}\n",
        "print(sq)"
      ]
    },
    {
      "cell_type": "code",
      "execution_count": 91,
      "metadata": {},
      "outputs": [
        {
          "name": "stdout",
          "output_type": "stream",
          "text": [
            "{2, 4, 6}\n"
          ]
        }
      ],
      "source": [
        "#26. Filter out all even numbers from a set.\n",
        "\n",
        "a = {1,2,3,4,5,6}\n",
        "\n",
        "res = {i for i in a if i%2==0}\n",
        "print(res)"
      ]
    },
    {
      "cell_type": "code",
      "execution_count": 92,
      "metadata": {},
      "outputs": [
        {
          "name": "stdout",
          "output_type": "stream",
          "text": [
            "{2, 4, 6, 8, 10, 12}\n"
          ]
        }
      ],
      "source": [
        "#27. Multiply all elements in set by 2.\n",
        "a = {1,2,3,4,5,6}\n",
        "\n",
        "res = {2*i for i in a}\n",
        "print(res)"
      ]
    },
    {
      "cell_type": "code",
      "execution_count": 94,
      "metadata": {},
      "outputs": [
        {
          "name": "stdout",
          "output_type": "stream",
          "text": [
            "{5, 11, 80, 50, 20, 52, 87, 56, 29, 30}\n"
          ]
        }
      ],
      "source": [
        "#28. Create a set of random numbers.\n",
        "\n",
        "import random\n",
        "\n",
        "res = {random.randint(1,100) for _ in range(10)}\n",
        "print(res)"
      ]
    },
    {
      "cell_type": "code",
      "execution_count": 95,
      "metadata": {},
      "outputs": [
        {
          "name": "stdout",
          "output_type": "stream",
          "text": [
            "Set is not empty\n"
          ]
        }
      ],
      "source": [
        "#29. Check if a set is empty.\n",
        "a = {1,2,3}\n",
        "if not a:\n",
        "    print(\"set is empty\")\n",
        "else:\n",
        "    print(\"Set is not empty\")"
      ]
    },
    {
      "cell_type": "code",
      "execution_count": 98,
      "metadata": {},
      "outputs": [
        {
          "name": "stdout",
          "output_type": "stream",
          "text": [
            "{1, 2, 3, frozenset({4, 5, 6})}\n"
          ]
        }
      ],
      "source": [
        "#30. Create a nested set.\n",
        "a = {1,2,3, frozenset({4,5,6})}\n",
        "print(a)"
      ]
    },
    {
      "cell_type": "code",
      "execution_count": 99,
      "metadata": {},
      "outputs": [
        {
          "name": "stdout",
          "output_type": "stream",
          "text": [
            "{1, 3, 4}\n"
          ]
        }
      ],
      "source": [
        "#31. Remove an element from a set using the discard method.\n",
        "\n",
        "a = {1,2,3,4}\n",
        "a.discard(2)\n",
        "print(a)"
      ]
    },
    {
      "cell_type": "code",
      "execution_count": 100,
      "metadata": {},
      "outputs": [
        {
          "data": {
            "text/plain": [
              "True"
            ]
          },
          "execution_count": 100,
          "metadata": {},
          "output_type": "execute_result"
        }
      ],
      "source": [
        "#32. Compare two sets.\n",
        "a = {1, 2, 3}\n",
        "b = {1, 2, 3}\n",
        "\n",
        "a==b"
      ]
    },
    {
      "cell_type": "code",
      "execution_count": 102,
      "metadata": {},
      "outputs": [
        {
          "name": "stdout",
          "output_type": "stream",
          "text": [
            "{'f', 'a', 'e', 'd', 'c', 'b'}\n"
          ]
        }
      ],
      "source": [
        "#33. Create a set from a string.\n",
        "\n",
        "a = set(\"abcdef\")\n",
        "print(a)"
      ]
    },
    {
      "cell_type": "code",
      "execution_count": 103,
      "metadata": {},
      "outputs": [
        {
          "name": "stdout",
          "output_type": "stream",
          "text": [
            "{1, 2, 3}\n"
          ]
        }
      ],
      "source": [
        "#34. Convert a set of string to a set of integers.\n",
        "set_str = {'1' , '2', '3'}\n",
        "set_int = {int(i) for i in set_str}\n",
        "print(set_int)"
      ]
    },
    {
      "cell_type": "code",
      "execution_count": 104,
      "metadata": {},
      "outputs": [
        {
          "name": "stdout",
          "output_type": "stream",
          "text": [
            "{'3', '2', '1', '4'}\n"
          ]
        }
      ],
      "source": [
        "#35. Convert a set of integers to a set of strings.\n",
        "set_str = {1,2,3,4}\n",
        "set_int = {str(i) for i in set_str}\n",
        "print(set_int)"
      ]
    },
    {
      "cell_type": "code",
      "execution_count": 106,
      "metadata": {},
      "outputs": [
        {
          "data": {
            "text/plain": [
              "{1, 2, 3, 4}"
            ]
          },
          "execution_count": 106,
          "metadata": {},
          "output_type": "execute_result"
        }
      ],
      "source": [
        "#36. Create a set from a tuple.\n",
        "\n",
        "set((1,2,3,4))"
      ]
    },
    {
      "cell_type": "code",
      "execution_count": 107,
      "metadata": {},
      "outputs": [
        {
          "data": {
            "text/plain": [
              "(1, 2, 3, 4, 5, 6)"
            ]
          },
          "execution_count": 107,
          "metadata": {},
          "output_type": "execute_result"
        }
      ],
      "source": [
        "#37. Convert a set to a tuple.\n",
        "\n",
        "tuple({1,2,3,4,5,6})"
      ]
    },
    {
      "cell_type": "code",
      "execution_count": 108,
      "metadata": {},
      "outputs": [
        {
          "data": {
            "text/plain": [
              "5"
            ]
          },
          "execution_count": 108,
          "metadata": {},
          "output_type": "execute_result"
        }
      ],
      "source": [
        "#38. Find the maximum value in a set.\n",
        "a = {1,2,3,4,5}\n",
        "max(a)"
      ]
    },
    {
      "cell_type": "code",
      "execution_count": 109,
      "metadata": {},
      "outputs": [
        {
          "data": {
            "text/plain": [
              "1"
            ]
          },
          "execution_count": 109,
          "metadata": {},
          "output_type": "execute_result"
        }
      ],
      "source": [
        "#39. Find the minimum value in a set.\n",
        "a = {1,2,3,4,5,6}\n",
        "min(a)"
      ]
    },
    {
      "cell_type": "code",
      "execution_count": 5,
      "metadata": {},
      "outputs": [
        {
          "name": "stdout",
          "output_type": "stream",
          "text": [
            "{1, 2, 3, 4, 5}\n"
          ]
        }
      ],
      "source": [
        "#40. Create a set from user input.\n",
        "a = set(map(int, input(\"Enter elements\").split()))\n",
        "print(a)"
      ]
    },
    {
      "cell_type": "code",
      "execution_count": 6,
      "metadata": {},
      "outputs": [
        {
          "name": "stdout",
          "output_type": "stream",
          "text": [
            "No common element\n"
          ]
        }
      ],
      "source": [
        "#41. Check if the intersection of two sets is empty.\n",
        "a = {1,2,3}\n",
        "b = {4,5,6}\n",
        "\n",
        "if not a.intersection(b):\n",
        "    print(\"No common element\")\n",
        "else:\n",
        "    print(\"There are common elements\")"
      ]
    },
    {
      "cell_type": "code",
      "execution_count": null,
      "metadata": {},
      "outputs": [],
      "source": []
    },
    {
      "cell_type": "code",
      "execution_count": 14,
      "metadata": {},
      "outputs": [
        {
          "name": "stdout",
          "output_type": "stream",
          "text": [
            "{0, 1, 2, 3}\n"
          ]
        }
      ],
      "source": [
        "#42. Create a set of the first 5 Fibonacci numbers.\n",
        "a = 0\n",
        "b = 1\n",
        "res = [0,1]\n",
        "for i in range(3):\n",
        "    b, a = a+b, b\n",
        "    res.append(b)\n",
        "print(set(res))"
      ]
    },
    {
      "cell_type": "code",
      "execution_count": 15,
      "metadata": {},
      "outputs": [
        {
          "name": "stdout",
          "output_type": "stream",
          "text": [
            "{1, 2, 3, 4, 5}\n"
          ]
        }
      ],
      "source": [
        "#43. Remove duplicates from a list using sets.\n",
        "a = [1,2,3,4,5,1,2,3]\n",
        "\n",
        "print(set(a))"
      ]
    },
    {
      "cell_type": "code",
      "execution_count": 16,
      "metadata": {},
      "outputs": [
        {
          "name": "stdout",
          "output_type": "stream",
          "text": [
            "Same elements\n"
          ]
        }
      ],
      "source": [
        "#44. Check if two sets have the same elements, regardsless of their count.\n",
        "a = {1,2,3,4}\n",
        "b = {2,3,4}\n",
        "\n",
        "flag = True\n",
        "for i in b:\n",
        "    if i not in a:\n",
        "        flag = False\n",
        "        break\n",
        "if flag:\n",
        "    print(\"Same elements\")\n",
        "else:\n",
        "    print(\"Different elements\")\n"
      ]
    },
    {
      "cell_type": "code",
      "execution_count": 17,
      "metadata": {},
      "outputs": [
        {
          "name": "stdout",
          "output_type": "stream",
          "text": [
            "{1, 2, 4, 8, 16}\n"
          ]
        }
      ],
      "source": [
        "#45. Create a set of the first 'n' powers of 2.\n",
        "n= 5\n",
        "res = {2**i for i in range(n)}\n",
        "print(res)"
      ]
    },
    {
      "cell_type": "code",
      "execution_count": 18,
      "metadata": {},
      "outputs": [
        {
          "data": {
            "text/plain": [
              "{1, 2}"
            ]
          },
          "execution_count": 18,
          "metadata": {},
          "output_type": "execute_result"
        }
      ],
      "source": [
        "#46. Find the common elements between a set and a list.\n",
        "\n",
        "a = {1,2,3,4}\n",
        "b = [1,2]\n",
        "\n",
        "a.intersection(b)"
      ]
    },
    {
      "cell_type": "code",
      "execution_count": 23,
      "metadata": {},
      "outputs": [
        {
          "name": "stdout",
          "output_type": "stream",
          "text": [
            "{1, 3, 36, 6, 10, 45, 15, 21, 28}\n"
          ]
        }
      ],
      "source": [
        "#47. Create a set of the first 'n' triangular numbers.\n",
        "result = 0\n",
        "res = { n*(n+1)//2 for n in range(1, 10)}\n",
        "\n",
        "print(res)"
      ]
    },
    {
      "cell_type": "code",
      "execution_count": 24,
      "metadata": {},
      "outputs": [
        {
          "data": {
            "text/plain": [
              "False"
            ]
          },
          "execution_count": 24,
          "metadata": {},
          "output_type": "execute_result"
        }
      ],
      "source": [
        "#48. Check if a set contains another set as a subset.\n",
        "a = {1,2,3,4}\n",
        "b = {4,5}\n",
        "a.issubset(b)"
      ]
    },
    {
      "cell_type": "code",
      "execution_count": 27,
      "metadata": {},
      "outputs": [
        {
          "name": "stdout",
          "output_type": "stream",
          "text": [
            "{0}\n"
          ]
        }
      ],
      "source": [
        "#49. Create a set of alternating 1s and 0s of length n.\n",
        "res = {0 if i%2 == 0 else 1 for _ in range(10)}\n",
        "print(res)"
      ]
    },
    {
      "cell_type": "code",
      "execution_count": 29,
      "metadata": {},
      "outputs": [
        {
          "name": "stdout",
          "output_type": "stream",
          "text": [
            "{1, 2, 3, 4, 5, 6}\n"
          ]
        }
      ],
      "source": [
        "#50. Merge multiple sets into one.\n",
        "a = {1,2,3}\n",
        "b = {4,5,6}\n",
        "a.update(b)\n",
        "print(a)"
      ]
    },
    {
      "cell_type": "code",
      "execution_count": null,
      "metadata": {},
      "outputs": [],
      "source": []
    }
  ],
  "metadata": {
    "colab": {
      "provenance": []
    },
    "kernelspec": {
      "display_name": "Python 3",
      "name": "python3"
    },
    "language_info": {
      "codemirror_mode": {
        "name": "ipython",
        "version": 3
      },
      "file_extension": ".py",
      "mimetype": "text/x-python",
      "name": "python",
      "nbconvert_exporter": "python",
      "pygments_lexer": "ipython3",
      "version": "3.12.4"
    }
  },
  "nbformat": 4,
  "nbformat_minor": 0
}
